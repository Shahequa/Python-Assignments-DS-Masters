{
 "cells": [
  {
   "cell_type": "markdown",
   "id": "5894617d-8a5a-42b2-bdac-1f1d0866f0c5",
   "metadata": {},
   "source": [
    "### Python Assignment 7\n",
    "*By Shahequa Modabbera*"
   ]
  },
  {
   "cell_type": "markdown",
   "id": "ee60ed5b-5472-451a-8a01-72ac965818ba",
   "metadata": {},
   "source": [
    "Q1. Create a function which will take a list as an argument and return the product of all the numbers\n",
    "after creating a flat list.\n",
    "\n",
    "Use the below-given list as an argument for your function.\n",
    "\n",
    "`list1 = [1,2,3,4, [44,55,66, True], False, (34,56,78,89,34), {1,2,3,3,2,1}, {1:34, \"key2\": [55, 67, 78, 89], 4: (45,\n",
    "22, 61, 34)}, [56, 'data science'], 'Machine Learning']`\n",
    "\n",
    "Note: you must extract numeric keys and values of the dictionary also."
   ]
  },
  {
   "cell_type": "code",
   "execution_count": 1,
   "id": "6c38b7bf-7639-4ce7-962f-3dc8e41c1fb1",
   "metadata": {},
   "outputs": [
    {
     "name": "stdout",
     "output_type": "stream",
     "text": [
      "\n",
      "Given list: [1, 2, 3, 4, [44, 55, 66, True], False, (34, 56, 78, 89, 34), {1, 2, 3}, {1: 34, 'key2': [55, 67, 78, 89], 4: (45, 22, 61, 34)}, [56, 'data science'], 'Machine Learning']\n",
      "\n",
      "The flat list with all the elements is: [1, 2, 3, 4, 44, 55, 66, True, False, 34, 56, 78, 89, 34, 1, 2, 3, 1, 'key2', 4, 34, 55, 67, 78, 89, 45, 22, 61, 34, 56, 'data science', 'Machine Learning']\n",
      "\n",
      "The list with all the numeric values is: [1, 2, 3, 4, 44, 55, 66, 34, 56, 78, 89, 34, 1, 2, 3, 1, 4, 34, 55, 67, 78, 89, 45, 22, 61, 34, 56]\n",
      "\n",
      "The product of all the numeric values is: 4134711838987085478833841242112000\n"
     ]
    }
   ],
   "source": [
    "list1 = [1,2,3,4, [44,55,66, True], False, (34,56,78,89,34), {1,2,3,3,2,1}, {1:34, \"key2\": [55, 67, 78, 89],\n",
    "        4: (45, 22, 61, 34)}, [56, 'data science'], 'Machine Learning']\n",
    "\n",
    "print(\"\\nGiven list:\", list1)\n",
    "\n",
    "from functools import reduce\n",
    "\n",
    "def num_product(list1):\n",
    "    flat_list = []\n",
    "    for i in list1:\n",
    "        if type(i) in (tuple, list):\n",
    "            for j in i:\n",
    "                flat_list.append(j)\n",
    "        elif type(i) in (int, float, str, bool):\n",
    "            flat_list.append(i)\n",
    "        elif type(i) == set:\n",
    "            for j in i:\n",
    "                flat_list.append(j)\n",
    "        else:\n",
    "            for j in i.keys():\n",
    "                flat_list.append(j)\n",
    "            for k in i.values():\n",
    "                if type(k) == int:\n",
    "                    flat_list.append(k)\n",
    "                else:\n",
    "                    for r in k:\n",
    "                        flat_list.append(r)\n",
    "\n",
    "    num_list = list(filter(lambda x: type(x)==int, flat_list))\n",
    "        \n",
    "    product_list = reduce(lambda x,y: x*y, num_list)\n",
    "    return flat_list, num_list, product_list\n",
    "\n",
    "flat_list, num_list, product_list = num_product(list1)\n",
    "\n",
    "print(\"\\nThe flat list with all the elements is:\",flat_list) \n",
    "print(\"\\nThe list with all the numeric values is:\", num_list)\n",
    "print(\"\\nThe product of all the numeric values is:\", product_list)"
   ]
  },
  {
   "cell_type": "markdown",
   "id": "fc1eae51-df63-46aa-968d-df3f2bef26b8",
   "metadata": {},
   "source": [
    "Q2. Write a python program for encrypting a message sent to you by your friend. The logic of encryption\n",
    "should be such that, for a the output should be z. For b, the output should be y. For c, the output should\n",
    "be x respectively. Also, the whitespace should be replaced with a dollar sign. Keep the punctuation\n",
    "marks unchanged.\n",
    "\n",
    "`Input Sentence: I want to become a Data Scientist.`\n",
    "\n",
    "Encrypt the above input sentence using the program you just created.\n",
    "\n",
    "Note: Convert the given input sentence into lowercase before encrypting. The final output should be\n",
    "lowercase."
   ]
  },
  {
   "cell_type": "code",
   "execution_count": 2,
   "id": "ee43f374-4f1c-4de7-b372-da6038647092",
   "metadata": {},
   "outputs": [
    {
     "name": "stdout",
     "output_type": "stream",
     "text": [
      "Given string: I want to become a Data Scientist.\n",
      "\n",
      "Encrypted message: r$dzmg$gl$yvxlnv$z$wzgz$hxrvmgrhg.\n"
     ]
    }
   ],
   "source": [
    "sent_msg = \"I want to become a Data Scientist.\"\n",
    "\n",
    "def encrypt_msg(sent_msg):\n",
    "    l_sent_msg = sent_msg.lower()\n",
    "    print(f\"Given string: {sent_msg}\\n\")\n",
    "    \n",
    "    new_msg = \"\"\n",
    "    \n",
    "    for i in l_sent_msg:\n",
    "        ascii_num = ord(i)\n",
    "        if ascii_num >= 97 and ascii_num <= 122:\n",
    "            new_msg = new_msg + chr(122 - (ascii_num - 97))\n",
    "            \n",
    "        elif i == \" \":\n",
    "            new_msg = new_msg + \"$\"\n",
    "            \n",
    "        else:\n",
    "            new_msg = new_msg + i\n",
    "            \n",
    "    print(f\"Encrypted message: {new_msg}\")\n",
    "    \n",
    "encrypt_msg(sent_msg)        "
   ]
  }
 ],
 "metadata": {
  "kernelspec": {
   "display_name": "Python 3 (ipykernel)",
   "language": "python",
   "name": "python3"
  },
  "language_info": {
   "codemirror_mode": {
    "name": "ipython",
    "version": 3
   },
   "file_extension": ".py",
   "mimetype": "text/x-python",
   "name": "python",
   "nbconvert_exporter": "python",
   "pygments_lexer": "ipython3",
   "version": "3.10.8"
  }
 },
 "nbformat": 4,
 "nbformat_minor": 5
}
