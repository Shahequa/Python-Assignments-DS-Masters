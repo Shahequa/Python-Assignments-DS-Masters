{
 "cells": [
  {
   "cell_type": "markdown",
   "id": "903a51d3-6f05-4e87-98c7-cbeba52992a1",
   "metadata": {},
   "source": [
    "## Numpy Assignment - Basic\n",
    "***By Shahequa Modabbera***"
   ]
  },
  {
   "cell_type": "markdown",
   "id": "5954ac24-e45d-46f4-8b57-e2bcc2781b1a",
   "metadata": {},
   "source": [
    "### Consider the below code to answer further questions:\n",
    "    import numpy as np\n",
    "    list_ = [ ‘1’ , ’2’ , ‘3’ , ‘4’ , ‘5’ ]\n",
    "    array_list = np.array(object = list_)"
   ]
  },
  {
   "cell_type": "code",
   "execution_count": 1,
   "id": "14c0d09a-dcd4-42b4-aaff-415032ca327d",
   "metadata": {},
   "outputs": [],
   "source": [
    "import numpy as np\n",
    "list_ = ['1','2','3','4','5']\n",
    "array_list = np.array(object=list_)"
   ]
  },
  {
   "cell_type": "markdown",
   "id": "526430a2-775f-4e85-b716-a1e19a8943ad",
   "metadata": {},
   "source": [
    "### Q1. Is there any difference in the data type of variables list_ and array_list? If there is then write a code to print the data types of both the variables."
   ]
  },
  {
   "cell_type": "markdown",
   "id": "17c9395f-749a-4933-bafb-837761bb6060",
   "metadata": {},
   "source": [
    "`Ans) Yes, there is a difference in the data type of variables list_ and array_list.` \n",
    "\n",
    "`list_ is a Python list that contains string objects, while array_list is a NumPy array that contains numpy array of string objects.` \n",
    "\n",
    "`However, the data type of the objects in array_list is different from the data type of objects in list_. The elements in list_ are of type str, while the elements in array_list are of type numpy.str_.`"
   ]
  },
  {
   "cell_type": "code",
   "execution_count": 2,
   "id": "83d2d5b4-7b6f-41e1-9598-a113c5db85ab",
   "metadata": {},
   "outputs": [
    {
     "name": "stdout",
     "output_type": "stream",
     "text": [
      "Data type of list_: <class 'list'>\n",
      "Data type of element in list_: <class 'str'>\n",
      "Data type of array_list: <class 'numpy.ndarray'>\n",
      "Data type of element in array_list: <class 'numpy.str_'>\n"
     ]
    }
   ],
   "source": [
    "print(\"Data type of list_:\", type(list_))\n",
    "print(\"Data type of element in list_:\", type(list_[0]))\n",
    "print(\"Data type of array_list:\", type(array_list))\n",
    "print(\"Data type of element in array_list:\", type(array_list[0]))"
   ]
  },
  {
   "cell_type": "markdown",
   "id": "600bc437-ed4e-45a8-b5d7-655112adc0d3",
   "metadata": {},
   "source": [
    "### Q2. Write a code to print the data type of each and every element of both the variables list_ and array_list."
   ]
  },
  {
   "cell_type": "code",
   "execution_count": 3,
   "id": "54e27019-2c4e-4e8f-ad7d-953b85332493",
   "metadata": {},
   "outputs": [
    {
     "name": "stdout",
     "output_type": "stream",
     "text": [
      "The data type of 1 is <class 'str'>\n",
      "The data type of 2 is <class 'str'>\n",
      "The data type of 3 is <class 'str'>\n",
      "The data type of 4 is <class 'str'>\n",
      "The data type of 5 is <class 'str'>\n"
     ]
    }
   ],
   "source": [
    "for element in list_:\n",
    "    print(f'The data type of {element} is {type(element)}')"
   ]
  },
  {
   "cell_type": "code",
   "execution_count": 4,
   "id": "7524093b-33d9-48bb-b44e-346aaba99c6b",
   "metadata": {},
   "outputs": [
    {
     "name": "stdout",
     "output_type": "stream",
     "text": [
      "The data type of 1 is <class 'numpy.str_'>\n",
      "The data type of 2 is <class 'numpy.str_'>\n",
      "The data type of 3 is <class 'numpy.str_'>\n",
      "The data type of 4 is <class 'numpy.str_'>\n",
      "The data type of 5 is <class 'numpy.str_'>\n"
     ]
    }
   ],
   "source": [
    "for element in array_list:\n",
    "    print(f'The data type of {element} is {type(element)}')"
   ]
  },
  {
   "cell_type": "markdown",
   "id": "ecbd0ff4-6100-48b1-b458-67b4c5f86503",
   "metadata": {},
   "source": [
    "### Q3. Considering the following changes in the variable, array_list:\n",
    "    array_list = np.array(object = list_, dtype = int)\n",
    "### Will there be any difference in the data type of the elements present in both the variables, list_ and array_list? If so then print the data types of each and every element present in both the variables, list_ and array_list."
   ]
  },
  {
   "cell_type": "code",
   "execution_count": 5,
   "id": "20777524-2df9-4726-8e92-1a0a087bb0e1",
   "metadata": {},
   "outputs": [],
   "source": [
    "array_list = np.array(object=list_, dtype=int)"
   ]
  },
  {
   "cell_type": "code",
   "execution_count": 6,
   "id": "fa7c2170-bd07-4176-91c3-432c7efa99dc",
   "metadata": {},
   "outputs": [
    {
     "data": {
      "text/plain": [
       "numpy.int64"
      ]
     },
     "execution_count": 6,
     "metadata": {},
     "output_type": "execute_result"
    }
   ],
   "source": [
    "type(array_list[0])"
   ]
  },
  {
   "cell_type": "markdown",
   "id": "d85ce211-afb0-4cdf-97a2-61903fb825ac",
   "metadata": {},
   "source": [
    "`Ans) Yes, there will be a difference in the data type of the elements present in the variables list_ and array_list.`\n",
    "\n",
    "`The dtype=int parameter in np.array(object=list_, dtype=int) specifies that the data type of the elements in the resulting NumPy array will be integers. Since the input sequence (list_) contains strings, NumPy will try to convert each string element to an integer. If any element in the input sequence cannot be converted to an integer, a ValueError will be raised.`"
   ]
  },
  {
   "cell_type": "code",
   "execution_count": 7,
   "id": "0214270c-0f61-4b50-8a28-eb02e72868d2",
   "metadata": {},
   "outputs": [
    {
     "name": "stdout",
     "output_type": "stream",
     "text": [
      "The data type of 1 is <class 'str'>\n",
      "The data type of 2 is <class 'str'>\n",
      "The data type of 3 is <class 'str'>\n",
      "The data type of 4 is <class 'str'>\n",
      "The data type of 5 is <class 'str'>\n"
     ]
    }
   ],
   "source": [
    "for element in list_:\n",
    "    print(f'The data type of {element} is {type(element)}')"
   ]
  },
  {
   "cell_type": "code",
   "execution_count": 8,
   "id": "aa12c8cc-3bfc-4526-9204-1a9933da0cad",
   "metadata": {},
   "outputs": [
    {
     "name": "stdout",
     "output_type": "stream",
     "text": [
      "The data type of 1 is <class 'numpy.int64'>\n",
      "The data type of 2 is <class 'numpy.int64'>\n",
      "The data type of 3 is <class 'numpy.int64'>\n",
      "The data type of 4 is <class 'numpy.int64'>\n",
      "The data type of 5 is <class 'numpy.int64'>\n"
     ]
    }
   ],
   "source": [
    "for element in array_list:\n",
    "    print(f'The data type of {element} is {type(element)}')"
   ]
  },
  {
   "cell_type": "markdown",
   "id": "67815281-13ff-4e69-ba75-e7a07411e6ba",
   "metadata": {},
   "source": [
    "### Consider the below code to answer further questions:\n",
    "    import numpy as np\n",
    "    num_list = [ [ 1 , 2 , 3 ] , [ 4 , 5 , 6 ] ]\n",
    "    num_array = np.array(object = num_list)"
   ]
  },
  {
   "cell_type": "code",
   "execution_count": 9,
   "id": "d8bb11fb-d0d1-4537-a873-295a1091a33a",
   "metadata": {},
   "outputs": [],
   "source": [
    "import numpy as np\n",
    "num_list = [[1,2,3], [4,5,6]]\n",
    "num_array = np.array(object=num_list)"
   ]
  },
  {
   "cell_type": "markdown",
   "id": "f312035f-5329-448d-8857-306724db3544",
   "metadata": {},
   "source": [
    "### Q4. Write a code to find the following characteristics of variable, num_array:\n",
    "    (i) shape\n",
    "    (ii) size"
   ]
  },
  {
   "cell_type": "code",
   "execution_count": 10,
   "id": "a6302d5a-7345-4b8b-849c-fb9743894fb2",
   "metadata": {},
   "outputs": [
    {
     "data": {
      "text/plain": [
       "(2, 3)"
      ]
     },
     "execution_count": 10,
     "metadata": {},
     "output_type": "execute_result"
    }
   ],
   "source": [
    "num_array.shape"
   ]
  },
  {
   "cell_type": "code",
   "execution_count": 11,
   "id": "8af95419-b518-4519-a967-1ebc689cc77b",
   "metadata": {},
   "outputs": [
    {
     "data": {
      "text/plain": [
       "6"
      ]
     },
     "execution_count": 11,
     "metadata": {},
     "output_type": "execute_result"
    }
   ],
   "source": [
    "num_array.size"
   ]
  },
  {
   "cell_type": "markdown",
   "id": "6d638477-ea47-4cdd-9543-ad96b0d7bafd",
   "metadata": {},
   "source": [
    "`The shape of num_array is (2, 3), which means it has 2 rows and 3 columns.` \n",
    "\n",
    "`The size of num_array is 6, which is the total number of elements present in the array.`"
   ]
  },
  {
   "cell_type": "markdown",
   "id": "17137ce5-ac0f-4587-855e-36f82d12a6ca",
   "metadata": {},
   "source": [
    "### Q5. Write a code to create numpy array of 3*3 matrix containing zeros only, using a numpy array creation function.\n",
    "    [Hint: The size of the array will be 9 and the shape will be (3,3).]"
   ]
  },
  {
   "cell_type": "code",
   "execution_count": 12,
   "id": "0cb1f342-e213-4e0f-93c2-4669e5731a8b",
   "metadata": {},
   "outputs": [
    {
     "data": {
      "text/plain": [
       "array([[0., 0., 0.],\n",
       "       [0., 0., 0.],\n",
       "       [0., 0., 0.]])"
      ]
     },
     "execution_count": 12,
     "metadata": {},
     "output_type": "execute_result"
    }
   ],
   "source": [
    "##This numpy array function will show the matrix containing zeros\n",
    "ar = np.zeros((3,3))\n",
    "ar"
   ]
  },
  {
   "cell_type": "code",
   "execution_count": 13,
   "id": "460d6088-52c4-44a3-8a8d-7d60070b3a86",
   "metadata": {},
   "outputs": [
    {
     "data": {
      "text/plain": [
       "9"
      ]
     },
     "execution_count": 13,
     "metadata": {},
     "output_type": "execute_result"
    }
   ],
   "source": [
    "ar.size"
   ]
  },
  {
   "cell_type": "code",
   "execution_count": 14,
   "id": "bbccca6f-ec7f-4e07-9075-78c015acff22",
   "metadata": {},
   "outputs": [
    {
     "data": {
      "text/plain": [
       "(3, 3)"
      ]
     },
     "execution_count": 14,
     "metadata": {},
     "output_type": "execute_result"
    }
   ],
   "source": [
    "ar.shape"
   ]
  },
  {
   "cell_type": "markdown",
   "id": "a91c292d-adcc-4bef-9ba5-fb5ac4c4fc70",
   "metadata": {},
   "source": [
    "### Q6. Create an identity matrix of shape (5,5) using numpy functions.\n",
    "    [Hint: An identity matrix is a matrix containing 1 diagonally and other elements will be 0.]"
   ]
  },
  {
   "cell_type": "code",
   "execution_count": 15,
   "id": "8000a36b-925a-4961-ad8b-c9099970d425",
   "metadata": {},
   "outputs": [
    {
     "data": {
      "text/plain": [
       "array([[1., 0., 0., 0., 0.],\n",
       "       [0., 1., 0., 0., 0.],\n",
       "       [0., 0., 1., 0., 0.],\n",
       "       [0., 0., 0., 1., 0.],\n",
       "       [0., 0., 0., 0., 1.]])"
      ]
     },
     "execution_count": 15,
     "metadata": {},
     "output_type": "execute_result"
    }
   ],
   "source": [
    "##This numpy will create an identity matrix\n",
    "arr1 = np.eye(5)\n",
    "arr1"
   ]
  },
  {
   "cell_type": "code",
   "execution_count": 16,
   "id": "3132061f-6095-42b1-9ef0-bd8d2bcbf3ef",
   "metadata": {},
   "outputs": [
    {
     "data": {
      "text/plain": [
       "(5, 5)"
      ]
     },
     "execution_count": 16,
     "metadata": {},
     "output_type": "execute_result"
    }
   ],
   "source": [
    "arr1.shape"
   ]
  }
 ],
 "metadata": {
  "kernelspec": {
   "display_name": "Python 3 (ipykernel)",
   "language": "python",
   "name": "python3"
  },
  "language_info": {
   "codemirror_mode": {
    "name": "ipython",
    "version": 3
   },
   "file_extension": ".py",
   "mimetype": "text/x-python",
   "name": "python",
   "nbconvert_exporter": "python",
   "pygments_lexer": "ipython3",
   "version": "3.10.8"
  }
 },
 "nbformat": 4,
 "nbformat_minor": 5
}
