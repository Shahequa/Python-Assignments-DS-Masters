{
 "cells": [
  {
   "cell_type": "markdown",
   "id": "5d81dd06-613f-415e-9dd3-3e4276931e20",
   "metadata": {},
   "source": [
    "### Python Assignment 12 - Exception Handling - Part I\n",
    "*By Shahequa Modabbera*"
   ]
  },
  {
   "cell_type": "markdown",
   "id": "a0ec0df6-72c0-4d04-9890-60f1d0e632bd",
   "metadata": {},
   "source": [
    "### 1) What is Exception in Python? Write a difference between Exception and Syntax Error?"
   ]
  },
  {
   "cell_type": "markdown",
   "id": "43bba3a6-2eed-469b-972a-77fa09ea6bc1",
   "metadata": {},
   "source": [
    "`Ans) In Python, an exception is an event that occurs during the execution of a program that disrupts the normal flow of instructions. Exceptions are a way for programs to handle unexpected situations, such as errors or invalid inputs, in a controlled and graceful manner.`\n",
    "\n",
    "`On the other hand, a syntax error is a type of error that occurs when you write code that does not follow the syntax rules of the programming language. This means that the code you wrote is not valid Python code and the interpreter can't understand it. Syntax errors usually occur when you forget to add a colon at the end of a line or misspell a Python keyword, for example.`"
   ]
  },
  {
   "cell_type": "code",
   "execution_count": 1,
   "id": "423dd4bb-605e-4e1c-9714-67a25b0bca45",
   "metadata": {},
   "outputs": [
    {
     "ename": "SyntaxError",
     "evalue": "cannot assign to literal here. Maybe you meant '==' instead of '='? (1390644106.py, line 2)",
     "output_type": "error",
     "traceback": [
      "\u001b[0;36m  Cell \u001b[0;32mIn[1], line 2\u001b[0;36m\u001b[0m\n\u001b[0;31m    if 1 = 2:\u001b[0m\n\u001b[0m       ^\u001b[0m\n\u001b[0;31mSyntaxError\u001b[0m\u001b[0;31m:\u001b[0m cannot assign to literal here. Maybe you meant '==' instead of '='?\n"
     ]
    }
   ],
   "source": [
    "# This code will raise a syntax error\n",
    "if 1 = 2:\n",
    "    print(\"This will never be printed\")"
   ]
  },
  {
   "cell_type": "markdown",
   "id": "a2de3085-64b2-4e71-bf01-e6cf7097b0cf",
   "metadata": {},
   "source": [
    "In this code, we're using the assignment operator (=) instead of the equality operator (==) in the if statement, which is not allowed in Python. This will raise a syntax error.\n",
    "\n",
    "In contrast, an example of an exception is a ZeroDivisionError, which occurs when you try to divide a number by zero:"
   ]
  },
  {
   "cell_type": "code",
   "execution_count": 2,
   "id": "511f1cb1-e4f9-4a20-8b87-9f5432698421",
   "metadata": {},
   "outputs": [
    {
     "ename": "ZeroDivisionError",
     "evalue": "division by zero",
     "output_type": "error",
     "traceback": [
      "\u001b[0;31m---------------------------------------------------------------------------\u001b[0m",
      "\u001b[0;31mZeroDivisionError\u001b[0m                         Traceback (most recent call last)",
      "Cell \u001b[0;32mIn[2], line 2\u001b[0m\n\u001b[1;32m      1\u001b[0m \u001b[38;5;66;03m# This code will raise a ZeroDivisionError\u001b[39;00m\n\u001b[0;32m----> 2\u001b[0m x \u001b[38;5;241m=\u001b[39m \u001b[38;5;241;43m5\u001b[39;49m\u001b[43m \u001b[49m\u001b[38;5;241;43m/\u001b[39;49m\u001b[43m \u001b[49m\u001b[38;5;241;43m0\u001b[39;49m\n",
      "\u001b[0;31mZeroDivisionError\u001b[0m: division by zero"
     ]
    }
   ],
   "source": [
    "# This code will raise a ZeroDivisionError\n",
    "x = 5 / 0"
   ]
  },
  {
   "cell_type": "markdown",
   "id": "9f3a70dd-68aa-4124-ad47-1de04e4f3663",
   "metadata": {},
   "source": [
    "In this code, we're trying to divide the number 5 by 0, which is not allowed in math. This will raise a ZeroDivisionError.\n",
    "\n",
    "`The key difference between exceptions and syntax errors is that exceptions occur during the execution of a program when a problem arises, while syntax errors occur during the parsing stage of the code, before the program is executed. Syntax errors are easier to fix since the interpreter will usually give you an error message telling you exactly what went wrong. Exceptions, on the other hand, are more difficult to anticipate and handle since they can occur at any point during the program's execution.`\n",
    "\n",
    "`In summary, exceptions are a way for programs to handle unexpected situations during execution, while syntax errors are caused by invalid code that doesn't follow the language's syntax rules.`"
   ]
  },
  {
   "cell_type": "markdown",
   "id": "bfc8d63d-1e8a-42fd-99f1-25c41672ae72",
   "metadata": {},
   "source": [
    "### 2) What happens if an exception is not handled? Explain with an example."
   ]
  },
  {
   "cell_type": "markdown",
   "id": "18bbd1d4-e79f-4a8f-a83b-6681e4fb29ac",
   "metadata": {},
   "source": [
    "`Ans) If an exception is not handled in Python, it will cause the program to crash and stop running. This can be a problem if you're trying to write a robust program that can handle unexpected input or errors.`\n",
    "\n",
    "`Here's an example of what happens when an exception is not handled in Python:`"
   ]
  },
  {
   "cell_type": "code",
   "execution_count": 3,
   "id": "cff4c234-5ac1-4298-ac5d-61361a447baf",
   "metadata": {},
   "outputs": [
    {
     "ename": "ZeroDivisionError",
     "evalue": "division by zero",
     "output_type": "error",
     "traceback": [
      "\u001b[0;31m---------------------------------------------------------------------------\u001b[0m",
      "\u001b[0;31mZeroDivisionError\u001b[0m                         Traceback (most recent call last)",
      "Cell \u001b[0;32mIn[3], line 2\u001b[0m\n\u001b[1;32m      1\u001b[0m \u001b[38;5;66;03m# Try to divide 5 by 0, which will cause a ZeroDivisionError\u001b[39;00m\n\u001b[0;32m----> 2\u001b[0m x \u001b[38;5;241m=\u001b[39m \u001b[38;5;241;43m5\u001b[39;49m\u001b[43m \u001b[49m\u001b[38;5;241;43m/\u001b[39;49m\u001b[43m \u001b[49m\u001b[38;5;241;43m0\u001b[39;49m\n\u001b[1;32m      4\u001b[0m \u001b[38;5;66;03m# This line of code will never run because the program crashes on the line above\u001b[39;00m\n\u001b[1;32m      5\u001b[0m \u001b[38;5;28mprint\u001b[39m(\u001b[38;5;124m\"\u001b[39m\u001b[38;5;124mThe result is:\u001b[39m\u001b[38;5;124m\"\u001b[39m, x)\n",
      "\u001b[0;31mZeroDivisionError\u001b[0m: division by zero"
     ]
    }
   ],
   "source": [
    "# Try to divide 5 by 0, which will cause a ZeroDivisionError\n",
    "x = 5 / 0\n",
    "\n",
    "# This line of code will never run because the program crashes on the line above\n",
    "print(\"The result is:\", x)"
   ]
  },
  {
   "cell_type": "markdown",
   "id": "ab7295e1-70c0-4793-89f9-460da126d7b8",
   "metadata": {},
   "source": [
    "In this example, we're trying to divide the number 5 by 0, which is not allowed in math. This will cause a ZeroDivisionError exception to be raised.\n",
    "\n",
    "Because we haven't handled the exception, the program will crash and stop running before it gets to the next line of code that tries to print the result. So the output of the program will be an error message, rather than the expected result.\n",
    "\n",
    "To handle an exception in Python, you can use a try-except block. Here's an example:"
   ]
  },
  {
   "cell_type": "code",
   "execution_count": 4,
   "id": "fc82a672-abe9-48d0-8308-30a69aba7da9",
   "metadata": {},
   "outputs": [
    {
     "name": "stdout",
     "output_type": "stream",
     "text": [
      "Error: You can't divide by zero!\n"
     ]
    }
   ],
   "source": [
    "# Try to divide 5 by 0, but handle the ZeroDivisionError exception\n",
    "try:\n",
    "    x = 5 / 0\n",
    "    print(\"The result is:\", x)\n",
    "\n",
    "except ZeroDivisionError:\n",
    "    print(\"Error: You can't divide by zero!\")"
   ]
  },
  {
   "cell_type": "markdown",
   "id": "7483fb9c-4da5-4cda-bf14-11ce96f8683c",
   "metadata": {},
   "source": [
    "In this example, we're using a try-except block to try to divide 5 by 0. If a ZeroDivisionError exception is raised, we handle it by printing an error message instead of crashing the program. So the output of this program will be the error message \"Error: You can't divide by zero!\"."
   ]
  },
  {
   "cell_type": "markdown",
   "id": "66a6756e-4c0c-4f82-9e75-97ce5cb0291f",
   "metadata": {},
   "source": [
    "### 3) Which Python statements are used to catch and handle exceptions? Explain with an example."
   ]
  },
  {
   "cell_type": "markdown",
   "id": "708a36ff-6a1a-4f08-8717-7618f887e57b",
   "metadata": {},
   "source": [
    "`Ans) The try and except block in Python is used to catch and handle exceptions. Python executes code following the try statement as a “normal” part of the program. The code that follows the except statement is the program’s response to any exceptions in the preceding try clause.`\n",
    "\n",
    "`When syntactically correct code runs into an error, Python will throw an exception error. This exception error will crash the program if it is unhandled. The except clause determines how our program responds to exceptions.`\n",
    "\n",
    "`When an exception occurs in a program running the function, the program will continue as well as inform us about the fact that the function call was not successful.`"
   ]
  },
  {
   "cell_type": "code",
   "execution_count": 5,
   "id": "ca2e9844-31ff-44c1-a520-316beaa74166",
   "metadata": {},
   "outputs": [
    {
     "name": "stdout",
     "output_type": "stream",
     "text": [
      "This is my except block  [Errno 2] No such file or directory: 'no_file.txt'\n"
     ]
    },
    {
     "data": {
      "text/plain": [
       "9"
      ]
     },
     "execution_count": 5,
     "metadata": {},
     "output_type": "execute_result"
    }
   ],
   "source": [
    "try:\n",
    "    f = open(\"no_file.txt\", 'r') ###no such file is created\n",
    "except FileNotFoundError as e:   ##FileNotFoundError is a specific exception for the file which is not found\n",
    "    print(\"This is my except block \", e)\n",
    "\n",
    "##here, the program will still run and gives the addition    \n",
    "a = 4+5\n",
    "a"
   ]
  },
  {
   "cell_type": "markdown",
   "id": "098e28b8-1ee3-49cb-bdfc-bfcb7fb2a62b",
   "metadata": {},
   "source": [
    "### 4) Explain with an example:\n",
    "***a)try and else***\n",
    "\n",
    "***b)finally***\n",
    "\n",
    "***c)raise***"
   ]
  },
  {
   "cell_type": "markdown",
   "id": "83589d55-b298-4b64-88be-fb1ba8a62cda",
   "metadata": {},
   "source": [
    "`Sometimes we might have a use case where we want to run some specific code only when there are no exceptions. For such scenarios, the else keyword can be used with the try block. When an exception is not raised, it flows into the optional else block.`"
   ]
  },
  {
   "cell_type": "code",
   "execution_count": 6,
   "id": "2b6b4782-294c-4723-bb99-3a2bd49597b7",
   "metadata": {},
   "outputs": [
    {
     "name": "stdout",
     "output_type": "stream",
     "text": [
      "This wil be executed once your try will execute without error\n"
     ]
    }
   ],
   "source": [
    "#Example\n",
    "try:\n",
    "    f = open(\"test11.txt\", 'w') ##file created\n",
    "    f.write(\"write into my file\")\n",
    "except Exception as e:\n",
    "    print(\"This is my except block \", e)\n",
    "else:\n",
    "    f.close()\n",
    "    print(\"This wil be executed once your try will execute without error\")"
   ]
  },
  {
   "cell_type": "markdown",
   "id": "5d4293ae-23ee-444c-b62b-a9c269e9d8da",
   "metadata": {},
   "source": [
    "`Finally is a keyword that is used along with try and except, when we have a piece of code that is to be run irrespective of if try raises an exception or not. Code inside finally will always run after try and catch.`"
   ]
  },
  {
   "cell_type": "code",
   "execution_count": 7,
   "id": "c1b57188-6c4f-4d24-9cfa-8f2fecf0584b",
   "metadata": {},
   "outputs": [
    {
     "name": "stdout",
     "output_type": "stream",
     "text": [
      "in exception block:  list index out of range\n",
      "in finally block\n"
     ]
    }
   ],
   "source": [
    "try:\n",
    "    temp = [1, 2, 3]\n",
    "    temp[4]  ##index out of range\n",
    "except Exception as e:\n",
    "    print('in exception block: ', e)  ##will raise an exception\n",
    "else:\n",
    "    print('in else block')  ##will not be printed\n",
    "finally:\n",
    "    print('in finally block') ##will get triggered irrespective of any exceptions raised or not"
   ]
  },
  {
   "cell_type": "markdown",
   "id": "b40b80da-501e-448d-8466-dfc67b1e6baa",
   "metadata": {},
   "source": [
    "`Even though exceptions in python are automatically raised in runtime when some error occurs. Custom and predefined exceptions can also be thrown manually by raising it for specific conditions or a scenario using the raise keyword.`"
   ]
  },
  {
   "cell_type": "code",
   "execution_count": 8,
   "id": "63a76668-3227-43e4-a7c2-44908dd0b66a",
   "metadata": {},
   "outputs": [
    {
     "name": "stdout",
     "output_type": "stream",
     "text": [
      "TypeError raised: a has to be string\n"
     ]
    }
   ],
   "source": [
    "def isStringEmpty(a):\n",
    "    if(type(a)!=str):\n",
    "        raise TypeError('a has to be string')\n",
    "    if(not a):\n",
    "        raise ValueError('a cannot be null')\n",
    "    a.strip()\n",
    "    if(a == ''):\n",
    "        return False\n",
    "    return True\n",
    " \n",
    "try:\n",
    "    a = 89\n",
    "    print('isStringEmpty:', isStringEmpty(a))\n",
    "except ValueError as e:\n",
    "    print('ValueError raised:', e)\n",
    "except TypeError as e:\n",
    "    print('TypeError raised:', e)"
   ]
  },
  {
   "cell_type": "markdown",
   "id": "9b97e730-133b-49a5-9fd1-bdc7e90131d2",
   "metadata": {},
   "source": [
    "### 5) What are Custom Exceptions in Python? Why do we need Custom Exceptions? Explain with an example."
   ]
  },
  {
   "cell_type": "markdown",
   "id": "2cc6c783-9e0d-4aeb-a629-acf7b5e4c91d",
   "metadata": {},
   "source": [
    "`Ans) In Python, custom exceptions are user-defined exceptions that allow us to define our own types of exceptions to handle specific error conditions in our code. Custom exceptions are useful when we need to raise an exception that is specific to our application or domain, and not covered by the built-in exception types.`\n",
    "\n",
    "`To define a custom exception in Python, we need to create a new class that inherits from the built-in Exception class. We can then define any additional attributes or methods that we need for our custom exception.`\n",
    "\n",
    "`Custom exceptions are useful when we want to provide more specific and detailed error messages to help users understand what went wrong and how to fix it. For example, if we're building a banking application, we might define a custom exception called InsufficientFundsError to handle situations where a user tries to withdraw more money than they have in their account. This would allow us to provide a clear and informative error message to the user instead of a generic ValueError or Exception message.`"
   ]
  },
  {
   "cell_type": "markdown",
   "id": "360eceb0-0043-40bc-bdb6-bd0c6aa5eeb7",
   "metadata": {},
   "source": [
    "### 6) Create a Custom Exception class. Use this class to handle an exception."
   ]
  },
  {
   "cell_type": "code",
   "execution_count": 9,
   "id": "df25b9bf-650e-42dd-ada3-6f34b733928b",
   "metadata": {},
   "outputs": [
    {
     "name": "stdout",
     "output_type": "stream",
     "text": [
      "Error: -4 is a negative number\n"
     ]
    }
   ],
   "source": [
    "class NegativeNumberError(Exception):\n",
    "    def __init__(self, number):\n",
    "        self.number = number\n",
    "\n",
    "    def __str__(self):\n",
    "        return f\"Error: {self.number} is a negative number\"\n",
    "\n",
    "\n",
    "def calculate_square_root(number):\n",
    "    if number < 0:\n",
    "        raise NegativeNumberError(number)\n",
    "    else:\n",
    "        return math.sqrt(number)\n",
    "\n",
    "try:\n",
    "    result = calculate_square_root(-4)\n",
    "except NegativeNumberError as e:\n",
    "    print(e)\n",
    "else:\n",
    "    print(result)"
   ]
  },
  {
   "cell_type": "markdown",
   "id": "beb893f9-2797-4599-95d8-ef9f57249ac2",
   "metadata": {},
   "source": [
    "In this example, we've defined a custom exception class called `NegativeNumberError`. This class inherits from the built-in `Exception` class and takes a `number` argument when an instance of the class is created. We've also defined a `__str__` method to provide a string representation of the exception when it's printed.\n",
    "\n",
    "We then define a function called `calculate_square_root` that takes a number as input and checks if it's negative. If it's negative, we raise a `NegativeNumberError` exception with the input number. If it's not negative, we calculate the square root of the number using the built-in `math.sqrt` function.\n",
    "\n",
    "We wrap the function call in a `try-except` block to catch the `NegativeNumberError` exception and print the error message. If no exception is raised, we print the result of the calculation.\n",
    "\n",
    "When we run this code with the input `-4`, the `calculate_square_root` function raises a `NegativeNumberError` exception, which is caught by the `try-except` block and prints the error message `\"Error: -4 is a negative number\"`. If we had called the function with a non-negative input, it would have calculated the square root and printed the result instead."
   ]
  }
 ],
 "metadata": {
  "kernelspec": {
   "display_name": "Python 3 (ipykernel)",
   "language": "python",
   "name": "python3"
  },
  "language_info": {
   "codemirror_mode": {
    "name": "ipython",
    "version": 3
   },
   "file_extension": ".py",
   "mimetype": "text/x-python",
   "name": "python",
   "nbconvert_exporter": "python",
   "pygments_lexer": "ipython3",
   "version": "3.10.8"
  }
 },
 "nbformat": 4,
 "nbformat_minor": 5
}
