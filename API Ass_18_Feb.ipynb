{
 "cells": [
  {
   "cell_type": "markdown",
   "id": "b4427829-0ac0-43c3-afe4-b2db9b363967",
   "metadata": {},
   "source": [
    "### API Assignment \n",
    "*By Shahequa Modabbera*"
   ]
  },
  {
   "cell_type": "markdown",
   "id": "ec8dc85a-fa1e-4949-a82c-f0f7fcefb641",
   "metadata": {},
   "source": [
    "### Q1. What is an API? Give an example, where an API is used in real life."
   ]
  },
  {
   "cell_type": "markdown",
   "id": "8f3889a3-8ebc-4993-ba12-afe613141579",
   "metadata": {},
   "source": [
    "`Ans) An API, or application programming interface, is a set of defined rules that enable different applications to communicate with each other. APIs are an accessible way to extract and share data within and across organizations. APIs are all around us. Every time we use a rideshare app, send a mobile payment, or change the thermostat temperature from our phone, we're using an API.`\n",
    "\n",
    "#### Example:\n",
    "`A popular API example is the function that enables people to log in to websites by using their Facebook, Twitter, or Google profile login details. This convenient feature allows any website to leverage an API from one of the more popular services for quick authentication, saving them the time and hassle of setting up a new profile for every web application or new membership.`"
   ]
  },
  {
   "cell_type": "markdown",
   "id": "b3fa7ed5-18d0-40b7-9a0d-9d94f755a455",
   "metadata": {},
   "source": [
    "### Q2. Give advantages and disadvantages of using API."
   ]
  },
  {
   "cell_type": "markdown",
   "id": "48471f2b-de1c-4cd5-8591-c9ab6494e91f",
   "metadata": {},
   "source": [
    "`Ans)`\n",
    "#### Advantages of API:\n",
    "\n",
    "       (i)Increased Interoperability: API solutions enable different software systems to communicate with each other, regardless of their programming language or platform. This enhances the interoperability between systems, allowing for the exchange of data and functionality.\n",
    "       \n",
    "    (ii)Improved Efficiency: API driven infrastructures enable developers to reuse code and functionality from existing software systems, saving time and reducing the amount of code that needs to be written from scratch.\n",
    "    \n",
    "    (iii)Better User Experience: APIs can enable third-party developers to create applications that integrate with existing software systems, providing a better user experience and increased functionality.\n",
    "    \n",
    "    (iv)Increased Flexibility: APIs provide developers with greater flexibility, enabling them to choose the best programming languages and frameworks for their needs.\n",
    "    \n",
    "    (v)New Revenue Streams: APIs can enable companies to create new revenue streams by providing third-party developers with access to their software systems.\n",
    "\n",
    "#### Disadvantages of API:\n",
    "\n",
    "    (i)Security Concerns: API infrastructures can be vulnerable to security breaches, such as SQL injection attacks and cross-site scripting (XSS) attacks, making it crucial to implement security measures to protect against these threats.\n",
    "    \n",
    "    (ii)Complexity: APIs can be complex, requiring a significant amount of development effort to implement and maintain.\n",
    "    \n",
    "    (iii)Compatibility Issues: APIs can have compatibility issues between different versions of the same software system or between different systems, which can lead to errors and system failures.\n",
    "    \n",
    "    (iv)Dependency on Third-Party Developers: APIs rely on third-party developers to create applications that integrate with the software system. This can create dependencies that are outside of the control of the company that owns the software system.\n",
    "    \n",
    "    (v)Governance and Management: APIs require proper governance and management to ensure they are being used correctly and consistently across different applications and systems."
   ]
  },
  {
   "cell_type": "markdown",
   "id": "0f713c50-cb58-4c27-b5a4-752dedd7deb2",
   "metadata": {},
   "source": [
    "### Q3. What is a Web API? Differentiate between API and Web API."
   ]
  },
  {
   "cell_type": "markdown",
   "id": "a6281253-9734-4aff-94df-7a8adc515ef3",
   "metadata": {},
   "source": [
    "`Ans) Web API is an API as the name suggests, it can be accessed over the web using the HTTP protocol. It is a framework that helps you to create and develop HTTP based RESTFUL services. The web API can be developed by using different technologies such as java, ASP.NET, etc. Web API is used in either a web server or a web browser. Basically Web API is a web development concept. It is limited to Web Application’s client-side and also it does not include a web server or web browser details. If an application is to be used on a distributed system and to provide services on different devices like laptops, mobiles, etc then web API services are used. Web API is the enhanced form of the web application.`\n",
    "\n",
    "### Differences between API and Web API are as per below:\n",
    "|Features        |      API                           |      Web API                      |\n",
    "|:------:|:------------------------------|:----------------------------|\n",
    "| Access | Can be accessed through various channels, including desktop applications, mobile apps, and embedded systems | Specifically designed to be accessed over the web using HTTP |\n",
    "| Protocol | May use different communication protocols and data formats depending on their design | Typically use standard web technologies such as REST or SOAP |\n",
    "| Resource | Can provide access to various types of services and resources, such as operating system functions, hardware devices, or databases | Provide access to web-based services and resources such as databases, file systems, or other web services |\n",
    "| Integration | Can be integrated with a wide range of software systems and applications | Often integrated with web-based software systems and applications |\n",
    "| Security | Security protocols can vary depending on the design and implementation of the API | Typically use standard web security protocols such as OAuth or SSL/TLS |\n",
    "| Examples | Operating system APIs, hardware APIs, database APIs, etc. | AlphaVantage API, Google Maps API, Twitter API, Facebook API, etc. |"
   ]
  },
  {
   "cell_type": "markdown",
   "id": "1dbfb096-a8b2-4a7f-8b03-c52a5b7b783d",
   "metadata": {},
   "source": [
    "### Q4. Explain REST and SOAP Architecture. Mention shortcomings of SOAP."
   ]
  },
  {
   "cell_type": "markdown",
   "id": "06961ebd-7021-46ae-af80-4c16fec6fd8a",
   "metadata": {},
   "source": [
    "`Ans)`\n",
    "#### SOAP Architecture:\n",
    "`Simple Object Access Protocol(SOAP) is a network protocol for exchanging structured data between nodes. It uses XML format to transfer messages. It works on top of application layer protocols like HTML and SMTP for notations and transmission. SOAP allows processes to communicate throughout platforms, languages and operating systems, since protocols like HTTP are already installed on all platforms.`\n",
    "\n",
    "#### REST Architecture\n",
    "`Representational State Transfer (REST) is an architectural style that defines a set of constraints to be used for creating web services. REST API is a way of accessing web services in a simple and flexible way without having any processing.`\n",
    "\n",
    "`Working: A request is sent from client to server in the form of a web URL as HTTP GET or POST or PUT or DELETE request. After that, a response comes back from the server in the form of a resource which can be anything like HTML, XML, Image, or JSON. But now JSON is the most popular format being used in Web Services.` \n",
    "\n",
    "`In HTTP there are five methods that are commonly used in a REST-based Architecture i.e., POST, GET, PUT, PATCH, and DELETE. These correspond to create, read, update, and delete (or CRUD) operations respectively. There are other methods which are less frequently used like OPTIONS and HEAD.`\n",
    "\n",
    "#### Shortcomings of SOAP API:\n",
    "\n",
    "    (i)Highly complex: In comparison to Rest, SOAP is significantly more complex. It's also less flexible. This might present a challenge for developers that are not highly skilled. The extensive processing required may also slow down performance.\n",
    "   \n",
    "    (ii)No variety of data formats: SOAP is also extremely limited in its support of data formats. The formats supported by Rest include HTML, JSON, YAML, XML and others. Meanwhile, SOAP only supports XML.\n",
    "    \n",
    "    (iii)API calls are not cached: The process where a request is sent after an API is set up with the correct endpoints is referred to as an API call. The process results in the information being transferred, processed and feedback being provided. It's not possible for SOAP API calls to be cached.\n",
    "    \n",
    "    (iv)Uses more bandwidth: SOAP is generally slower in comparison to Rest and it also uses more bandwidth given its very complex nature. It’s another limiting factor in the efficacy of this technology for certain projects."
   ]
  },
  {
   "cell_type": "markdown",
   "id": "594063be-ff25-4a22-9d18-48a6dcdab76c",
   "metadata": {},
   "source": [
    "### Q5. Differentiate between REST and SOAP."
   ]
  },
  {
   "cell_type": "markdown",
   "id": "2cfa6a51-c059-41ea-b103-972ebe5cadf1",
   "metadata": {},
   "source": [
    "`Ans)`\n",
    "\n",
    "    (i)SOAP stands for Simple Object Access Protocol and REST stands for Representational State Transfer.\n",
    "    \n",
    "    (ii)Since SOAP is a protocol, it follows a strict standard to allow communication between the client and the server whereas REST is an architectural style that doesn’t follow any strict standard but follows six constraints defined by Roy Fielding in 2000. Those constraints are – Uniform Interface, Client-Server, Stateless, Cacheable, Layered System, Code on Demand.\n",
    "    \n",
    "    (iii)SOAP uses only XML for exchanging information in its message format whereas REST is not restricted to XML and its the choice of implementer which Media-Type to use like XML, JSON, Plain-text. Moreover, REST can use SOAP protocol but SOAP cannot use REST.\n",
    "    \n",
    "    (iv)On behalf of services interfaces to business logic, SOAP uses @WebService whereas REST instead of using interfaces uses URI like @Path.\n",
    "    \n",
    "    (v)SOAP is difficult to implement and it requires more bandwidth whereas REST is easy to implement and requires less bandwidth such as smartphones.\n",
    "    \n",
    "    (vi)Benefits of SOAP over REST as SOAP has ACID compliance transaction. Some of the applications require transaction ability which is accepted by SOAP whereas REST lacks in it.\n",
    "    \n",
    "    (vii)On the basis of Security, SOAP has SSL( Secure Socket Layer) and WS-security whereas REST has SSL and HTTPS. In the case of Bank Account Password, Card Number, etc. SOAP is preferred over REST. The security issue is all about your application requirement, you have to build security on your own. It’s about what type of protocol you use.\n",
    "    \n",
    "    (viii)SOAP cannot make use of REST since SOAP is a protocol without any architectural pattern. REST can make use of SOAP because it is an architectural pattern having protocol."
   ]
  }
 ],
 "metadata": {
  "kernelspec": {
   "display_name": "Python 3 (ipykernel)",
   "language": "python",
   "name": "python3"
  },
  "language_info": {
   "codemirror_mode": {
    "name": "ipython",
    "version": 3
   },
   "file_extension": ".py",
   "mimetype": "text/x-python",
   "name": "python",
   "nbconvert_exporter": "python",
   "pygments_lexer": "ipython3",
   "version": "3.10.8"
  }
 },
 "nbformat": 4,
 "nbformat_minor": 5
}
