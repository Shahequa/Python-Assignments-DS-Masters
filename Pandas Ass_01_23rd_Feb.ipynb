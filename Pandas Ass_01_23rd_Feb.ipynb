{
 "cells": [
  {
   "cell_type": "markdown",
   "id": "4e0cbcc0-2a11-418d-a372-c5bdcf1bc07e",
   "metadata": {},
   "source": [
    "## Pandas Assignment - I\n",
    "***By Shahequa Modabbera***"
   ]
  },
  {
   "cell_type": "markdown",
   "id": "55d14c20-44f5-4dbc-a7a5-fdc77607ed64",
   "metadata": {},
   "source": [
    "```\n",
    "Q1. Create a Pandas Series that contains the following data: 4, 8, 15, 16, 23, and 42. Then, print the series.\n",
    "```"
   ]
  },
  {
   "cell_type": "code",
   "execution_count": 1,
   "id": "b11946e4-6a0f-4a97-8215-7ee4001b5295",
   "metadata": {},
   "outputs": [
    {
     "data": {
      "text/plain": [
       "0     4\n",
       "1     8\n",
       "2    15\n",
       "3    16\n",
       "4    23\n",
       "5    42\n",
       "dtype: int64"
      ]
     },
     "execution_count": 1,
     "metadata": {},
     "output_type": "execute_result"
    }
   ],
   "source": [
    "import pandas as pd\n",
    "series1 = pd.Series([4, 8, 15, 16, 23, 42])\n",
    "series1"
   ]
  },
  {
   "cell_type": "markdown",
   "id": "ce5601a5-1012-4c7c-bf04-f54c0e8c5437",
   "metadata": {},
   "source": [
    "```\n",
    "Q2. Create a variable of list type containing 10 elements in it, and apply pandas.Series function on the\n",
    "variable print it.\n",
    "```"
   ]
  },
  {
   "cell_type": "code",
   "execution_count": 2,
   "id": "0f746d7c-15f6-473f-8f44-deafd740f741",
   "metadata": {},
   "outputs": [
    {
     "data": {
      "text/plain": [
       "0      1\n",
       "1      4\n",
       "2      9\n",
       "3     16\n",
       "4     25\n",
       "5     36\n",
       "6     49\n",
       "7     64\n",
       "8     81\n",
       "9    100\n",
       "dtype: int64"
      ]
     },
     "execution_count": 2,
     "metadata": {},
     "output_type": "execute_result"
    }
   ],
   "source": [
    "list1 = [(i+1)**2 for i in range(10)]\n",
    "series2 = pd.Series(list1)\n",
    "series2"
   ]
  },
  {
   "cell_type": "markdown",
   "id": "61c450df-172e-4022-8cd7-937cb01b080f",
   "metadata": {},
   "source": [
    "```\n",
    "Q3. Create a Pandas DataFrame that contains the following data:\n",
    "```\n",
    "\n",
    "|   Name    |     Age   |    Gender |\n",
    "| --------- | --------- | --------- |\n",
    "|   Alice   |    25     |  Female   | \n",
    "|   Bob     |    30     |  Male     |\n",
    "|   Claire  |    27     |  Female   |\n",
    "\n",
    "```\n",
    "Then, print the DataFrame.\n",
    "```"
   ]
  },
  {
   "cell_type": "code",
   "execution_count": 3,
   "id": "0a4594c1-b75a-4c22-a99a-8ed4337d4a31",
   "metadata": {},
   "outputs": [
    {
     "data": {
      "text/html": [
       "<div>\n",
       "<style scoped>\n",
       "    .dataframe tbody tr th:only-of-type {\n",
       "        vertical-align: middle;\n",
       "    }\n",
       "\n",
       "    .dataframe tbody tr th {\n",
       "        vertical-align: top;\n",
       "    }\n",
       "\n",
       "    .dataframe thead th {\n",
       "        text-align: right;\n",
       "    }\n",
       "</style>\n",
       "<table border=\"1\" class=\"dataframe\">\n",
       "  <thead>\n",
       "    <tr style=\"text-align: right;\">\n",
       "      <th></th>\n",
       "      <th>Name</th>\n",
       "      <th>Age</th>\n",
       "      <th>Gender</th>\n",
       "    </tr>\n",
       "  </thead>\n",
       "  <tbody>\n",
       "    <tr>\n",
       "      <th>0</th>\n",
       "      <td>Alice</td>\n",
       "      <td>25</td>\n",
       "      <td>Female</td>\n",
       "    </tr>\n",
       "    <tr>\n",
       "      <th>1</th>\n",
       "      <td>Bob</td>\n",
       "      <td>30</td>\n",
       "      <td>Male</td>\n",
       "    </tr>\n",
       "    <tr>\n",
       "      <th>2</th>\n",
       "      <td>Claire</td>\n",
       "      <td>27</td>\n",
       "      <td>Female</td>\n",
       "    </tr>\n",
       "  </tbody>\n",
       "</table>\n",
       "</div>"
      ],
      "text/plain": [
       "     Name  Age  Gender\n",
       "0   Alice   25  Female\n",
       "1     Bob   30    Male\n",
       "2  Claire   27  Female"
      ]
     },
     "execution_count": 3,
     "metadata": {},
     "output_type": "execute_result"
    }
   ],
   "source": [
    "df = pd.DataFrame({\"Name\": ['Alice', 'Bob', 'Claire'],\n",
    "                    \"Age\": [25, 30, 27],\n",
    "                 \"Gender\": ['Female', 'Male', 'Female']\n",
    "                  })\n",
    "df"
   ]
  },
  {
   "cell_type": "markdown",
   "id": "7d7667f0-853f-4e28-96c7-574412f8d32b",
   "metadata": {},
   "source": [
    "```\n",
    "Q4. What is ‘DataFrame’ in pandas and how is it different from pandas.series? Explain with an example.\n",
    "```"
   ]
  },
  {
   "cell_type": "markdown",
   "id": "4528c5ba-47d8-41c9-a65b-9fbf6196158d",
   "metadata": {},
   "source": [
    "`Ans) The Pandas DataFrame is a two-dimensional data structure composed of columns and rows. We can think of the DataFrame as similar to a CSV or relational database table. It is a primary object in Pandas and is used to represent and manipulate data with rows and columns.`\n",
    "\n",
    "`The Pandas Series data structure is a one-dimensional labelled array. It is the primary building block for a DataFrame, making up its rows and columns. It is similar to a column in a DataFrame.`"
   ]
  },
  {
   "cell_type": "code",
   "execution_count": 4,
   "id": "3e0914dc-13a3-4dc0-bde7-191f1eef0472",
   "metadata": {},
   "outputs": [
    {
     "name": "stdout",
     "output_type": "stream",
     "text": [
      "DataFrame:\n",
      "     Name  Age  Gender\n",
      "0   Alice   25  Female\n",
      "1     Bob   30    Male\n",
      "2  Claire   27  Female\n",
      "\n",
      "Series:\n",
      "0     Alice\n",
      "1       Bob\n",
      "2    Claire\n",
      "Name: Name, dtype: object\n"
     ]
    }
   ],
   "source": [
    "import pandas as pd\n",
    "\n",
    "##Creating a DataFrame\n",
    "df1 = pd.DataFrame({\"Name\": ['Alice', 'Bob', 'Claire'],\n",
    "                    \"Age\": [25, 30, 27],\n",
    "                 \"Gender\": ['Female', 'Male', 'Female']\n",
    "                  })\n",
    "\n",
    "##Creating a Series from the DataFrame\n",
    "names = df1['Name']\n",
    "\n",
    "##Printing the DataFrame and Series\n",
    "print(\"DataFrame:\")\n",
    "print(df1)\n",
    "print()\n",
    "print(\"Series:\")\n",
    "print(names)"
   ]
  },
  {
   "cell_type": "code",
   "execution_count": 5,
   "id": "6a59cd6d-90a8-44e5-8834-b9df0153870c",
   "metadata": {},
   "outputs": [
    {
     "data": {
      "text/plain": [
       "pandas.core.frame.DataFrame"
      ]
     },
     "execution_count": 5,
     "metadata": {},
     "output_type": "execute_result"
    }
   ],
   "source": [
    "##Checking type of DataFrame\n",
    "type(df1)"
   ]
  },
  {
   "cell_type": "code",
   "execution_count": 6,
   "id": "bf2ef21e-749d-40c3-a666-efbfc9106778",
   "metadata": {},
   "outputs": [
    {
     "data": {
      "text/plain": [
       "pandas.core.series.Series"
      ]
     },
     "execution_count": 6,
     "metadata": {},
     "output_type": "execute_result"
    }
   ],
   "source": [
    "##Checking type of Series\n",
    "type(names)"
   ]
  },
  {
   "cell_type": "markdown",
   "id": "34393443-ed0a-4c13-be3c-86f6ea46ec5e",
   "metadata": {},
   "source": [
    "```\n",
    "Q5. What are some common functions you can use to manipulate data in a Pandas DataFrame? Can you give an example of when you might use one of these functions?\n",
    "```"
   ]
  },
  {
   "cell_type": "markdown",
   "id": "c01455ae-9845-498e-9138-f795975514ae",
   "metadata": {},
   "source": [
    "`Ans) Pandas provides many functions to manipulate data in a DataFrame. Here are some common functions that can be used to manipulate data in a Pandas DataFrame:`"
   ]
  },
  {
   "cell_type": "markdown",
   "id": "25cf3387-5582-4189-af02-560a56c5933d",
   "metadata": {},
   "source": [
    "1) head() and tail(): These functions are used to view the first or last n rows of a DataFrame respectively. They are useful to quickly inspect the structure and contents of a DataFrame."
   ]
  },
  {
   "cell_type": "code",
   "execution_count": 7,
   "id": "96fe5b68-c4a1-4f8a-be42-24aa6dda2ec5",
   "metadata": {},
   "outputs": [],
   "source": [
    "import pandas as pd\n",
    "#Create a DataFrame\n",
    "df = pd.DataFrame({\"Name\": ['Alice', 'Bob', 'Claire', 'Alex', 'Tom', 'Jerry'],\n",
    "                    \"Age\": [25, 30, 27, 34, 32, None],\n",
    "                 \"Gender\": ['Female', 'Male', 'Female', 'Male', 'Male', 'Male'],\n",
    "                   \"City\": ['Pune', 'Delhi', 'Mumbai', None, 'Pune', 'Bangalore'],\n",
    "                   \"Salary\": [40000, None, 90000, 80000, 50000, 60000]\n",
    "                  })"
   ]
  },
  {
   "cell_type": "code",
   "execution_count": 8,
   "id": "d162f278-d30c-46e6-874a-4971a9d474f8",
   "metadata": {},
   "outputs": [
    {
     "data": {
      "text/html": [
       "<div>\n",
       "<style scoped>\n",
       "    .dataframe tbody tr th:only-of-type {\n",
       "        vertical-align: middle;\n",
       "    }\n",
       "\n",
       "    .dataframe tbody tr th {\n",
       "        vertical-align: top;\n",
       "    }\n",
       "\n",
       "    .dataframe thead th {\n",
       "        text-align: right;\n",
       "    }\n",
       "</style>\n",
       "<table border=\"1\" class=\"dataframe\">\n",
       "  <thead>\n",
       "    <tr style=\"text-align: right;\">\n",
       "      <th></th>\n",
       "      <th>Name</th>\n",
       "      <th>Age</th>\n",
       "      <th>Gender</th>\n",
       "      <th>City</th>\n",
       "      <th>Salary</th>\n",
       "    </tr>\n",
       "  </thead>\n",
       "  <tbody>\n",
       "    <tr>\n",
       "      <th>0</th>\n",
       "      <td>Alice</td>\n",
       "      <td>25.0</td>\n",
       "      <td>Female</td>\n",
       "      <td>Pune</td>\n",
       "      <td>40000.0</td>\n",
       "    </tr>\n",
       "  </tbody>\n",
       "</table>\n",
       "</div>"
      ],
      "text/plain": [
       "    Name   Age  Gender  City   Salary\n",
       "0  Alice  25.0  Female  Pune  40000.0"
      ]
     },
     "execution_count": 8,
     "metadata": {},
     "output_type": "execute_result"
    }
   ],
   "source": [
    "df.head(1)"
   ]
  },
  {
   "cell_type": "code",
   "execution_count": 9,
   "id": "0a94fb2d-6f93-4031-b4a4-a07e52b2abea",
   "metadata": {},
   "outputs": [
    {
     "data": {
      "text/html": [
       "<div>\n",
       "<style scoped>\n",
       "    .dataframe tbody tr th:only-of-type {\n",
       "        vertical-align: middle;\n",
       "    }\n",
       "\n",
       "    .dataframe tbody tr th {\n",
       "        vertical-align: top;\n",
       "    }\n",
       "\n",
       "    .dataframe thead th {\n",
       "        text-align: right;\n",
       "    }\n",
       "</style>\n",
       "<table border=\"1\" class=\"dataframe\">\n",
       "  <thead>\n",
       "    <tr style=\"text-align: right;\">\n",
       "      <th></th>\n",
       "      <th>Name</th>\n",
       "      <th>Age</th>\n",
       "      <th>Gender</th>\n",
       "      <th>City</th>\n",
       "      <th>Salary</th>\n",
       "    </tr>\n",
       "  </thead>\n",
       "  <tbody>\n",
       "    <tr>\n",
       "      <th>5</th>\n",
       "      <td>Jerry</td>\n",
       "      <td>NaN</td>\n",
       "      <td>Male</td>\n",
       "      <td>Bangalore</td>\n",
       "      <td>60000.0</td>\n",
       "    </tr>\n",
       "  </tbody>\n",
       "</table>\n",
       "</div>"
      ],
      "text/plain": [
       "    Name  Age Gender       City   Salary\n",
       "5  Jerry  NaN   Male  Bangalore  60000.0"
      ]
     },
     "execution_count": 9,
     "metadata": {},
     "output_type": "execute_result"
    }
   ],
   "source": [
    "df.tail(1)"
   ]
  },
  {
   "cell_type": "markdown",
   "id": "666ecd23-9752-431a-81aa-b224bbbb28bf",
   "metadata": {},
   "source": [
    "2) describe(): This function is used to compute summary statistics of a DataFrame, such as count, mean, standard deviation, minimum, and maximum values. It is useful to quickly get a sense of the distribution and range of values in a DataFrame. "
   ]
  },
  {
   "cell_type": "code",
   "execution_count": 10,
   "id": "34d6b9d2-33df-4faa-ade5-dadff81f99fb",
   "metadata": {},
   "outputs": [
    {
     "data": {
      "text/html": [
       "<div>\n",
       "<style scoped>\n",
       "    .dataframe tbody tr th:only-of-type {\n",
       "        vertical-align: middle;\n",
       "    }\n",
       "\n",
       "    .dataframe tbody tr th {\n",
       "        vertical-align: top;\n",
       "    }\n",
       "\n",
       "    .dataframe thead th {\n",
       "        text-align: right;\n",
       "    }\n",
       "</style>\n",
       "<table border=\"1\" class=\"dataframe\">\n",
       "  <thead>\n",
       "    <tr style=\"text-align: right;\">\n",
       "      <th></th>\n",
       "      <th>Age</th>\n",
       "      <th>Salary</th>\n",
       "    </tr>\n",
       "  </thead>\n",
       "  <tbody>\n",
       "    <tr>\n",
       "      <th>count</th>\n",
       "      <td>5.000000</td>\n",
       "      <td>5.000000</td>\n",
       "    </tr>\n",
       "    <tr>\n",
       "      <th>mean</th>\n",
       "      <td>29.600000</td>\n",
       "      <td>64000.000000</td>\n",
       "    </tr>\n",
       "    <tr>\n",
       "      <th>std</th>\n",
       "      <td>3.646917</td>\n",
       "      <td>20736.441353</td>\n",
       "    </tr>\n",
       "    <tr>\n",
       "      <th>min</th>\n",
       "      <td>25.000000</td>\n",
       "      <td>40000.000000</td>\n",
       "    </tr>\n",
       "    <tr>\n",
       "      <th>25%</th>\n",
       "      <td>27.000000</td>\n",
       "      <td>50000.000000</td>\n",
       "    </tr>\n",
       "    <tr>\n",
       "      <th>50%</th>\n",
       "      <td>30.000000</td>\n",
       "      <td>60000.000000</td>\n",
       "    </tr>\n",
       "    <tr>\n",
       "      <th>75%</th>\n",
       "      <td>32.000000</td>\n",
       "      <td>80000.000000</td>\n",
       "    </tr>\n",
       "    <tr>\n",
       "      <th>max</th>\n",
       "      <td>34.000000</td>\n",
       "      <td>90000.000000</td>\n",
       "    </tr>\n",
       "  </tbody>\n",
       "</table>\n",
       "</div>"
      ],
      "text/plain": [
       "             Age        Salary\n",
       "count   5.000000      5.000000\n",
       "mean   29.600000  64000.000000\n",
       "std     3.646917  20736.441353\n",
       "min    25.000000  40000.000000\n",
       "25%    27.000000  50000.000000\n",
       "50%    30.000000  60000.000000\n",
       "75%    32.000000  80000.000000\n",
       "max    34.000000  90000.000000"
      ]
     },
     "execution_count": 10,
     "metadata": {},
     "output_type": "execute_result"
    }
   ],
   "source": [
    "df.describe()"
   ]
  },
  {
   "cell_type": "markdown",
   "id": "86656f1d-12b1-4de2-b914-d698a305429b",
   "metadata": {},
   "source": [
    "3) dropna(): This function removes any row with missing values."
   ]
  },
  {
   "cell_type": "code",
   "execution_count": 11,
   "id": "3b07b7c4-27c2-4867-b583-4afe3392d41b",
   "metadata": {},
   "outputs": [
    {
     "data": {
      "text/html": [
       "<div>\n",
       "<style scoped>\n",
       "    .dataframe tbody tr th:only-of-type {\n",
       "        vertical-align: middle;\n",
       "    }\n",
       "\n",
       "    .dataframe tbody tr th {\n",
       "        vertical-align: top;\n",
       "    }\n",
       "\n",
       "    .dataframe thead th {\n",
       "        text-align: right;\n",
       "    }\n",
       "</style>\n",
       "<table border=\"1\" class=\"dataframe\">\n",
       "  <thead>\n",
       "    <tr style=\"text-align: right;\">\n",
       "      <th></th>\n",
       "      <th>Name</th>\n",
       "      <th>Age</th>\n",
       "      <th>Gender</th>\n",
       "      <th>City</th>\n",
       "      <th>Salary</th>\n",
       "    </tr>\n",
       "  </thead>\n",
       "  <tbody>\n",
       "    <tr>\n",
       "      <th>0</th>\n",
       "      <td>Alice</td>\n",
       "      <td>25.0</td>\n",
       "      <td>Female</td>\n",
       "      <td>Pune</td>\n",
       "      <td>40000.0</td>\n",
       "    </tr>\n",
       "    <tr>\n",
       "      <th>2</th>\n",
       "      <td>Claire</td>\n",
       "      <td>27.0</td>\n",
       "      <td>Female</td>\n",
       "      <td>Mumbai</td>\n",
       "      <td>90000.0</td>\n",
       "    </tr>\n",
       "    <tr>\n",
       "      <th>4</th>\n",
       "      <td>Tom</td>\n",
       "      <td>32.0</td>\n",
       "      <td>Male</td>\n",
       "      <td>Pune</td>\n",
       "      <td>50000.0</td>\n",
       "    </tr>\n",
       "  </tbody>\n",
       "</table>\n",
       "</div>"
      ],
      "text/plain": [
       "     Name   Age  Gender    City   Salary\n",
       "0   Alice  25.0  Female    Pune  40000.0\n",
       "2  Claire  27.0  Female  Mumbai  90000.0\n",
       "4     Tom  32.0    Male    Pune  50000.0"
      ]
     },
     "execution_count": 11,
     "metadata": {},
     "output_type": "execute_result"
    }
   ],
   "source": [
    "df.dropna(axis=0)"
   ]
  },
  {
   "cell_type": "markdown",
   "id": "25eb43c7-bf16-42e5-bbc2-3b9c15e52371",
   "metadata": {},
   "source": [
    "4) fillna(): This function fills missing values with a specified value or method."
   ]
  },
  {
   "cell_type": "code",
   "execution_count": 12,
   "id": "abf29795-a51a-44a2-94de-72251a5779a4",
   "metadata": {},
   "outputs": [
    {
     "data": {
      "text/html": [
       "<div>\n",
       "<style scoped>\n",
       "    .dataframe tbody tr th:only-of-type {\n",
       "        vertical-align: middle;\n",
       "    }\n",
       "\n",
       "    .dataframe tbody tr th {\n",
       "        vertical-align: top;\n",
       "    }\n",
       "\n",
       "    .dataframe thead th {\n",
       "        text-align: right;\n",
       "    }\n",
       "</style>\n",
       "<table border=\"1\" class=\"dataframe\">\n",
       "  <thead>\n",
       "    <tr style=\"text-align: right;\">\n",
       "      <th></th>\n",
       "      <th>Name</th>\n",
       "      <th>Age</th>\n",
       "      <th>Gender</th>\n",
       "      <th>City</th>\n",
       "      <th>Salary</th>\n",
       "    </tr>\n",
       "  </thead>\n",
       "  <tbody>\n",
       "    <tr>\n",
       "      <th>0</th>\n",
       "      <td>Alice</td>\n",
       "      <td>25.0</td>\n",
       "      <td>Female</td>\n",
       "      <td>Pune</td>\n",
       "      <td>40000.0</td>\n",
       "    </tr>\n",
       "    <tr>\n",
       "      <th>1</th>\n",
       "      <td>Bob</td>\n",
       "      <td>30.0</td>\n",
       "      <td>Male</td>\n",
       "      <td>Delhi</td>\n",
       "      <td>0.0</td>\n",
       "    </tr>\n",
       "    <tr>\n",
       "      <th>2</th>\n",
       "      <td>Claire</td>\n",
       "      <td>27.0</td>\n",
       "      <td>Female</td>\n",
       "      <td>Mumbai</td>\n",
       "      <td>90000.0</td>\n",
       "    </tr>\n",
       "    <tr>\n",
       "      <th>3</th>\n",
       "      <td>Alex</td>\n",
       "      <td>34.0</td>\n",
       "      <td>Male</td>\n",
       "      <td>0</td>\n",
       "      <td>80000.0</td>\n",
       "    </tr>\n",
       "    <tr>\n",
       "      <th>4</th>\n",
       "      <td>Tom</td>\n",
       "      <td>32.0</td>\n",
       "      <td>Male</td>\n",
       "      <td>Pune</td>\n",
       "      <td>50000.0</td>\n",
       "    </tr>\n",
       "    <tr>\n",
       "      <th>5</th>\n",
       "      <td>Jerry</td>\n",
       "      <td>0.0</td>\n",
       "      <td>Male</td>\n",
       "      <td>Bangalore</td>\n",
       "      <td>60000.0</td>\n",
       "    </tr>\n",
       "  </tbody>\n",
       "</table>\n",
       "</div>"
      ],
      "text/plain": [
       "     Name   Age  Gender       City   Salary\n",
       "0   Alice  25.0  Female       Pune  40000.0\n",
       "1     Bob  30.0    Male      Delhi      0.0\n",
       "2  Claire  27.0  Female     Mumbai  90000.0\n",
       "3    Alex  34.0    Male          0  80000.0\n",
       "4     Tom  32.0    Male       Pune  50000.0\n",
       "5   Jerry   0.0    Male  Bangalore  60000.0"
      ]
     },
     "execution_count": 12,
     "metadata": {},
     "output_type": "execute_result"
    }
   ],
   "source": [
    "df.fillna(0)"
   ]
  },
  {
   "cell_type": "markdown",
   "id": "8b300993-c318-4a9e-9c18-b589ee733a1d",
   "metadata": {},
   "source": [
    "5) groupby(): This function is used to group rows in a DataFrame based on one or more columns, and apply an aggregation function, such as mean, sum, count, or custom functions, to each group. It is useful to analyze the relationship between different variables in a dataset."
   ]
  },
  {
   "cell_type": "code",
   "execution_count": 13,
   "id": "08cfcf76-e445-4c2f-b0d7-f058bc085f1e",
   "metadata": {},
   "outputs": [
    {
     "data": {
      "text/html": [
       "<div>\n",
       "<style scoped>\n",
       "    .dataframe tbody tr th:only-of-type {\n",
       "        vertical-align: middle;\n",
       "    }\n",
       "\n",
       "    .dataframe tbody tr th {\n",
       "        vertical-align: top;\n",
       "    }\n",
       "\n",
       "    .dataframe thead th {\n",
       "        text-align: right;\n",
       "    }\n",
       "</style>\n",
       "<table border=\"1\" class=\"dataframe\">\n",
       "  <thead>\n",
       "    <tr style=\"text-align: right;\">\n",
       "      <th></th>\n",
       "      <th>Age</th>\n",
       "      <th>Salary</th>\n",
       "    </tr>\n",
       "    <tr>\n",
       "      <th>Gender</th>\n",
       "      <th></th>\n",
       "      <th></th>\n",
       "    </tr>\n",
       "  </thead>\n",
       "  <tbody>\n",
       "    <tr>\n",
       "      <th>Female</th>\n",
       "      <td>26.0</td>\n",
       "      <td>65000.000000</td>\n",
       "    </tr>\n",
       "    <tr>\n",
       "      <th>Male</th>\n",
       "      <td>32.0</td>\n",
       "      <td>63333.333333</td>\n",
       "    </tr>\n",
       "  </tbody>\n",
       "</table>\n",
       "</div>"
      ],
      "text/plain": [
       "         Age        Salary\n",
       "Gender                    \n",
       "Female  26.0  65000.000000\n",
       "Male    32.0  63333.333333"
      ]
     },
     "execution_count": 13,
     "metadata": {},
     "output_type": "execute_result"
    }
   ],
   "source": [
    "df.groupby('Gender').mean(numeric_only=True)"
   ]
  },
  {
   "cell_type": "markdown",
   "id": "d94613ac-b6bf-4958-87fa-82b78d002134",
   "metadata": {},
   "source": [
    "```\n",
    "Q6. Which of the following is mutable in nature:\n",
    "Series, DataFrame, Panel?\n",
    "```"
   ]
  },
  {
   "cell_type": "markdown",
   "id": "f3155b36-1108-4af2-b83e-8019c3f7a3a9",
   "metadata": {},
   "source": [
    "`Ans) Series are mutable, which means that we can change the value of an element in the series after it has been initialized.`\n",
    "\n",
    "`DataFrames are both value-mutable and size-mutable (Series, by contrast, is only value-mutable, not size-mutable. The length of a Series cannot be changed although the values can be changed). This lets us perform operations that would alter values held within the DataFrame or add/delete columns to/from the DataFrame.`\n",
    "\n",
    "`A Panel is a 3D array. It is not as widely used as Series or DataFrames. It is not as easily displayed on screen or visualized as the other two because of its 3D nature. It is generally used for 3D time-series data. It is both value-mutable and size-mutable.`"
   ]
  },
  {
   "cell_type": "markdown",
   "id": "d8ac9d67-8674-4cce-be8d-296ba4909b25",
   "metadata": {},
   "source": [
    "```\n",
    "Q7. Create a DataFrame using multiple Series. Explain with an example.\n",
    "```"
   ]
  },
  {
   "cell_type": "markdown",
   "id": "45246e2d-dbcb-4a9f-8952-d6b3dfea78fb",
   "metadata": {},
   "source": [
    "`Ans) By using concat() method we can merge multiple series together into DataFrame. This takes several params, for our scenario we use list that takes series to combine and axis=1 to specify merge series as columns instead of rows. While using axis=0 appends series to rows instead of columns.`"
   ]
  },
  {
   "cell_type": "code",
   "execution_count": 14,
   "id": "60036613-f8b9-4ddb-a1ac-0b0abf476aaa",
   "metadata": {},
   "outputs": [
    {
     "name": "stdout",
     "output_type": "stream",
     "text": [
      "       Name            Course  Fees\n",
      "0  Shahequa      Data Science  3500\n",
      "1     Imaan   Web Development  3200\n",
      "2     Azlin  Machine Learning  3000\n"
     ]
    }
   ],
   "source": [
    "import pandas as pd\n",
    "\n",
    "##Create pandas Series\n",
    "name = pd.Series(['Shahequa', 'Imaan', 'Azlin'], name='Name')\n",
    "course = pd.Series(['Data Science', 'Web Development', 'Machine Learning'], name='Course')\n",
    "fees = pd.Series([3500, 3200, 3000], name='Fees')\n",
    "\n",
    "##Combine multiple Series\n",
    "df = pd.concat([name, course, fees], axis=1)\n",
    "print(df)"
   ]
  }
 ],
 "metadata": {
  "kernelspec": {
   "display_name": "Python 3 (ipykernel)",
   "language": "python",
   "name": "python3"
  },
  "language_info": {
   "codemirror_mode": {
    "name": "ipython",
    "version": 3
   },
   "file_extension": ".py",
   "mimetype": "text/x-python",
   "name": "python",
   "nbconvert_exporter": "python",
   "pygments_lexer": "ipython3",
   "version": "3.10.8"
  }
 },
 "nbformat": 4,
 "nbformat_minor": 5
}
