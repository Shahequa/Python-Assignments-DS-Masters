{
 "cells": [
  {
   "cell_type": "markdown",
   "id": "8de196e4-6ffa-455a-9eeb-70c182212e13",
   "metadata": {},
   "source": [
    "### Python Assignment 14 - Multithreading\n",
    "*By Shahequa Modabbera*"
   ]
  },
  {
   "cell_type": "markdown",
   "id": "9d5c23b4-d3b5-414a-80cf-86d197e831f8",
   "metadata": {},
   "source": [
    "### 1) What is multithreading in python? Why is it used? Name the module used to handle threads in python"
   ]
  },
  {
   "cell_type": "markdown",
   "id": "26d689cf-5913-4add-8bad-489d1bef056c",
   "metadata": {},
   "source": [
    "`Ans) Multithreading is a threading technique in Python programming to run multiple threads concurrently by rapidly switching between threads with a CPU help (called context switching). Besides, it allows sharing of its data space with the main threads inside a process that share information and communication with other threads easier than individual processes. Multithreading aims to perform multiple tasks simultaneously, which increases performance, speed and improves the rendering of the application.`\n",
    "\n",
    "`Multithreading is used because it is a very useful technique for time-saving and improving the performance of an application. Multithreading allows the programmer to divide application tasks into sub-tasks and simultaneously run them in a program. It allows threads to communicate and share resources such as files, data, and memory to the same processor. Furthermore, it increases the user's responsiveness to continue running a program even if a part of the application is the length or blocked.`\n",
    "\n",
    "`The threading module is the main module of multithreading used to handle threads in Python.\n",
    "The threading module is a high-level implementation of multithreading used to deploy an application in Python. To use multithreading, we need to import the threading module in Python Program.`"
   ]
  },
  {
   "cell_type": "code",
   "execution_count": 1,
   "id": "dd754073-5879-464d-ae7e-c017fea9a9a5",
   "metadata": {},
   "outputs": [],
   "source": [
    "import threading"
   ]
  },
  {
   "cell_type": "markdown",
   "id": "2d950d28-c875-4bd6-885b-c371d0acfbf2",
   "metadata": {},
   "source": [
    "### 2) Why threading module used? Write the use of the following functions\n",
    "    a) activeCount() \n",
    "    b) currentThread() \n",
    "    c) enumerate()"
   ]
  },
  {
   "cell_type": "markdown",
   "id": "73885dd7-448c-4614-b360-2e85352bc365",
   "metadata": {},
   "source": [
    "`Ans) Threading module is used for creating, controlling and managing threads in python.`\n",
    "\n",
    "`threading.activeCount() Function:` \n",
    "\n",
    "    This function returns the number of Thread objects currently alive.\n",
    "    \n",
    "`threading.currentThread() Function:`\n",
    "\n",
    "    This function will return the current Thread object, corresponding to the caller's thread of control(which is in the control of caller currently). If the caller's thread of control was not created through the threading module(for example the main thread), then a dummy thread object with limited functionality is returned.\n",
    "    \n",
    "`threading.enumerate() Function:`\n",
    "\n",
    "    This method returns a list of all Thread objects currently alive. The list includes daemonic threads(when the program quits, all the daemon threads associated with it are killed automatically), dummy thread objects created by the current thread, and the main thread.\n",
    "    Terminated threads and threads that have not yet been started are not present in this list.    "
   ]
  },
  {
   "cell_type": "code",
   "execution_count": 13,
   "id": "458a2c46-4bc6-46e9-97f6-45e448dbb02b",
   "metadata": {},
   "outputs": [
    {
     "name": "stdout",
     "output_type": "stream",
     "text": [
      "Current thread name: Thread-27 (print_thread_name)\n",
      "Current thread name: Thread-28 (print_thread_name)\n",
      "Number of active threads: 8\n",
      "Current thread ID: 140641637619520\n",
      "Current thread name: MainThread\n",
      "Thread name: MainThread, ID: 140641637619520, is daemon: False\n",
      "Thread name: IOPub, ID: 140641567090240, is daemon: True\n",
      "Thread name: Heartbeat, ID: 140641558697536, is daemon: True\n",
      "Thread name: Thread-3 (_watch_pipe_fd), ID: 140641533519424, is daemon: True\n",
      "Thread name: Thread-4 (_watch_pipe_fd), ID: 140641187132992, is daemon: True\n",
      "Thread name: Control, ID: 140641178740288, is daemon: True\n",
      "Thread name: IPythonHistorySavingThread, ID: 140641170347584, is daemon: True\n",
      "Thread name: Thread-2, ID: 140641161954880, is daemon: True\n"
     ]
    },
    {
     "name": "stderr",
     "output_type": "stream",
     "text": [
      "/tmp/ipykernel_70/1889145897.py:5: DeprecationWarning: currentThread() is deprecated, use current_thread() instead\n",
      "  print(f\"Current thread name: {threading.currentThread().getName()}\")\n",
      "/tmp/ipykernel_70/1889145897.py:5: DeprecationWarning: getName() is deprecated, get the name attribute instead\n",
      "  print(f\"Current thread name: {threading.currentThread().getName()}\")\n",
      "/tmp/ipykernel_70/1889145897.py:19: DeprecationWarning: activeCount() is deprecated, use active_count() instead\n",
      "  print(f\"Number of active threads: {threading.activeCount()}\")\n",
      "/tmp/ipykernel_70/1889145897.py:22: DeprecationWarning: currentThread() is deprecated, use current_thread() instead\n",
      "  print(f\"Current thread ID: {threading.currentThread().ident}\")\n",
      "/tmp/ipykernel_70/1889145897.py:23: DeprecationWarning: currentThread() is deprecated, use current_thread() instead\n",
      "  print(f\"Current thread name: {threading.currentThread().getName()}\")\n",
      "/tmp/ipykernel_70/1889145897.py:23: DeprecationWarning: getName() is deprecated, get the name attribute instead\n",
      "  print(f\"Current thread name: {threading.currentThread().getName()}\")\n",
      "/tmp/ipykernel_70/1889145897.py:27: DeprecationWarning: getName() is deprecated, get the name attribute instead\n",
      "  print(f\"Thread name: {thread.getName()}, ID: {thread.ident}, is daemon: {thread.daemon}\")\n"
     ]
    }
   ],
   "source": [
    "import threading\n",
    "\n",
    "#Define a simple function that prints the name of the current thread\n",
    "def print_thread_name():\n",
    "    print(f\"Current thread name: {threading.currentThread().getName()}\")\n",
    "\n",
    "# Create three thread objects and start them\n",
    "thread1 = threading.Thread(target=print_thread_name)\n",
    "thread2 = threading.Thread(target=print_thread_name)\n",
    "\n",
    "thread1.start()\n",
    "thread2.start()\n",
    "\n",
    "# Wait for all three threads to finish executing\n",
    "thread1.join()\n",
    "thread2.join()\n",
    "\n",
    "# Print the number of active threads in the program\n",
    "print(f\"Number of active threads: {threading.activeCount()}\")\n",
    "\n",
    "# Print information about the current thread\n",
    "print(f\"Current thread ID: {threading.currentThread().ident}\")\n",
    "print(f\"Current thread name: {threading.currentThread().getName()}\")\n",
    "\n",
    "# Print information about all active thread objects\n",
    "for thread in threading.enumerate():\n",
    "    print(f\"Thread name: {thread.getName()}, ID: {thread.ident}, is daemon: {thread.daemon}\")"
   ]
  },
  {
   "cell_type": "markdown",
   "id": "17739ad5-d447-4bda-8603-69b32f7cf597",
   "metadata": {},
   "source": [
    "### 3. Explain the following functions\n",
    "    a) run() \n",
    "    b) start() \n",
    "    c) join() \n",
    "    d) isAlive()"
   ]
  },
  {
   "cell_type": "markdown",
   "id": "5be85fff-fcc9-4091-896f-2ed0085e95eb",
   "metadata": {},
   "source": [
    "***Ans)***\n",
    "\n",
    "`run() − The run() method is the entry point for a thread.`\n",
    "\n",
    "`start() − The start() method starts a thread by calling the run method.`\n",
    "\n",
    "`join([time]) − The join() waits for threads to terminate.`\n",
    "\n",
    "`isAlive() − The isAlive() method checks whether a thread is still executing.`"
   ]
  },
  {
   "cell_type": "code",
   "execution_count": 6,
   "id": "d0d61575-9aee-4ba4-b0b8-0bc3830b0b6d",
   "metadata": {},
   "outputs": [
    {
     "name": "stdout",
     "output_type": "stream",
     "text": [
      "Thread-15 started\n",
      "Thread-16 started\n",
      "Thread-15 finishedThread-16 finished\n",
      "\n",
      "Thread 1 is alive: False\n",
      "Thread 2 is alive: False\n"
     ]
    }
   ],
   "source": [
    "##Example to demonstrate these functions\n",
    "import threading\n",
    "import time\n",
    "\n",
    "# Define a simple thread class\n",
    "class MyThread(threading.Thread):\n",
    "    def run(self):\n",
    "        print(f\"{self.name} started\")\n",
    "\n",
    "        time.sleep(2)\n",
    "        print(f\"{self.name} finished\")\n",
    "\n",
    "# Create two thread objects\n",
    "thread1 = MyThread()\n",
    "thread2 = MyThread()\n",
    "\n",
    "# Start the threads\n",
    "thread1.start()\n",
    "thread2.start()\n",
    "\n",
    "# Wait for the threads to finish\n",
    "thread1.join()\n",
    "thread2.join()\n",
    "\n",
    "# Check if the threads are still alive\n",
    "print(f\"Thread 1 is alive: {thread1.is_alive()}\")\n",
    "print(f\"Thread 2 is alive: {thread2.is_alive()}\")"
   ]
  },
  {
   "cell_type": "markdown",
   "id": "39573727-c547-423d-b1a7-f713f802537b",
   "metadata": {},
   "source": [
    "`In the above code, we define a simple thread class called MyThread that overrides the run() method to print a message and then sleep for 2 seconds. We then create two thread objects and start them using the start() method.`\n",
    "\n",
    "`We use the join() method to wait for the threads to complete their execution before checking whether they are still alive using the isAlive() method.`\n",
    "\n",
    "`This code demonstrates the basic use of the run(), start(), join(), and is_alive() functions in Python multithreading.`"
   ]
  },
  {
   "cell_type": "markdown",
   "id": "f318f0e3-e75a-471d-b106-6bc4abf5d42c",
   "metadata": {},
   "source": [
    "### 4. Write a python program to create two threads. Thread one must print the list of squares and thread two must print the list of cubes"
   ]
  },
  {
   "cell_type": "code",
   "execution_count": 5,
   "id": "f36389a0-2f1c-4f4b-a7dc-eb65f1fff27f",
   "metadata": {},
   "outputs": [
    {
     "name": "stdout",
     "output_type": "stream",
     "text": [
      "Square: 1\n",
      "Square: 4\n",
      "Square: 9\n",
      "Square: 16\n",
      "Square: 25\n",
      "Square: 36\n",
      "Square: 49\n",
      "Square: 64\n",
      "Square: 81\n",
      "Square: 100\n",
      "Cube: 1\n",
      "Cube: 8\n",
      "Cube: 27\n",
      "Cube: 64\n",
      "Cube: 125\n",
      "Cube: 216\n",
      "Cube: 343\n",
      "Cube: 512\n",
      "Cube: 729\n",
      "Cube: 1000\n",
      "Done!\n"
     ]
    }
   ],
   "source": [
    "# importing the threading module\n",
    "import threading\n",
    "\n",
    "def print_square():\n",
    "\t# function to print square of given num\n",
    "    for i in range(1,11):\n",
    "\t    print(\"Square: {}\" .format(i * i))\n",
    "\n",
    "def print_cube():\n",
    "\t# function to print cube of given num\n",
    "    for i in range(1,11):\n",
    "        print(\"Cube: {}\" .format(i ** 3))\n",
    "    \n",
    "\n",
    "t1 = threading.Thread(target=print_square)\n",
    "t2 = threading.Thread(target=print_cube)\n",
    "\n",
    "# starting thread 1\n",
    "t1.start()\n",
    "# starting thread 2\n",
    "t2.start()\n",
    "\n",
    "# wait until thread 1 is completely executed\n",
    "t1.join()\n",
    "# wait until thread 2 is completely executed\n",
    "t2.join()\n",
    "\n",
    "# both threads completely executed\n",
    "print(\"Done!\")"
   ]
  },
  {
   "cell_type": "markdown",
   "id": "2c71cb51-b94e-4af2-8315-0fcaab8ba52d",
   "metadata": {},
   "source": [
    "### 5. State advantages and disadvantages of multithreading"
   ]
  },
  {
   "cell_type": "markdown",
   "id": "9e9c93df-a7ba-4b13-96a6-e253adb0229a",
   "metadata": {},
   "source": [
    "***Ans)***\n",
    "\n",
    "`Advantages of Multi-threading:`\n",
    "\n",
    "    1.  Multithreading allows multiple threads to share system resources such as CPU time and memory, resulting in better resource utilization and more efficient use of system resources.\n",
    "    2. Multithreading can improve the responsiveness of a program by allowing the user interface to remain active and responsive while long-running operations are performed in the background. \n",
    "    3. Resource sharing makes it more economical\n",
    "    4. Effective use of Multiprocessor architecture due to parallelism\n",
    "    5. Saves time\n",
    "    6. Threads (since part of the same process) communicate with each other more easily than if they were separate processes\n",
    "    7. They do not require much memory overhead\n",
    "    8. Multi-threaded servers and interactive GUIs use multithreading exclusively.\n",
    "    \n",
    "`Disadvantages of Multi-threading:`\n",
    "\n",
    "    1. Increases the complexity of the program.\n",
    "    2. Synchronization of shared resources (objects, data) is necessary to prevent race conditions and ensure data consistency.\n",
    "    3. Difficult to debug unpredictable results\n",
    "    4. Constructing and synchronizing threads is CPU/memory intensive.\n",
    "    5. Multithreaded programs can be prone to deadlocks, which occur when two or more threads are blocked waiting for each other to release resources."
   ]
  },
  {
   "cell_type": "markdown",
   "id": "96565b97-14c3-4a40-9888-617857b49be0",
   "metadata": {},
   "source": [
    "### 6) Explain deadlocks and race conditions."
   ]
  },
  {
   "cell_type": "markdown",
   "id": "2607864b-9a04-47bf-af73-71723ae26183",
   "metadata": {},
   "source": [
    "`Ans)`\n",
    "\n",
    "`Deadlock:`\n",
    "`A deadlock is a concurrency failure mode where a thread or threads wait for a condition that never occurs.`\n",
    "\n",
    "`The result is that the deadlock threads are unable to progress and the program is stuck or frozen and must be terminated forcefully.`\n",
    "\n",
    "`There are many ways in which we may encounter a deadlock in our concurrent program.`\n",
    "\n",
    "`Deadlocks are not developed intentionally, instead, they are an unexpected side effect or bug in concurrency programming.`"
   ]
  },
  {
   "cell_type": "markdown",
   "id": "72ca2762-3c2e-4df7-8267-901594436dee",
   "metadata": {},
   "source": [
    "`Race Condition: A race condition occurs when two threads try to access a shared variable simultaneously.`\n",
    "\n",
    "`The first thread reads the value from the shared variable. The second thread also reads the value from the same shared variable.`\n",
    "\n",
    "`Then both threads try to change the value of the shared variable. And they race to see which thread writes a value to the variable last.`\n",
    "\n",
    "`The value from the thread that writes to the shared variable last is preserved because it overwrites the value that the previous thread wrote.`"
   ]
  },
  {
   "cell_type": "code",
   "execution_count": 9,
   "id": "e1cd7790-9959-4522-9be4-e9a5f9ace9ec",
   "metadata": {},
   "outputs": [
    {
     "name": "stdout",
     "output_type": "stream",
     "text": [
      "counter=10\n",
      "counter=20\n",
      "The final counter is 20\n"
     ]
    }
   ],
   "source": [
    "#First, import Thread class from the threading module and the sleep() function from the time module:\n",
    "from threading import Thread\n",
    "from time import sleep\n",
    "\n",
    "#Second, define a global variable called counter whose value is zero:\n",
    "counter = 0\n",
    "\n",
    "#Third, define a function that increases the value of the counter variable by a number:\n",
    "def increase(by):\n",
    "    global counter\n",
    "\n",
    "    local_counter = counter\n",
    "    local_counter += by\n",
    "\n",
    "    sleep(0.2)\n",
    "\n",
    "    counter = local_counter\n",
    "    print(f'counter={counter}')\n",
    "\n",
    "\n",
    "#Fourth, create two threads. The first thread increases the counter by 10 while the second thread increases the counter by 20:\n",
    "t1 = Thread(target=increase, args=(10,))\n",
    "t2 = Thread(target=increase, args=(20,))\n",
    "\n",
    "#Fifth, start the threads:\n",
    "t1.start()\n",
    "t2.start()\n",
    "\n",
    "\n",
    "#Sixth, from the main thread, wait for the threads t1 and t2 to complete:\n",
    "t1.join()\n",
    "t2.join()\n",
    "\n",
    "#Finally, show the final value of the counter variable:\n",
    "print(f'The final counter is {counter}')"
   ]
  },
  {
   "cell_type": "markdown",
   "id": "0e0e7437-6488-4dfb-ac36-b50e61fbe0de",
   "metadata": {},
   "source": [
    "`To prevent race conditions, we can use the Lock class from the threading module that can access the counter variable at a time.`"
   ]
  },
  {
   "cell_type": "code",
   "execution_count": 11,
   "id": "64bc98d9-a041-4263-88c5-e9df1a194040",
   "metadata": {},
   "outputs": [
    {
     "name": "stdout",
     "output_type": "stream",
     "text": [
      "counter=10\n",
      "counter=30\n",
      "The final counter is 30\n"
     ]
    }
   ],
   "source": [
    "from threading import Thread, Lock\n",
    "from time import sleep\n",
    "\n",
    "counter = 0\n",
    "\n",
    "def increase(by, lock):\n",
    "    global counter\n",
    "\n",
    "    lock.acquire()\n",
    "\n",
    "    local_counter = counter\n",
    "    local_counter += by\n",
    "\n",
    "    sleep(0.1)\n",
    "\n",
    "    counter = local_counter\n",
    "    print(f'counter={counter}')\n",
    "\n",
    "    lock.release()\n",
    "\n",
    "\n",
    "lock = threading.Lock()\n",
    "\n",
    "# create threads\n",
    "t1 = Thread(target=increase, args=(10, lock))\n",
    "t2 = Thread(target=increase, args=(20, lock))\n",
    "\n",
    "# start the threads\n",
    "t1.start()\n",
    "t2.start()\n",
    "\n",
    "# wait for the threads to complete\n",
    "t1.join()\n",
    "t2.join()\n",
    "\n",
    "print(f'The final counter is {counter}')"
   ]
  }
 ],
 "metadata": {
  "kernelspec": {
   "display_name": "Python 3 (ipykernel)",
   "language": "python",
   "name": "python3"
  },
  "language_info": {
   "codemirror_mode": {
    "name": "ipython",
    "version": 3
   },
   "file_extension": ".py",
   "mimetype": "text/x-python",
   "name": "python",
   "nbconvert_exporter": "python",
   "pygments_lexer": "ipython3",
   "version": "3.10.8"
  }
 },
 "nbformat": 4,
 "nbformat_minor": 5
}
