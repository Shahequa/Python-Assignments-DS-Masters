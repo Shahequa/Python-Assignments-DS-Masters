{
 "cells": [
  {
   "cell_type": "markdown",
   "id": "d6e88fe9-6f16-48c0-98c6-45d5f7bdc032",
   "metadata": {},
   "source": [
    "### Python Assignment 3\n",
    "*By Shahequa Modabbera*"
   ]
  },
  {
   "cell_type": "markdown",
   "id": "6393cc96-5154-415d-bd2c-5f8121bf79d5",
   "metadata": {},
   "source": [
    "#### Q1. Explain with an example each when to use a for loop and a while loop."
   ]
  },
  {
   "cell_type": "markdown",
   "id": "22a201d6-a90d-4116-8fd7-41a96156caeb",
   "metadata": {},
   "source": [
    "```A for loop is a control flow statement that executes code for a predefined number of iterations. When the number of iterations is already known, the \"for\" loop is used. We can use for loop to loop once over list data.```\n",
    "\n",
    "```A while loop is a loop that runs a single statement or a set of statements for a given true condition. When the number of iterations is unknown, a \"while\" loop is used. The statement is repeated until the boolean value is false. We can use while loop to run the same task multiple times.```"
   ]
  },
  {
   "cell_type": "code",
   "execution_count": 1,
   "id": "55bb469e-c120-462b-880b-2fb7144600e7",
   "metadata": {},
   "outputs": [
    {
     "name": "stdout",
     "output_type": "stream",
     "text": [
      "The input lists using 'for' loop: \n",
      "1\n",
      "2\n",
      "3\n",
      "4\n",
      "5\n",
      "6\n",
      "7\n",
      "8\n",
      "9\n"
     ]
    }
   ],
   "source": [
    "# For Loop example:\n",
    "input_list = [1,2,3,4,5,6,7,8,9]  ## lists known\n",
    "\n",
    "print(\"The input lists using 'for' loop: \")\n",
    "\n",
    "for i in input_list:\n",
    "    print(i)\n",
    "    i += 1"
   ]
  },
  {
   "cell_type": "code",
   "execution_count": 2,
   "id": "40576731-e454-41ec-b3a1-70936e3899a9",
   "metadata": {},
   "outputs": [
    {
     "name": "stdout",
     "output_type": "stream",
     "text": [
      "The lists using 'while' loop: \n",
      "1\n",
      "2\n",
      "3\n",
      "4\n",
      "5\n",
      "6\n",
      "7\n",
      "8\n",
      "9\n"
     ]
    }
   ],
   "source": [
    "# While Loop example\n",
    "i = 1\n",
    "\n",
    "print(\"The lists using 'while' loop: \")\n",
    "\n",
    "while i < 10:  ## Lists unknown\n",
    "    print(i)\n",
    "    i += 1"
   ]
  },
  {
   "cell_type": "markdown",
   "id": "8f2c7aa2-556a-4501-98e2-56daf1becf40",
   "metadata": {},
   "source": [
    "#### Q2. Write a python program to print the sum and product of the first 10 natural numbers using for and while loop."
   ]
  },
  {
   "cell_type": "code",
   "execution_count": 3,
   "id": "cfd8e242-37a3-4a44-ade3-16266ecac82f",
   "metadata": {},
   "outputs": [
    {
     "name": "stdout",
     "output_type": "stream",
     "text": [
      "The sum of first 10 natural numbers using for loop is: 55\n",
      "The product of first 10 natural numbers using for loop is: 3628800\n",
      "The sum of first 10 natural numbers using while loop is: 55\n",
      "The product of first 10 natural numbers using while loop is: 3628800\n"
     ]
    }
   ],
   "source": [
    "# Using for loop\n",
    "sum1 = 0\n",
    "pro1 = 1\n",
    "\n",
    "for i in range(1,11):\n",
    "    sum1 += i\n",
    "    pro1 *= i\n",
    "    \n",
    "print(f\"The sum of first 10 natural numbers using for loop is: {sum1}\")\n",
    "print(f\"The product of first 10 natural numbers using for loop is: {pro1}\")\n",
    "\n",
    "#Using while loop\n",
    "sum2 = 0\n",
    "pro2 = 1\n",
    "\n",
    "i = 1\n",
    "while i <= 10:\n",
    "    sum2 += i\n",
    "    pro2 *= i\n",
    "    i += 1\n",
    "    \n",
    "print(f\"The sum of first 10 natural numbers using while loop is: {sum2}\")\n",
    "print(f\"The product of first 10 natural numbers using while loop is: {pro2}\")"
   ]
  },
  {
   "cell_type": "markdown",
   "id": "bd436928-083f-4f1c-99cc-7f88aa33c729",
   "metadata": {},
   "source": [
    "#### Q3. Create a python program to compute the electricity bill for a household.\n",
    "##### The per-unit charges in rupees are as follows: \n",
    "For the first 100 units, the user will be charged Rs. 4.5 per unit, for the next 100 units, the user will be charged Rs. 6 per unit, and for the next 100 units, the user will be charged Rs. 10 per unit, After 300 units and above the user will be charged Rs. 20 per unit.\n",
    "##### You are required to take the units of electricity consumed in a month from the user as input.\n",
    "##### Your program must pass this test case: when the unit of electricity consumed by the user in a month is 310, the total electricity bill should be 2250."
   ]
  },
  {
   "cell_type": "code",
   "execution_count": 4,
   "id": "83a4bd0e-b7d9-45b4-9375-77fa5f399b6e",
   "metadata": {},
   "outputs": [
    {
     "name": "stdin",
     "output_type": "stream",
     "text": [
      "Enter the units of electricity consumed in a month 310\n"
     ]
    },
    {
     "name": "stdout",
     "output_type": "stream",
     "text": [
      "2250.0\n"
     ]
    }
   ],
   "source": [
    "units_consumed = int(input(\"Enter the units of electricity consumed in a month\"))\n",
    "u = units_consumed\n",
    "\n",
    "charge = 0\n",
    "\n",
    "if u <=100:\n",
    "    charge += u*4.5\n",
    "elif u > 100 and u <= 200:\n",
    "    charge = 100*4.5 + (u - 100)*6\n",
    "elif u > 200 and u <= 300:\n",
    "    charge += 100*4.5 + 100*6 + (u - 200)*10\n",
    "else:\n",
    "    charge += 100*4.5 + 100*6 + 100*10 + (u - 300)*20\n",
    "\n",
    "print(charge)"
   ]
  },
  {
   "cell_type": "markdown",
   "id": "f79c73e2-40b6-49e3-8c60-1188cb6efb34",
   "metadata": {},
   "source": [
    "#### Q4. Create a list of numbers from 1 to 100. Use for loop and while loop to calculate the cube of each number and if the cube of that number is divisible by 4 or 5 then append that number in a list and print that list."
   ]
  },
  {
   "cell_type": "code",
   "execution_count": 5,
   "id": "a4e417e7-2e54-4575-85ac-463d66c8b6ae",
   "metadata": {},
   "outputs": [
    {
     "name": "stdout",
     "output_type": "stream",
     "text": [
      "[8, 64, 125, 216, 512, 1000, 1728, 2744, 3375, 4096, 5832, 8000, 10648, 13824, 15625, 17576, 21952, 27000, 32768, 39304, 42875, 46656, 54872, 64000, 74088, 85184, 91125, 97336, 110592, 125000, 140608, 157464, 166375, 175616, 195112, 216000, 238328, 262144, 274625, 287496, 314432, 343000, 373248, 405224, 421875, 438976, 474552, 512000, 551368, 592704, 614125, 636056, 681472, 729000, 778688, 830584, 857375, 884736, 941192, 1000000]\n"
     ]
    }
   ],
   "source": [
    "#For loop\n",
    "l1 = list(range(1,101))\n",
    "l2 = []\n",
    "\n",
    "for i in l1:\n",
    "    cube = i**3\n",
    "    if cube % 4 == 0 or cube % 5 == 0:\n",
    "        l2.append(cube)\n",
    "        \n",
    "print(l2)"
   ]
  },
  {
   "cell_type": "code",
   "execution_count": 6,
   "id": "1f40eaee-5ccc-42ef-ab92-c3eba33e3477",
   "metadata": {},
   "outputs": [
    {
     "name": "stdout",
     "output_type": "stream",
     "text": [
      "[8, 64, 125, 216, 512, 1000, 1728, 2744, 3375, 4096, 5832, 8000, 10648, 13824, 15625, 17576, 21952, 27000, 32768, 39304, 42875, 46656, 54872, 64000, 74088, 85184, 91125, 97336, 110592, 125000, 140608, 157464, 166375, 175616, 195112, 216000, 238328, 262144, 274625, 287496, 314432, 343000, 373248, 405224, 421875, 438976, 474552, 512000, 551368, 592704, 614125, 636056, 681472, 729000, 778688, 830584, 857375, 884736, 941192, 1000000]\n"
     ]
    }
   ],
   "source": [
    "#While loop\n",
    "l1 = list(range(1, 101))\n",
    "l2 = []\n",
    "j = 1\n",
    "\n",
    "while j < 100:\n",
    "    cube = l1[j]**3\n",
    "    if cube % 4 == 0 or cube % 5 == 0:\n",
    "        l2.append(cube)\n",
    "    j += 1\n",
    "\n",
    "print(l2)"
   ]
  },
  {
   "cell_type": "markdown",
   "id": "efa0d7d3-5756-452a-840b-63451ab1c586",
   "metadata": {},
   "source": [
    "#### Q5. Write a program to filter count vowels in the below-given string.\n",
    "#### string = \"I want to become a data scientist\""
   ]
  },
  {
   "cell_type": "code",
   "execution_count": 7,
   "id": "b9986a95-e05d-488d-8a1a-78169a15e400",
   "metadata": {},
   "outputs": [
    {
     "name": "stdout",
     "output_type": "stream",
     "text": [
      "The number of vowels in the given string:  12\n"
     ]
    }
   ],
   "source": [
    "string = \"I want to become a data scientist\"\n",
    "\n",
    "vowels = ['a', 'e', 'i', 'o', 'u', 'A', 'E', 'I', 'O', 'U']\n",
    "\n",
    "count = 0\n",
    "\n",
    "for character in string:\n",
    "    if character in vowels:\n",
    "        count += 1\n",
    "        \n",
    "print(\"The number of vowels in the given string: \", count)       "
   ]
  }
 ],
 "metadata": {
  "kernelspec": {
   "display_name": "Python 3 (ipykernel)",
   "language": "python",
   "name": "python3"
  },
  "language_info": {
   "codemirror_mode": {
    "name": "ipython",
    "version": 3
   },
   "file_extension": ".py",
   "mimetype": "text/x-python",
   "name": "python",
   "nbconvert_exporter": "python",
   "pygments_lexer": "ipython3",
   "version": "3.10.8"
  }
 },
 "nbformat": 4,
 "nbformat_minor": 5
}
