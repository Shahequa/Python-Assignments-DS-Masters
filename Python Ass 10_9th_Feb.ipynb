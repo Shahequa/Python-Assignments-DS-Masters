{
 "cells": [
  {
   "cell_type": "markdown",
   "id": "a509b3a2-a441-4fa9-be0c-b945d74f76e5",
   "metadata": {
    "tags": []
   },
   "source": [
    "### Python Assignment 10\n",
    "*By Shahequa Modabbera*"
   ]
  },
  {
   "cell_type": "markdown",
   "id": "cc99e6df-82b2-47b3-ba11-07e03516ecb2",
   "metadata": {},
   "source": [
    "### Q1. Create a vehicle class with an init method having instance variables as name_of_vehicle, max_speed and average_of_vehicle."
   ]
  },
  {
   "cell_type": "code",
   "execution_count": 1,
   "id": "5b5ec167-a53a-46e9-89c4-9ff08ade8c02",
   "metadata": {},
   "outputs": [
    {
     "name": "stdout",
     "output_type": "stream",
     "text": [
      "BMW\n",
      "200\n",
      "100\n"
     ]
    }
   ],
   "source": [
    "class vehicle:\n",
    "    \n",
    "    def __init__(self, name_of_vehicle, max_speed, average_of_vehicle):\n",
    "        self.name_of_vehicle = name_of_vehicle\n",
    "        self.max_speed = max_speed\n",
    "        self.average_of_vehicle = average_of_vehicle\n",
    "        \n",
    "car = vehicle(\"BMW\", 200, 100)\n",
    "print(car.name_of_vehicle)\n",
    "print(car.max_speed)\n",
    "print(car.average_of_vehicle)"
   ]
  },
  {
   "cell_type": "markdown",
   "id": "041dcd06-3cac-4404-aa8b-38c36b8806ff",
   "metadata": {},
   "source": [
    "### Q2. Create a child class car from the vehicle class created in Que 1, which will inherit the vehicle class. Create a method named seating_capacity which takes capacity as an argument and returns the name of the vehicle and its seating capacity."
   ]
  },
  {
   "cell_type": "code",
   "execution_count": 2,
   "id": "c44c2033-90b0-49ff-a107-9bd7c4fb5809",
   "metadata": {},
   "outputs": [
    {
     "data": {
      "text/plain": [
       "'Mercedes has a seating capacity of 5.'"
      ]
     },
     "execution_count": 2,
     "metadata": {},
     "output_type": "execute_result"
    }
   ],
   "source": [
    "class child_car(vehicle):\n",
    "    \n",
    "    def seating_capacity(self, capacity):\n",
    "        return f\"{self.name_of_vehicle} has a seating capacity of {capacity}.\"\n",
    "    \n",
    "car1 = child_car(\"Mercedes\", 170, 80)\n",
    "car1.seating_capacity(5)"
   ]
  },
  {
   "cell_type": "markdown",
   "id": "78f56baf-b534-4bfe-b069-1dc5cf1c7783",
   "metadata": {},
   "source": [
    "### Q3. What is multiple inheritance? Write a python code to demonstrate multiple inheritance."
   ]
  },
  {
   "cell_type": "markdown",
   "id": "7bd38652-4f5a-4e49-b09a-fa92b984d71d",
   "metadata": {},
   "source": [
    "`Ans) Multiple Inheritance: When a class can be derived from more than one base class this type of inheritance is called multiple inheritances. In multiple inheritances, all the features of the base classes are inherited into the derived class.`"
   ]
  },
  {
   "cell_type": "code",
   "execution_count": 3,
   "id": "636d6b61-d8eb-4d44-a49d-4f3ecd271ae6",
   "metadata": {},
   "outputs": [
    {
     "name": "stdout",
     "output_type": "stream",
     "text": [
      "Father's name: SHABIB\n",
      "Mother's name: ASFA\n"
     ]
    }
   ],
   "source": [
    "# Multiple inheritance\n",
    " \n",
    "# Base class1\n",
    "class Mother:\n",
    "    mothername = \"\"\n",
    " \n",
    "    def mother(self):\n",
    "        print(self.mothername)\n",
    "        \n",
    "# Base class2\n",
    "class Father:\n",
    "    fathername = \"\"\n",
    " \n",
    "    def father(self):\n",
    "        print(self.fathername)\n",
    "\n",
    "# Derived class\n",
    "class Daughter(Mother, Father):\n",
    "    def parents(self):\n",
    "        print(\"Father's name:\", self.fathername)\n",
    "        print(\"Mother's name:\", self.mothername)\n",
    "        \n",
    "# Driver's code\n",
    "s1 = Daughter()\n",
    "s1.fathername = \"SHABIB\"\n",
    "s1.mothername = \"ASFA\"\n",
    "s1.parents()"
   ]
  },
  {
   "cell_type": "markdown",
   "id": "659382cd-80b4-48cf-882f-296bba561a51",
   "metadata": {},
   "source": [
    "### Q4. What are getter and setter in python? Create a class and create a getter and a setter method in this class."
   ]
  },
  {
   "cell_type": "markdown",
   "id": "77a36797-1a09-4cd3-84ac-f93fa99d9d10",
   "metadata": {},
   "source": [
    "`Ans) Getters are the methods that are used in Object-Oriented Programming (OOPS) to access a class's private attributes. The setattr() function in Python corresponds to the getattr() function in Python. It alters an object's attribute values.`\n",
    "\n",
    "`The setter is a method that is used to set the property's value. It is very useful in object-oriented programming to set the value of private attributes in a class.`\n",
    "\n",
    "`Generally, getters and setters are mainly used to ensure the data encapsulation in OOPs.`"
   ]
  },
  {
   "cell_type": "code",
   "execution_count": 4,
   "id": "9be676d7-0b57-470c-907d-807636808d3d",
   "metadata": {},
   "outputs": [
    {
     "data": {
      "text/plain": [
       "0"
      ]
     },
     "execution_count": 4,
     "metadata": {},
     "output_type": "execute_result"
    }
   ],
   "source": [
    "class car:\n",
    "    def __init__(self, year, make, model, speed):\n",
    "        \n",
    "        self.__year = year\n",
    "        self.__make = make\n",
    "        self.__model = model\n",
    "        self.__speed = 0\n",
    "        \n",
    "    def set_speed(self, speed):\n",
    "        self.__speed = 0 if speed < 0 else speed\n",
    "        \n",
    "    def get_speed(self):\n",
    "        return self.__speed\n",
    "    \n",
    "c = car(2021, \"Mercedes\", \"Innova\", 12)\n",
    "c.set_speed(-456)\n",
    "c.get_speed()"
   ]
  },
  {
   "cell_type": "markdown",
   "id": "ba6cfe3f-5c84-4319-a5c6-89e20db30ada",
   "metadata": {},
   "source": [
    "### Q5.What is method overriding in python? Write a python code to demonstrate method overriding."
   ]
  },
  {
   "cell_type": "markdown",
   "id": "820d7996-608c-4625-913b-f26bdfc3cde3",
   "metadata": {},
   "source": [
    "`Ans) Method Overriding in Python is an OOPs concept closely related to inheritance. When a child class method overrides(or, provides it's own implementation) the parent class method of the same name, parameters and return type, it is known as method overriding.`\n",
    "\n",
    "`In this case, the child class's method is called the overriding method and the parent class's method is called the overriden method.`"
   ]
  },
  {
   "cell_type": "code",
   "execution_count": 5,
   "id": "4c24852d-7b79-4725-ae72-3d5f45823ddb",
   "metadata": {},
   "outputs": [
    {
     "name": "stdout",
     "output_type": "stream",
     "text": [
      "I have 3 sides. I am from Triangle class\n",
      "I am a 2D object. I am from shape class\n",
      "I have magenta color. I am from Triangle class.\n",
      "Old value of data1 =  abc\n",
      "The value of data1 in Shape class overridden by the Triangle class =  New value\n"
     ]
    }
   ],
   "source": [
    "# Parent class\n",
    "class Shape:\n",
    "    # properties\n",
    "    data1 = \"abc\"\n",
    "\n",
    "    # function no_of_sides\n",
    "    def no_of_sides(self):\n",
    "        print(\"My sides need to be defined. I am from shape class.\")\n",
    "\n",
    "    # function two_dimensional\n",
    "    def two_dimensional(self):\n",
    "        print(\"I am a 2D object. I am from shape class\")\n",
    "\n",
    "#Sub-class or child class\n",
    "class Triangle(Shape):\n",
    "    data2 = \"xyz\"\n",
    "    ## overriding the method no_of_sides() adding our own implementation\n",
    "    def no_of_sides(self):\n",
    "        print(\"I have 3 sides. I am from Triangle class\")\n",
    "\n",
    "    def color(self):\n",
    "        print(\"I have magenta color. I am from Triangle class.\")\n",
    "\n",
    "\n",
    "# Create an object of Triangle class\n",
    "tri = Triangle()\n",
    "# Override the no_of_sides of parent class\n",
    "tri.no_of_sides()\n",
    "# Will inherit this method from the parent class\n",
    "tri.two_dimensional()\n",
    "# It's own method - color\n",
    "tri.color()\n",
    "print(\"Old value of data1 = \", tri.data1)\n",
    "# Override property of the Parent class\n",
    "tri.data1 = \"New value\"\n",
    "print(\"The value of data1 in Shape class overridden by the Triangle class = \", tri.data1)"
   ]
  }
 ],
 "metadata": {
  "kernelspec": {
   "display_name": "Python 3 (ipykernel)",
   "language": "python",
   "name": "python3"
  },
  "language_info": {
   "codemirror_mode": {
    "name": "ipython",
    "version": 3
   },
   "file_extension": ".py",
   "mimetype": "text/x-python",
   "name": "python",
   "nbconvert_exporter": "python",
   "pygments_lexer": "ipython3",
   "version": "3.10.8"
  }
 },
 "nbformat": 4,
 "nbformat_minor": 5
}
