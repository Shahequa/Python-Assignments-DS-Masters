{
 "cells": [
  {
   "cell_type": "markdown",
   "id": "226c043b-0c2d-429e-b286-cd14300a3b10",
   "metadata": {},
   "source": [
    "### Python Assignment 8\n",
    "*By Shahequa Modabbera*"
   ]
  },
  {
   "cell_type": "markdown",
   "id": "15bb8d1d-f706-4b67-9e88-22b77c4840b0",
   "metadata": {},
   "source": [
    "Q1. You are writing code for a company. The requirement of the company is that you create a python\n",
    "function that will check whether the password entered by the user is correct or not. The function should\n",
    "take the password as input and return the string “Valid Password” if the entered password follows the\n",
    "below-given password guidelines else it should return “Invalid Password”.\n",
    "\n",
    "Note: 1. The Password should contain at least two uppercase letters and at least two lowercase letters.\n",
    "\n",
    "2. The Password should contain at least a number and three special characters.\n",
    "\n",
    "3. The length of the password should be 10 characters long.\n"
   ]
  },
  {
   "cell_type": "code",
   "execution_count": 1,
   "id": "73a00a30-6323-4bce-888b-bb5d071c1c11",
   "metadata": {},
   "outputs": [
    {
     "name": "stdin",
     "output_type": "stream",
     "text": [
      "Enter the password:  DS_Shahequa23@pwskills!\n"
     ]
    },
    {
     "name": "stdout",
     "output_type": "stream",
     "text": [
      "Valid Password\n"
     ]
    }
   ],
   "source": [
    "password = input(\"Enter the password: \")\n",
    "\n",
    "def user_password(password):\n",
    "    num_count = 0\n",
    "    lower_count = 0\n",
    "    upper_count = 0\n",
    "    special_char_count = 0\n",
    "    \n",
    "    for i in password:\n",
    "        if i.isupper():\n",
    "            upper_count = upper_count + 1\n",
    "        elif i.islower():\n",
    "            lower_count = lower_count + 1\n",
    "        elif i.isdigit():\n",
    "            num_count = num_count + 1\n",
    "        elif not(i.isalnum()):\n",
    "            special_char_count = special_char_count + 1\n",
    "    \n",
    "    if num_count >= 1 and upper_count >= 2 and lower_count >= 2 and special_char_count >= 3:\n",
    "        print(\"Valid Password\")\n",
    "    else:\n",
    "        print(\"Invalid Password\")\n",
    "\n",
    "user_password(password)"
   ]
  },
  {
   "cell_type": "markdown",
   "id": "a4fdef40-2930-4b54-83e0-9a6178272847",
   "metadata": {},
   "source": [
    "Q2. Solve the below-given questions using at least one of the following:\n",
    "\n",
    "1. Lambda function\n",
    "2. Filter function\n",
    "3. Map function\n",
    "4. List Comprehension\n",
    "\n",
    "Check if the string starts with a particular letter\n",
    "\n",
    "Check if the string is numeric\n",
    "\n",
    "Sort a list of tuples having fruit names and their quantity.\n",
    "[(\"mango\",99),(\"orange\",80), (\"grapes\", 1000)]\n",
    "\n",
    "Find the squares of numbers from 1 to 10\n",
    "\n",
    "Find the cube root of numbers from 1 to 10\n",
    "\n",
    "Check if a given number is even\n",
    "\n",
    "Filter odd numbers from the given list.\n",
    "[1,2,3,4,5,6,7,8,9,10]\n",
    "\n",
    "Sort a list of integers into positive and negative integers lists.\n",
    "[1,2,3,4,5,6,-1,-2,-3,-4,-5,0]"
   ]
  },
  {
   "cell_type": "code",
   "execution_count": 2,
   "id": "0790f01f-b0e3-4029-8fbd-eb6bc626304b",
   "metadata": {},
   "outputs": [
    {
     "name": "stdin",
     "output_type": "stream",
     "text": [
      "Enter the string:  kind\n",
      "Enter the particular letter to check:  k\n"
     ]
    },
    {
     "data": {
      "text/plain": [
       "True"
      ]
     },
     "execution_count": 2,
     "metadata": {},
     "output_type": "execute_result"
    }
   ],
   "source": [
    "#Check if the string starts with a particular letter\n",
    "# Using lambda function\n",
    "\n",
    "string = input(\"Enter the string: \")\n",
    "first_letter = input(\"Enter the particular letter to check: \")\n",
    "check_string = lambda x, y: True if x.startswith(y) else False\n",
    "check_string(string, first_letter)"
   ]
  },
  {
   "cell_type": "code",
   "execution_count": 3,
   "id": "9bffb8dd-4249-4ec8-9141-10506149fb8c",
   "metadata": {},
   "outputs": [
    {
     "name": "stdin",
     "output_type": "stream",
     "text": [
      "Enter the string:  45\n"
     ]
    },
    {
     "name": "stdout",
     "output_type": "stream",
     "text": [
      "True\n"
     ]
    }
   ],
   "source": [
    "#Check if the string is numeric\n",
    "\n",
    "string = input(\"Enter the string: \")\n",
    "\n",
    "numeric = lambda x: True if x.isdigit() else False\n",
    "print(numeric(string))"
   ]
  },
  {
   "cell_type": "code",
   "execution_count": 4,
   "id": "34c7d3c2-fe05-4770-81ab-1a21e5674071",
   "metadata": {},
   "outputs": [
    {
     "name": "stdout",
     "output_type": "stream",
     "text": [
      "Given list:\n",
      " [('mango', 99), ('orange', 80), ('grapes', 1000)]\n",
      "Sorted list of fruits:\n",
      " [('grapes', 1000), ('mango', 99), ('orange', 80)]\n"
     ]
    }
   ],
   "source": [
    "#Sort a list of tuples having fruit names and their quantity.\n",
    "#[(\"mango\",99),(\"orange\",80), (\"grapes\", 1000)]\n",
    "\n",
    "fruits = [(\"mango\",99),(\"orange\",80), (\"grapes\", 1000)]\n",
    "print(\"Given list:\\n\", fruits)\n",
    "\n",
    "sort_fruits = sorted(fruits, key = lambda x: x[0])\n",
    "print(\"Sorted list of fruits:\\n\", sort_fruits)"
   ]
  },
  {
   "cell_type": "code",
   "execution_count": 5,
   "id": "1a1eb9ec-d281-41a0-b9d5-f61ee0212501",
   "metadata": {},
   "outputs": [
    {
     "data": {
      "text/plain": [
       "[1, 4, 9, 16, 25, 36, 49, 64, 81, 100]"
      ]
     },
     "execution_count": 5,
     "metadata": {},
     "output_type": "execute_result"
    }
   ],
   "source": [
    "#Find the squares of numbers from 1 to 10\n",
    "#Method1\n",
    "list1 = list(range(1,11))\n",
    "[i**2 for i in list1]"
   ]
  },
  {
   "cell_type": "code",
   "execution_count": 6,
   "id": "787c83f9-b775-4031-adec-d8bd0b410447",
   "metadata": {},
   "outputs": [
    {
     "name": "stdout",
     "output_type": "stream",
     "text": [
      "The squares of numbers from 1 to 10 is:\n",
      "  [1, 4, 9, 16, 25, 36, 49, 64, 81, 100]\n"
     ]
    }
   ],
   "source": [
    "#Method2\n",
    "Squares = list(map(lambda x: x**2, list1))\n",
    "print(\"The squares of numbers from 1 to 10 is:\\n \", Squares)"
   ]
  },
  {
   "cell_type": "code",
   "execution_count": 7,
   "id": "e064ee71-03eb-4ea6-a399-bf159b40e936",
   "metadata": {},
   "outputs": [
    {
     "data": {
      "text/plain": [
       "[1, 8, 27, 64, 125, 216, 343, 512, 729, 1000]"
      ]
     },
     "execution_count": 7,
     "metadata": {},
     "output_type": "execute_result"
    }
   ],
   "source": [
    "#Find the cube root of numbers from 1 to 10\n",
    "#Method1\n",
    "list2 = list(range(1,11))\n",
    "[i**3 for i in list2]"
   ]
  },
  {
   "cell_type": "code",
   "execution_count": 8,
   "id": "98761f59-e92e-44e5-9d12-31d232e388ae",
   "metadata": {},
   "outputs": [
    {
     "name": "stdout",
     "output_type": "stream",
     "text": [
      "The cubes of numbers from 1 to 10 is:\n",
      "  [1, 8, 27, 64, 125, 216, 343, 512, 729, 1000]\n"
     ]
    }
   ],
   "source": [
    "#Method2\n",
    "Cubes = list(map(lambda x: x**3, list2))\n",
    "print(\"The cubes of numbers from 1 to 10 is:\\n \", Cubes)"
   ]
  },
  {
   "cell_type": "code",
   "execution_count": 9,
   "id": "fc9eddf9-5ce0-4c56-96a4-2a8dc2ed59ea",
   "metadata": {},
   "outputs": [
    {
     "name": "stdin",
     "output_type": "stream",
     "text": [
      "Enter the number:  78\n"
     ]
    },
    {
     "name": "stdout",
     "output_type": "stream",
     "text": [
      "78 is even\n"
     ]
    }
   ],
   "source": [
    "#Check if a given number is even\n",
    "\n",
    "number = int(input(\"Enter the number: \"))\n",
    "l = lambda x: True if x%2 == 0 else False\n",
    "print(f\"{number} is even\") if l(number) else print(f\"{number} is not even\")"
   ]
  },
  {
   "cell_type": "code",
   "execution_count": 10,
   "id": "76764c26-d64f-48c9-853c-8a495a1461ed",
   "metadata": {},
   "outputs": [
    {
     "data": {
      "text/plain": [
       "[1, 3, 5, 7, 9]"
      ]
     },
     "execution_count": 10,
     "metadata": {},
     "output_type": "execute_result"
    }
   ],
   "source": [
    "#Filter odd numbers from the given list. [1,2,3,4,5,6,7,8,9,10]\n",
    "list3 = [1,2,3,4,5,6,7,8,9,10]\n",
    "[i for i in list3 if i%2 != 0]"
   ]
  },
  {
   "cell_type": "code",
   "execution_count": 11,
   "id": "8b34f1ff-254c-40f4-84c8-02b5eec6b5fa",
   "metadata": {},
   "outputs": [
    {
     "name": "stdout",
     "output_type": "stream",
     "text": [
      "Given list: \n",
      " [1, 2, 3, 4, 5, 6, -1, -2, -3, -4, -5, 0]\n",
      "Positive integers:\n",
      " [1, 2, 3, 4, 5, 6]\n",
      "Negative integers:\n",
      " [-1, -2, -3, -4, -5]\n"
     ]
    }
   ],
   "source": [
    "#Sort a list of integers into positive and negative integers lists.\n",
    "#[1,2,3,4,5,6,-1,-2,-3,-4,-5,0]\n",
    "list4 = [1,2,3,4,5,6,-1,-2,-3,-4,-5,0]\n",
    "print(\"Given list: \\n\", list4)\n",
    "Positive_list = list(filter(lambda x: x>0, list4))\n",
    "Negative_list = list(filter(lambda x: x<0, list4))\n",
    "print(\"Positive integers:\\n\", Positive_list)\n",
    "print(\"Negative integers:\\n\", Negative_list)"
   ]
  }
 ],
 "metadata": {
  "kernelspec": {
   "display_name": "Python 3 (ipykernel)",
   "language": "python",
   "name": "python3"
  },
  "language_info": {
   "codemirror_mode": {
    "name": "ipython",
    "version": 3
   },
   "file_extension": ".py",
   "mimetype": "text/x-python",
   "name": "python",
   "nbconvert_exporter": "python",
   "pygments_lexer": "ipython3",
   "version": "3.10.8"
  }
 },
 "nbformat": 4,
 "nbformat_minor": 5
}
