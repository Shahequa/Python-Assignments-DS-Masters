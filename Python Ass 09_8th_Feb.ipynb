{
 "cells": [
  {
   "cell_type": "markdown",
   "id": "b3a5e56c-fd52-4566-b80f-706b20cf3679",
   "metadata": {},
   "source": [
    "### Python Assignment 9\n",
    "*By Shahequa Modabbera*"
   ]
  },
  {
   "cell_type": "markdown",
   "id": "e59e7081-f7ee-4e14-ac58-f92205736249",
   "metadata": {},
   "source": [
    "### Q1. What is Abstraction in OOps? Explain with an example."
   ]
  },
  {
   "cell_type": "markdown",
   "id": "23fc9375-9617-42f1-b506-438ddbd7f72e",
   "metadata": {},
   "source": [
    "`Ans) Abstraction in python is defined as a process of handling complexity by hiding unnecessary information from the user. This is one of the core concepts of object-oriented programming (OOP) languages. That enables the user to implement even more complex logic on top of the provided abstraction without understanding or even thinking about all the hidden background/back-end complexity.`\n",
    "\n",
    "`Our car is a great example of abstraction. We can start a car by turning the key or pressing the start button. We don’t need to know how the engine is getting started, what all components our car has. The car internal implementation and complex logic is completely hidden from the user.`"
   ]
  },
  {
   "cell_type": "markdown",
   "id": "c2b41f8a-ffe6-47ab-b4b6-a27a11312a6d",
   "metadata": {},
   "source": [
    "### Q2. Differentiate between Abstraction and Encapsulation. Explain with an example."
   ]
  },
  {
   "cell_type": "markdown",
   "id": "f26e7b07-3caa-43bb-ad02-6c08641a2ac3",
   "metadata": {},
   "source": [
    "`Ans) Difference Between Abstraction and Encapsulation:`\n",
    "\n",
    "`Definition:`\n",
    "\n",
    "    Abstraction is hiding the details and implementation of the code.\n",
    "    Encapsulation is hiding the data and controlling the visibility of the code.\n",
    "\n",
    "`Phase:`\n",
    "\n",
    "    Abstraction is a design level process.\n",
    "    Encapsulation is an implementation level process.\n",
    "\n",
    "`Pivotal Ability:`\n",
    "\n",
    "    Abstraction is concerned about what a class instance can do, instead of the implementation of the class.\n",
    "    Encapsulation helps in data binding and control over maintaining the transparency of the data.\n",
    "\n",
    "`Use Case:`\n",
    "\n",
    "    Abstraction is a design level process and it is used to reduce the complexity at the designing stage of a project.\n",
    "    Encapsulation is an implementation level process, and it is used to provide privacy and maintain control over the transparency of data at the implementation stage of a project.\n",
    "\n",
    "`Example:`  \n",
    "\n",
    "    Suppose we want to develop a banking application and are asked to gather all the details of our customer. We may gather some details that are irrelevant when developing a banking application. Hence, we have to choose only valuable information like name, address, tax info, etc. The process of fetching, removing, and selecting the customer information from a pool of data is called Abstraction.\n",
    "\n",
    "    Using smartphones, we can perform tasks like capturing photos, recording audio/video, listening to music, accessing the web, etc. These features are common in all smartphones. We don’t have to understand the internal working of these features. For example, we don’t need to know how our camera recognizes a human face in an image or how it calculates gamma correction. We simply need to learn the software interface. So, it is a real-world example of encapsulation.\n",
    "\n",
    "    Abstraction is used in mobile phones’ GUI. When we click on the icons, abstraction allows them to perform specific functions. After the icon is clicked, the encapsulation works in the backend to guide the user on the next steps."
   ]
  },
  {
   "cell_type": "markdown",
   "id": "d960b681-219f-4a1b-81b6-016d2709a254",
   "metadata": {},
   "source": [
    "### Q3. What is abc module in python? Why is it used?"
   ]
  },
  {
   "cell_type": "markdown",
   "id": "33cd6aee-dd95-4515-b9c2-c827776c3b40",
   "metadata": {},
   "source": [
    "`Ans) Python has a module called abc (abstract base class) that offers the necessary tools for crafting an abstract base class. This module provides the infrastructure for defining abstract base classes (ABCs) in Python.`\n",
    "\n",
    "`The purpose of the abc module is to provide a way to define abstract classes in Python. It provides a way to define a common interface for a set of related classes, making it easier to maintain and change the implementation of those classes over time.`\n",
    "\n",
    "`The abc module provides a way to specify which methods must be implemented by subclasses, so that we can be sure that all concrete subclasses will provide the required behavior. Additionally, the abc module provides a way to register a concrete subclass as an implementation of an abstract base class, so that we can use isinstance() and issubclass() checks to determine the type of an object or the inheritance relationships between classes, respectively`\n",
    "\n",
    "`Overall, the abc module is used to define abstract base classes in Python and provides a way to enforce a common interface for a set of related classes and thus achieve DATA ABSTRACTION.`"
   ]
  },
  {
   "cell_type": "markdown",
   "id": "c3ce0c7e-de16-4eaa-8f31-c8a028e47711",
   "metadata": {},
   "source": [
    "### Q4. How can we achieve data abstraction?"
   ]
  },
  {
   "cell_type": "markdown",
   "id": "428ab0b7-83fc-4d06-8855-c546deec6323",
   "metadata": {},
   "source": [
    "`Ans) The process by which data and functions are defined in such a way that only essential details can be seen and unnecessary implementations are hidden is called Data Abstraction.`\n",
    "\n",
    "`Data Abstraction in Python can be achieved through creating abstract classes and inheriting them later.`\n",
    "\n",
    "`Inheritance in OOP is a way through which one class inherits the attributes and methods of another class.` \n",
    "\n",
    "`Abstract Class: The classes that cannot be instantiated. This means that we cannot create objects of an abstract class and these are only meant to be inherited. Then an object of the derived class is used to access the features of the base class.` "
   ]
  },
  {
   "cell_type": "markdown",
   "id": "c3481ee2-93bf-4d0e-8c20-ae26658aaa99",
   "metadata": {},
   "source": [
    "### Q5. Can we create an instance of an abstract class? Explain your answer."
   ]
  },
  {
   "cell_type": "markdown",
   "id": "6bb2a420-c041-445f-b51f-4f53f714de13",
   "metadata": {},
   "source": [
    "`Ans) An abstract class can be considered as a blueprint for other classes. It allows you to create a set of methods that must be created within any child classes built from the abstract class. A class which contains one or more abstract methods is called an abstract class.` \n",
    "\n",
    "`Abstract classes are incomplete because they have methods that are not defined. If python allows creating an object for abstract classes then using that object if anyone calls the abstract method, but there is no actual implementation to invoke. So we use an abstract class as a template and according to the need, we extend it and build on it before we can use it. Due to the fact, an abstract class is not a concrete class, it cannot be instantiated. When we create an object or an instance for the abstract class it raises an error.`"
   ]
  }
 ],
 "metadata": {
  "kernelspec": {
   "display_name": "Python 3 (ipykernel)",
   "language": "python",
   "name": "python3"
  },
  "language_info": {
   "codemirror_mode": {
    "name": "ipython",
    "version": 3
   },
   "file_extension": ".py",
   "mimetype": "text/x-python",
   "name": "python",
   "nbconvert_exporter": "python",
   "pygments_lexer": "ipython3",
   "version": "3.10.8"
  }
 },
 "nbformat": 4,
 "nbformat_minor": 5
}
