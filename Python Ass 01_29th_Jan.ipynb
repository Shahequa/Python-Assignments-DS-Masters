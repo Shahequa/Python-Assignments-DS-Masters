{
 "cells": [
  {
   "cell_type": "markdown",
   "id": "610b2877-bd30-46db-8ed3-cbc5b83d62ee",
   "metadata": {},
   "source": [
    "   # Python Assignment 1 \n",
    "   ### By Shahequa Modabbera\n",
    "   \n",
    "   "
   ]
  },
  {
   "cell_type": "markdown",
   "id": "3a6f900f-f4fa-4380-8f29-3537fa06cd6b",
   "metadata": {
    "tags": []
   },
   "source": [
    "### 1. Who developed Python Programming Language?"
   ]
  },
  {
   "cell_type": "markdown",
   "id": "bbe69377-a689-4e27-8baf-a96344d2aeaf",
   "metadata": {},
   "source": [
    " Ans) Python was develpoed by Guido van Rossum in the year 1991."
   ]
  },
  {
   "cell_type": "markdown",
   "id": "c6e76fe5-91ad-457a-8185-8bf0e28ff47c",
   "metadata": {},
   "source": [
    "### 2. Which type of Programming does Python support?"
   ]
  },
  {
   "cell_type": "markdown",
   "id": "11c34bdd-5ffc-426c-9ea2-5c949b0b2b73",
   "metadata": {},
   "source": [
    " Ans) Python is a multi-paradigm programming language. Object-oriented programming and structured programming are fully supported, and many of their features support functional programming and aspect-oriented programming (including metaprogramming and metaobjects)"
   ]
  },
  {
   "cell_type": "markdown",
   "id": "60ea77e5-95cd-4b95-a75f-3d485b6b86f1",
   "metadata": {},
   "source": [
    "### 3. Is Python case sensitive when dealing with identifiers? "
   ]
  },
  {
   "cell_type": "markdown",
   "id": "54319730-e4c7-41b4-9e4a-fad5450c7e7d",
   "metadata": {},
   "source": [
    " Ans) Yes, Python is a case-sensitive language, i.e., it treats uppercase and lowercase characters differently. This applies to identifiers too. We must avoid using the same name with different cases while naming identifiers."
   ]
  },
  {
   "cell_type": "code",
   "execution_count": 1,
   "id": "3accd663-b64c-47b5-b6f8-f1ed95619091",
   "metadata": {},
   "outputs": [],
   "source": [
    "a = 3\n",
    "A = 7"
   ]
  },
  {
   "cell_type": "code",
   "execution_count": 2,
   "id": "3d317209-303d-47be-bd90-bf1c97103e07",
   "metadata": {},
   "outputs": [
    {
     "data": {
      "text/plain": [
       "3"
      ]
     },
     "execution_count": 2,
     "metadata": {},
     "output_type": "execute_result"
    }
   ],
   "source": [
    "a"
   ]
  },
  {
   "cell_type": "code",
   "execution_count": 3,
   "id": "28700d2e-a541-40e2-925c-60763b2b7d06",
   "metadata": {},
   "outputs": [
    {
     "data": {
      "text/plain": [
       "7"
      ]
     },
     "execution_count": 3,
     "metadata": {},
     "output_type": "execute_result"
    }
   ],
   "source": [
    "A"
   ]
  },
  {
   "cell_type": "markdown",
   "id": "b30398a5-b41b-4f2d-acf4-2a8efe99e15e",
   "metadata": {},
   "source": [
    "### 4. What is the correct extension of the Python file?"
   ]
  },
  {
   "cell_type": "markdown",
   "id": "17bf2c28-542e-4651-a0de-8e265b8aada0",
   "metadata": {},
   "source": [
    " Ans) The correct extension of the Python file is *.py*"
   ]
  },
  {
   "cell_type": "markdown",
   "id": "dd68d852-cb23-45d7-9a8d-56d83cc1b304",
   "metadata": {},
   "source": [
    "### 5. Is Python code compiled or interpreted? "
   ]
  },
  {
   "cell_type": "markdown",
   "id": "48e7b301-9a5c-4f44-a47f-e013147372d6",
   "metadata": {},
   "source": [
    "Ans) Python is both compiled as well as an interpreted language. This means when we run a python code, it is first compiled and then interpreted line by line. The compilation part is mostly hidden from the user. While running the code, Python generates a byte code internally, this byte code is then converted using a python virtual machine (p.v.m) to generate the output. So, python is considered as an interpreted language."
   ]
  },
  {
   "cell_type": "markdown",
   "id": "03b73972-7388-4ed5-b251-47de26ceaf59",
   "metadata": {},
   "source": [
    "### 6. Name a few blocks of code used to define in Python language?"
   ]
  },
  {
   "cell_type": "markdown",
   "id": "cc51b28e-9601-4309-aa80-55c5fc1a565b",
   "metadata": {},
   "source": [
    "The chunks of code written at the same indentation level in Python make up a block of code. A block of code is a piece of Python program text that is executed as a unit.\n",
    "Few blocks of code used to define in Python language are:"
   ]
  },
  {
   "cell_type": "markdown",
   "id": "8fc63ba3-e4a1-4167-b9c7-14fb21c4bfb2",
   "metadata": {},
   "source": [
    ". Function\n",
    "\n",
    ". Class\n",
    "\n",
    ". If-statement\n",
    "\n",
    ". For loop\n",
    "\n",
    ". While loop\n",
    "\n",
    ". Module"
   ]
  },
  {
   "cell_type": "markdown",
   "id": "4546d95e-6f06-440f-8a78-6c8af071377c",
   "metadata": {},
   "source": [
    "### 7. State a character used to give single-line comments in Python? "
   ]
  },
  {
   "cell_type": "markdown",
   "id": "3e814902-1889-4504-abfc-1e4a8541a692",
   "metadata": {},
   "source": [
    "Ans) We use the # character to write a single-line comment."
   ]
  },
  {
   "cell_type": "code",
   "execution_count": 4,
   "id": "4bf4e4a1-4373-48ff-8178-113b72e82eb5",
   "metadata": {},
   "outputs": [],
   "source": [
    "#This is a single-line comment"
   ]
  },
  {
   "cell_type": "markdown",
   "id": "52f60ac2-b295-4a0b-93fd-5bc792bcadb5",
   "metadata": {},
   "source": [
    "### 8. Mention functions which can help us to find the version of python that we are currently working on? "
   ]
  },
  {
   "cell_type": "markdown",
   "id": "82070664-159a-4c9c-bd8d-b9e35ab9dc42",
   "metadata": {},
   "source": [
    "Ans) The functions which can help us to find the version of python that we are currently working on are as follows:\n",
    "\n",
    "    . Using sys.version method\n",
    "    \n",
    "    . Using python_version() function"
   ]
  },
  {
   "cell_type": "code",
   "execution_count": 5,
   "id": "39f3ab4a-bdbb-4ab9-a76b-7c92f5d2c5b9",
   "metadata": {},
   "outputs": [
    {
     "name": "stdout",
     "output_type": "stream",
     "text": [
      "The Current Python Version:- 3.10.8 | packaged by conda-forge | (main, Nov 22 2022, 08:26:04) [GCC 10.4.0]\n"
     ]
    }
   ],
   "source": [
    "import sys\n",
    "\n",
    "print(\"The Current Python Version:-\", sys.version)"
   ]
  },
  {
   "cell_type": "code",
   "execution_count": 6,
   "id": "79e043b1-3698-4879-b2b9-c750b5205dab",
   "metadata": {},
   "outputs": [
    {
     "name": "stdout",
     "output_type": "stream",
     "text": [
      "Current Python Version- 3.10.8\n"
     ]
    }
   ],
   "source": [
    "from platform import python_version\n",
    "\n",
    "print(\"Current Python Version-\", python_version())"
   ]
  },
  {
   "cell_type": "markdown",
   "id": "ac22d7a3-ba00-4c32-9fa3-663486841b9c",
   "metadata": {},
   "source": [
    "### 9. Python supports the creation of anonymous functions at runtime, using a construct called --------"
   ]
  },
  {
   "cell_type": "markdown",
   "id": "3178e089-5969-4fde-ae32-d95fb33d28df",
   "metadata": {},
   "source": [
    "Ans) Python supports the creation of anonymous functions at runtime, using a construct called *lambda function*"
   ]
  },
  {
   "cell_type": "code",
   "execution_count": 7,
   "id": "41a5e15c-efba-4f00-a379-c7f740acf4b0",
   "metadata": {},
   "outputs": [
    {
     "data": {
      "text/plain": [
       "15"
      ]
     },
     "execution_count": 7,
     "metadata": {},
     "output_type": "execute_result"
    }
   ],
   "source": [
    "#Lambda Function\n",
    "a = lambda n, p: n+p\n",
    "a(6,9)"
   ]
  },
  {
   "cell_type": "markdown",
   "id": "bebfb471-490e-4b5d-90bc-0e7bcb1cf3a5",
   "metadata": {},
   "source": [
    "### 10. What does pip stand for python? "
   ]
  },
  {
   "cell_type": "markdown",
   "id": "2284aeb6-948b-4580-ae71-5a0e82ea3d54",
   "metadata": {},
   "source": [
    "Ans) PIP stands for “Preferred Installer Program” in python."
   ]
  },
  {
   "cell_type": "markdown",
   "id": "0c6e64be-9ec1-4a12-a907-73bd1127a938",
   "metadata": {},
   "source": [
    "### 11. Mention a few built-in functions in python? "
   ]
  },
  {
   "cell_type": "markdown",
   "id": "f938384e-68e1-4197-bd0a-f22bcde93e4a",
   "metadata": {},
   "source": [
    "**Python has a set of built-in functions:**\n",
    "\n",
    "1. print()\tPrints to the standard output device\n",
    "\n",
    "2. range()\tReturns a sequence of numbers, starting from 0 and increments by 1 (by default)\n",
    "\n",
    "3. str()  \tReturns a string object\n",
    " \n",
    "4. type() \tReturns the type of an object\n",
    "\n",
    "5. len()\tReturns the length of an object\n",
    "\n",
    "6. filter()\tUse a filter function to exclude items in an iterable object\n",
    "\n",
    "7. next()\tReturns the next item in an iterable"
   ]
  },
  {
   "cell_type": "markdown",
   "id": "2c4c4afe-671b-471c-97a7-78f654b8519e",
   "metadata": {},
   "source": [
    "### 12. What is the maximum possible length of an identifier in Python? "
   ]
  },
  {
   "cell_type": "markdown",
   "id": "9d76bb6a-4b39-4f7f-8f4a-9be98a55fa71",
   "metadata": {},
   "source": [
    "Ans) An identifier can have a maximum length of 79 characters in Python."
   ]
  },
  {
   "cell_type": "markdown",
   "id": "6a06361b-1c13-45f7-bcc4-eb2b37697616",
   "metadata": {},
   "source": [
    "### 13. What are the benefits of using Python? "
   ]
  },
  {
   "cell_type": "markdown",
   "id": "f2770160-0f01-4c86-b04f-f7735f052cbc",
   "metadata": {},
   "source": [
    "Ans) **The benefits of using Python are:**"
   ]
  },
  {
   "cell_type": "markdown",
   "id": "90e26720-9308-453c-a976-28113870d792",
   "metadata": {},
   "source": [
    "   . Presence of third-party modules \n",
    "   \n",
    "   . Extensive support libraries(NumPy for numerical calculations, Pandas for data analytics, etc.) \n",
    "   \n",
    "   . Open source and large active community base \n",
    "   \n",
    "   . Versatile, Easy to read, learn and write\n",
    "   \n",
    "   . User-friendly data structures \n",
    "   \n",
    "   . High-level language \n",
    "   \n",
    "   . Dynamically typed language (no need to mention data type based on the value assigned, it takes data type) \n",
    "   \n",
    "   . Object-Oriented and Procedural  Programming language\n",
    "   \n",
    "   . Portable and Interactive\n",
    "   \n",
    "   . Ideal for prototypes – provide more functionality with less coding\n",
    "   \n",
    "   . Highly Efficient(Python’s clean object-oriented design provides enhanced process control, and the language is equipped with excellent text\n",
    "     processing and integration capabilities, as well as its own unit testing framework, which makes it more efficient.)\n",
    "     \n",
    "   . Internet of Things(IoT) Opportunities\n",
    "   \n",
    "   . Interpreted Language\n",
    "   \n",
    "   . Portable across Operating systems "
   ]
  },
  {
   "cell_type": "markdown",
   "id": "e219600f-40a3-4a6d-901b-c7344e21675b",
   "metadata": {},
   "source": [
    "### 14. How is memory managed in Python?"
   ]
  },
  {
   "cell_type": "markdown",
   "id": "ec2ca4bb-9ae3-4ec0-99ec-c74af2a51c94",
   "metadata": {},
   "source": [
    "Memory management in Python involves a private heap containing all Python objects and data structures. The management of this private heap is ensured internally by the Python memory manager. The Python memory manager has different components which deal with various dynamic storage management aspects, like sharing, segmentation, preallocation or caching.\n",
    "\n",
    "In Python memory allocation and deallocation method is automatic as the Python developers created a garbage collector for Python so that the user does not have to do manual garbage collection.\n",
    "\n",
    "Garbage collection is a process in which the interpreter frees up the memory when not in use to make it available for other objects.\n",
    "\n",
    "There are two parts of memory:\n",
    "\n",
    "     stack memory - The methods/method calls and the references are stored in stack memory\n",
    "  \n",
    "     heap memory - All the values objects are stored in a private heap"
   ]
  },
  {
   "cell_type": "markdown",
   "id": "332b427e-6ee8-4268-a8c6-8fcb1651af88",
   "metadata": {},
   "source": [
    "### 15. How to install Python on Windows and set path variables? "
   ]
  },
  {
   "cell_type": "markdown",
   "id": "d22f9d07-3b7f-4602-b8dc-c2c89f8c2c1d",
   "metadata": {},
   "source": [
    "Step 1: Download python from the link https://www.python.org/downloads/\n",
    "\n",
    "Step 2: Install it in the PC.\n",
    "\n",
    "Step 3: Press WINDOWS key and search for “Python”.\n",
    "\n",
    "Step 4: Click on open file location and we will be in a location where Python is installed, Copy the location path from the top by clicking over it.\n",
    "\n",
    "Step 5: Search for “Environmental Variables” in the WINDOWS and open it.\n",
    "\n",
    "Step 6: Now click the “Environmental Variables” button under the Advanced.\n",
    "\n",
    "Step 7: There will be two categories namely “User” and “System”, we have to add it in Users, click on New button in the User section.\n",
    "\n",
    "Step 8: Now, add a Variable Name and Path which we copied previously and click OK. "
   ]
  },
  {
   "cell_type": "markdown",
   "id": "66016007-ded3-4eb6-aaf6-b9c919db79e7",
   "metadata": {},
   "source": [
    "### 16. Is indentation required in python?"
   ]
  },
  {
   "cell_type": "markdown",
   "id": "2f9f8cbc-9e05-483f-8d3e-3d5104305a28",
   "metadata": {},
   "source": [
    " Ans) Indentation is mandatory in python to define the blocks of statements. It is preferred to use whitespaces instead of tabs to indent in python. Python uses four spaces as default indentation spaces."
   ]
  }
 ],
 "metadata": {
  "kernelspec": {
   "display_name": "Python 3 (ipykernel)",
   "language": "python",
   "name": "python3"
  },
  "language_info": {
   "codemirror_mode": {
    "name": "ipython",
    "version": 3
   },
   "file_extension": ".py",
   "mimetype": "text/x-python",
   "name": "python",
   "nbconvert_exporter": "python",
   "pygments_lexer": "ipython3",
   "version": "3.10.8"
  }
 },
 "nbformat": 4,
 "nbformat_minor": 5
}
