{
 "cells": [
  {
   "cell_type": "markdown",
   "id": "51736ec2-bf81-4a51-b77c-4a8e7e88f190",
   "metadata": {},
   "source": [
    "### Python Assignment 4\n",
    "*By Shahequa Modabbera*"
   ]
  },
  {
   "cell_type": "markdown",
   "id": "755a951a-7265-472c-a267-db2276993108",
   "metadata": {},
   "source": [
    "### Q1. Which keyword is used to create a function? Create a function to return a list of odd numbers in the range of 1 to 25."
   ]
  },
  {
   "cell_type": "markdown",
   "id": "bd96c1ce-d987-4361-aa14-ed0687504666",
   "metadata": {},
   "source": [
    "`\"def\" keyword is used to create a function.`"
   ]
  },
  {
   "cell_type": "code",
   "execution_count": 1,
   "id": "cf51e30c-f706-4669-9773-a5efe1f09d19",
   "metadata": {},
   "outputs": [
    {
     "name": "stdout",
     "output_type": "stream",
     "text": [
      "The list of odd numbers in the range of 1 to 25 is\n"
     ]
    },
    {
     "data": {
      "text/plain": [
       "[1, 3, 5, 7, 9, 11, 13, 15, 17, 19, 21, 23]"
      ]
     },
     "execution_count": 1,
     "metadata": {},
     "output_type": "execute_result"
    }
   ],
   "source": [
    "def odd_numbers():\n",
    "    l = []\n",
    "    for i in range(1, 25):\n",
    "        if i%2 != 0:\n",
    "             l.append(i)\n",
    "    return l\n",
    "\n",
    "print(\"The list of odd numbers in the range of 1 to 25 is\")\n",
    "\n",
    "odd_numbers()"
   ]
  },
  {
   "cell_type": "markdown",
   "id": "1ac851b3-43c0-452f-98d5-452ef41ed15a",
   "metadata": {},
   "source": [
    "### Q2. Why *args and **kwargs is used in some functions? Create a function each for *args and **kwargs to demonstrate their use."
   ]
  },
  {
   "cell_type": "markdown",
   "id": "6a0218fb-7cf7-49ac-bc4a-fc74d32de521",
   "metadata": {},
   "source": [
    "`We can use *args and **kwargs as arguments of a function when we are unsure about the number of arguments to pass in the functions.`\n",
    "\n",
    "`*args allows us to pass a variable number of non-keyword arguments to a Python function. In the function, we should use an asterisk (*) before the parameter name to pass a variable number of arguments.`"
   ]
  },
  {
   "cell_type": "code",
   "execution_count": 2,
   "id": "39ab0988-fb30-47f1-9af2-47a92b981d67",
   "metadata": {},
   "outputs": [
    {
     "name": "stdout",
     "output_type": "stream",
     "text": [
      "5\n",
      "23\n",
      "17\n"
     ]
    }
   ],
   "source": [
    "# *args function\n",
    "def add(*num):\n",
    "    total = 0\n",
    "    for i in num:\n",
    "        total += i\n",
    "    return total\n",
    "\n",
    "print(add(2,3))\n",
    "print(add(6,8,9))\n",
    "print(add(2,4,5,6))"
   ]
  },
  {
   "cell_type": "markdown",
   "id": "6d1b24db-2949-404b-81f4-7bc56462e920",
   "metadata": {},
   "source": [
    "`**kwargs allows us to pass a variable number of keyword arguments to a Python function. In the function, we use the double-asterisk (**) before the parameter name to denote this type of argument.`"
   ]
  },
  {
   "cell_type": "code",
   "execution_count": 3,
   "id": "7c3cfcb0-9b3d-4757-89d6-0ca452d86601",
   "metadata": {},
   "outputs": [
    {
     "name": "stdout",
     "output_type": "stream",
     "text": [
      "18\n",
      "9\n"
     ]
    }
   ],
   "source": [
    "# **kwargs function\n",
    "def total_fruits(**fruits):\n",
    "    total = 0\n",
    "    for i in fruits.values():\n",
    "        total += i\n",
    "    return total\n",
    "\n",
    "print(total_fruits(mango=4, banana=8, apple=6))\n",
    "print(total_fruits(orange=6, mango=3,))"
   ]
  },
  {
   "cell_type": "markdown",
   "id": "9a4d3661-4a49-4aa3-b835-efa07a17d018",
   "metadata": {},
   "source": [
    "### Q3. What is an iterator in python? Name the method used to initialise the iterator object and the method used for iteration. Use these methods to print the first five elements of the given list [2, 4, 6, 8, 10, 12, 14, 16, 18, 20]."
   ]
  },
  {
   "cell_type": "markdown",
   "id": "0cdef1b4-35e5-4667-a18d-a433b605b2f0",
   "metadata": {},
   "source": [
    "`Iterator in Python is an object that is used to iterate over iterable objects like lists, tuples, dicts, and sets. The iterator object is initialized using the iter() method. It uses the next() method for iteration.`\n",
    "\n",
    "    __iter__(): The iter() method is called for the initialization of an iterator. This returns an iterator object\n",
    "    \n",
    "    __next__(): The next() method returns the next value for the iterable. When we use a for loop to traverse any iterable object, internally it uses the iter() method to get an iterator object, which further uses the next() method to iterate over. This method raises a StopIteration to signal the end of the iteration."
   ]
  },
  {
   "cell_type": "code",
   "execution_count": 4,
   "id": "965b1385-5d25-442f-9a8d-519e8e90fd56",
   "metadata": {},
   "outputs": [],
   "source": [
    "l = [2, 4, 6, 8, 10, 12, 14, 16, 18, 20]\n",
    "elements = iter(l)"
   ]
  },
  {
   "cell_type": "code",
   "execution_count": 5,
   "id": "310f30ca-39fa-4cba-aa5c-87db24f50e28",
   "metadata": {},
   "outputs": [
    {
     "name": "stdout",
     "output_type": "stream",
     "text": [
      "2\n",
      "4\n",
      "6\n",
      "8\n",
      "10\n"
     ]
    }
   ],
   "source": [
    "print(next(elements))\n",
    "print(next(elements))\n",
    "print(next(elements))\n",
    "print(next(elements))\n",
    "print(next(elements))"
   ]
  },
  {
   "cell_type": "markdown",
   "id": "1ff463ef-60a1-4d71-b9c8-18affce09100",
   "metadata": {},
   "source": [
    "### Q4. What is a generator function in python? Why yield keyword is used? Give an example of a generator function."
   ]
  },
  {
   "cell_type": "markdown",
   "id": "da20b9eb-9f64-46f6-82a5-f226ab937048",
   "metadata": {},
   "source": [
    "`In Python, a generator is a function that returns an iterator that produces a sequence of values when iterated over.`\n",
    "\n",
    "`Generators are useful when we want to produce a large sequence of values, but we don't want to store all of them in memory at once.`\n",
    "\n",
    "`The yield keyword is used to produce a value from the generator.`\n",
    "\n",
    "`When the generator function is called, it does not execute the function body immediately. Instead, it returns a generator object that can be iterated over to produce the values.`"
   ]
  },
  {
   "cell_type": "code",
   "execution_count": 6,
   "id": "cfe6e645-3703-428d-9c06-3ff4097901e6",
   "metadata": {},
   "outputs": [
    {
     "name": "stdout",
     "output_type": "stream",
     "text": [
      "0\n",
      "1\n",
      "2\n",
      "3\n",
      "4\n"
     ]
    }
   ],
   "source": [
    "def my_generator(n):\n",
    "    value = 0\n",
    "    while value < n:\n",
    "        yield value\n",
    "        value += 1\n",
    "        \n",
    "for value in my_generator(5):\n",
    "    print(value)"
   ]
  },
  {
   "cell_type": "markdown",
   "id": "2d9046b9-013c-4eb4-80c0-5bb4d78257ba",
   "metadata": {},
   "source": [
    "### Q5. Create a generator function for prime numbers less than 1000. Use the next() method to print the first 20 prime numbers."
   ]
  },
  {
   "cell_type": "code",
   "execution_count": 7,
   "id": "3948c5fe-c667-4169-ba84-b3f092f5698f",
   "metadata": {},
   "outputs": [
    {
     "name": "stdout",
     "output_type": "stream",
     "text": [
      "2\n",
      "3\n",
      "5\n",
      "7\n",
      "11\n",
      "13\n",
      "17\n",
      "19\n",
      "23\n",
      "29\n",
      "31\n",
      "37\n",
      "41\n",
      "43\n",
      "47\n",
      "53\n",
      "59\n",
      "61\n",
      "67\n",
      "71\n"
     ]
    }
   ],
   "source": [
    "prime_list = []\n",
    "def prime_num():\n",
    "    for num in range(2, 1000): ##prime numbers start from 2\n",
    "        is_prime = True ## the number is assumed to be prime until it is proven false\n",
    "        for i in prime_list:\n",
    "            if num % i == 0:\n",
    "                is_prime = False\n",
    "                break\n",
    "        if is_prime:\n",
    "            prime_list.append(num)\n",
    "            yield num\n",
    "            \n",
    "p_num = prime_num()\n",
    "for i in range(20):\n",
    "    print(next(p_num))"
   ]
  },
  {
   "cell_type": "markdown",
   "id": "bcdee482-4b21-4066-9ae5-64fe37f6774b",
   "metadata": {},
   "source": [
    "### Q6. Write a python program to print the first 10 Fibonacci numbers using a while loop."
   ]
  },
  {
   "cell_type": "code",
   "execution_count": 8,
   "id": "dd4ace0e-dde3-4b76-b178-7c5477a39ca2",
   "metadata": {},
   "outputs": [
    {
     "name": "stdout",
     "output_type": "stream",
     "text": [
      "0\n",
      "1\n",
      "1\n",
      "2\n",
      "3\n",
      "5\n",
      "8\n",
      "13\n",
      "21\n",
      "34\n"
     ]
    }
   ],
   "source": [
    "number = 10\n",
    "a,b = 0,1\n",
    "counter = 0\n",
    "\n",
    "while counter < number:\n",
    "    print(a)\n",
    "    c = a+b\n",
    "    a = b\n",
    "    b = c\n",
    "    counter = counter + 1"
   ]
  },
  {
   "cell_type": "markdown",
   "id": "723a9267-d649-489f-98ae-cbb3e02a65ab",
   "metadata": {},
   "source": [
    "### Q7. Write a List Comprehension to iterate through the given string: ‘pwskills’.\n",
    "Expected output: ['p', 'w', 's', 'k', 'i', 'l', 'l', 's']"
   ]
  },
  {
   "cell_type": "code",
   "execution_count": 9,
   "id": "8fd07ed4-953b-47cd-979e-40db553ccfdd",
   "metadata": {},
   "outputs": [
    {
     "data": {
      "text/plain": [
       "['p', 'w', 's', 'k', 'i', 'l', 'l', 's']"
      ]
     },
     "execution_count": 9,
     "metadata": {},
     "output_type": "execute_result"
    }
   ],
   "source": [
    "string = 'pwskills'\n",
    "[i for i in string]"
   ]
  },
  {
   "cell_type": "markdown",
   "id": "97691437-5fd8-4fd9-a006-11e66b290a22",
   "metadata": {},
   "source": [
    "### Q8. Write a python program to check whether a given number is Palindrome or not using a while loop."
   ]
  },
  {
   "cell_type": "code",
   "execution_count": 10,
   "id": "b8328c04-685d-4512-919f-f4bbe9573ce6",
   "metadata": {},
   "outputs": [
    {
     "name": "stdin",
     "output_type": "stream",
     "text": [
      "Enter the number:  1551\n"
     ]
    },
    {
     "name": "stdout",
     "output_type": "stream",
     "text": [
      "The reverse number is:  1551\n",
      "The number is a palindrome\n"
     ]
    }
   ],
   "source": [
    "num = int(input(\"Enter the number: \"))\n",
    "temp = num\n",
    "reverse = 0\n",
    "\n",
    "while num > 0:\n",
    "    dig = num % 10\n",
    "    reverse = reverse * 10 + dig\n",
    "    num = num // 10\n",
    "\n",
    "print(\"The reverse number is: \", reverse)\n",
    "\n",
    "if temp == reverse:\n",
    "    print(\"The number is a palindrome\")\n",
    "else:\n",
    "    print(\"The number is not a palindrome\")"
   ]
  },
  {
   "cell_type": "markdown",
   "id": "f7f2b8e4-d512-4ada-95ce-faee578bb665",
   "metadata": {},
   "source": [
    "### Q9. Write a code to print odd numbers from 1 to 100 using list comprehension.\n",
    "Note: Use a list comprehension to create a list from 1 to 100 and use another List comprehension to filter out odd numbers."
   ]
  },
  {
   "cell_type": "code",
   "execution_count": 11,
   "id": "d84b7bda-7886-47d9-87ce-0c0a5ed12c9b",
   "metadata": {},
   "outputs": [
    {
     "data": {
      "text/plain": [
       "[1,\n",
       " 3,\n",
       " 5,\n",
       " 7,\n",
       " 9,\n",
       " 11,\n",
       " 13,\n",
       " 15,\n",
       " 17,\n",
       " 19,\n",
       " 21,\n",
       " 23,\n",
       " 25,\n",
       " 27,\n",
       " 29,\n",
       " 31,\n",
       " 33,\n",
       " 35,\n",
       " 37,\n",
       " 39,\n",
       " 41,\n",
       " 43,\n",
       " 45,\n",
       " 47,\n",
       " 49,\n",
       " 51,\n",
       " 53,\n",
       " 55,\n",
       " 57,\n",
       " 59,\n",
       " 61,\n",
       " 63,\n",
       " 65,\n",
       " 67,\n",
       " 69,\n",
       " 71,\n",
       " 73,\n",
       " 75,\n",
       " 77,\n",
       " 79,\n",
       " 81,\n",
       " 83,\n",
       " 85,\n",
       " 87,\n",
       " 89,\n",
       " 91,\n",
       " 93,\n",
       " 95,\n",
       " 97,\n",
       " 99]"
      ]
     },
     "execution_count": 11,
     "metadata": {},
     "output_type": "execute_result"
    }
   ],
   "source": [
    "l = range(1,101)\n",
    "[i for i in l]\n",
    "[i for i in l if i % 2 != 0]"
   ]
  }
 ],
 "metadata": {
  "kernelspec": {
   "display_name": "Python 3 (ipykernel)",
   "language": "python",
   "name": "python3"
  },
  "language_info": {
   "codemirror_mode": {
    "name": "ipython",
    "version": 3
   },
   "file_extension": ".py",
   "mimetype": "text/x-python",
   "name": "python",
   "nbconvert_exporter": "python",
   "pygments_lexer": "ipython3",
   "version": "3.10.8"
  }
 },
 "nbformat": 4,
 "nbformat_minor": 5
}
