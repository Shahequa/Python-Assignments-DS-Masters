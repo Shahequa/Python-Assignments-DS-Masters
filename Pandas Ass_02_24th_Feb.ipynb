{
 "cells": [
  {
   "cell_type": "markdown",
   "id": "37239c62-7d65-4f5d-82e4-5242605a3363",
   "metadata": {},
   "source": [
    "### Q1. List any five functions of the pandas library with execution."
   ]
  },
  {
   "cell_type": "markdown",
   "id": "79d976dd-2020-493b-8391-468040add9b4",
   "metadata": {},
   "source": [
    "#### Ans) Five functions of the pandas library with their execution:\n",
    "#### 1. `read_csv()`: This function is used to read a CSV file and store it as a pandas DataFrame."
   ]
  },
  {
   "cell_type": "code",
   "execution_count": 6,
   "id": "dee7be74-5629-4e1e-81c2-dbf19925d848",
   "metadata": {},
   "outputs": [
    {
     "data": {
      "text/html": [
       "<div>\n",
       "<style scoped>\n",
       "    .dataframe tbody tr th:only-of-type {\n",
       "        vertical-align: middle;\n",
       "    }\n",
       "\n",
       "    .dataframe tbody tr th {\n",
       "        vertical-align: top;\n",
       "    }\n",
       "\n",
       "    .dataframe thead th {\n",
       "        text-align: right;\n",
       "    }\n",
       "</style>\n",
       "<table border=\"1\" class=\"dataframe\">\n",
       "  <thead>\n",
       "    <tr style=\"text-align: right;\">\n",
       "      <th></th>\n",
       "      <th>id</th>\n",
       "      <th>location_id</th>\n",
       "      <th>program_id</th>\n",
       "      <th>accepted_payments</th>\n",
       "      <th>alternate_name</th>\n",
       "      <th>application_process</th>\n",
       "      <th>audience</th>\n",
       "      <th>description</th>\n",
       "      <th>eligibility</th>\n",
       "      <th>email</th>\n",
       "      <th>...</th>\n",
       "      <th>interpretation_services</th>\n",
       "      <th>keywords</th>\n",
       "      <th>languages</th>\n",
       "      <th>name</th>\n",
       "      <th>required_documents</th>\n",
       "      <th>service_areas</th>\n",
       "      <th>status</th>\n",
       "      <th>wait_time</th>\n",
       "      <th>website</th>\n",
       "      <th>taxonomy_ids</th>\n",
       "    </tr>\n",
       "  </thead>\n",
       "  <tbody>\n",
       "    <tr>\n",
       "      <th>0</th>\n",
       "      <td>1</td>\n",
       "      <td>1</td>\n",
       "      <td>NaN</td>\n",
       "      <td>NaN</td>\n",
       "      <td>NaN</td>\n",
       "      <td>Walk in or apply by phone.</td>\n",
       "      <td>Older adults age 55 or over, ethnic minorities...</td>\n",
       "      <td>A walk-in center for older adults that provide...</td>\n",
       "      <td>Age 55 or over for most programs, age 60 or ov...</td>\n",
       "      <td>NaN</td>\n",
       "      <td>...</td>\n",
       "      <td>NaN</td>\n",
       "      <td>ADULT PROTECTION AND CARE SERVICES, Meal Sites...</td>\n",
       "      <td>NaN</td>\n",
       "      <td>Fair Oaks Adult Activity Center</td>\n",
       "      <td>NaN</td>\n",
       "      <td>Colma</td>\n",
       "      <td>active</td>\n",
       "      <td>No wait.</td>\n",
       "      <td>NaN</td>\n",
       "      <td>NaN</td>\n",
       "    </tr>\n",
       "    <tr>\n",
       "      <th>1</th>\n",
       "      <td>2</td>\n",
       "      <td>2</td>\n",
       "      <td>NaN</td>\n",
       "      <td>NaN</td>\n",
       "      <td>NaN</td>\n",
       "      <td>Apply by phone for an appointment.</td>\n",
       "      <td>Residents of San Mateo County age 55 or over</td>\n",
       "      <td>Provides training and job placement to eligibl...</td>\n",
       "      <td>Age 55 or over, county resident and willing an...</td>\n",
       "      <td>NaN</td>\n",
       "      <td>...</td>\n",
       "      <td>NaN</td>\n",
       "      <td>EMPLOYMENT/TRAINING SERVICES, Job Development,...</td>\n",
       "      <td>NaN</td>\n",
       "      <td>Second Career Employment Program</td>\n",
       "      <td>NaN</td>\n",
       "      <td>San Mateo County</td>\n",
       "      <td>active</td>\n",
       "      <td>Varies.</td>\n",
       "      <td>NaN</td>\n",
       "      <td>NaN</td>\n",
       "    </tr>\n",
       "    <tr>\n",
       "      <th>2</th>\n",
       "      <td>3</td>\n",
       "      <td>3</td>\n",
       "      <td>NaN</td>\n",
       "      <td>NaN</td>\n",
       "      <td>NaN</td>\n",
       "      <td>Phone for information (403-4300 Ext. 4322).</td>\n",
       "      <td>Older adults age 55 or over who can benefit fr...</td>\n",
       "      <td>Offers supportive counseling services to San M...</td>\n",
       "      <td>Resident of San Mateo County age 55 or over</td>\n",
       "      <td>NaN</td>\n",
       "      <td>...</td>\n",
       "      <td>NaN</td>\n",
       "      <td>Geriatric Counseling, Older Adults, Gay, Lesbi...</td>\n",
       "      <td>NaN</td>\n",
       "      <td>Senior Peer Counseling</td>\n",
       "      <td>NaN</td>\n",
       "      <td>San Mateo County</td>\n",
       "      <td>active</td>\n",
       "      <td>Varies.</td>\n",
       "      <td>NaN</td>\n",
       "      <td>NaN</td>\n",
       "    </tr>\n",
       "    <tr>\n",
       "      <th>3</th>\n",
       "      <td>4</td>\n",
       "      <td>4</td>\n",
       "      <td>NaN</td>\n",
       "      <td>NaN</td>\n",
       "      <td>NaN</td>\n",
       "      <td>Apply by phone.</td>\n",
       "      <td>Parents, children, families with problems of c...</td>\n",
       "      <td>Provides supervised visitation services and a ...</td>\n",
       "      <td>None</td>\n",
       "      <td>NaN</td>\n",
       "      <td>...</td>\n",
       "      <td>NaN</td>\n",
       "      <td>INDIVIDUAL AND FAMILY DEVELOPMENT SERVICES, Gr...</td>\n",
       "      <td>NaN</td>\n",
       "      <td>Family Visitation Center</td>\n",
       "      <td>NaN</td>\n",
       "      <td>San Mateo County</td>\n",
       "      <td>active</td>\n",
       "      <td>No wait.</td>\n",
       "      <td>NaN</td>\n",
       "      <td>NaN</td>\n",
       "    </tr>\n",
       "    <tr>\n",
       "      <th>4</th>\n",
       "      <td>5</td>\n",
       "      <td>5</td>\n",
       "      <td>NaN</td>\n",
       "      <td>NaN</td>\n",
       "      <td>NaN</td>\n",
       "      <td>Phone for information.</td>\n",
       "      <td>Low-income working families with children tran...</td>\n",
       "      <td>Provides fixed 8% short term loans to eligible...</td>\n",
       "      <td>Eligibility: Low-income family with legal cust...</td>\n",
       "      <td>NaN</td>\n",
       "      <td>...</td>\n",
       "      <td>NaN</td>\n",
       "      <td>COMMUNITY SERVICES, Speakers, Automobile Loans</td>\n",
       "      <td>NaN</td>\n",
       "      <td>Economic Self-Sufficiency Program</td>\n",
       "      <td>NaN</td>\n",
       "      <td>San Mateo County</td>\n",
       "      <td>active</td>\n",
       "      <td>NaN</td>\n",
       "      <td>NaN</td>\n",
       "      <td>NaN</td>\n",
       "    </tr>\n",
       "  </tbody>\n",
       "</table>\n",
       "<p>5 rows × 22 columns</p>\n",
       "</div>"
      ],
      "text/plain": [
       "   id  location_id  program_id accepted_payments alternate_name  \\\n",
       "0   1            1         NaN               NaN            NaN   \n",
       "1   2            2         NaN               NaN            NaN   \n",
       "2   3            3         NaN               NaN            NaN   \n",
       "3   4            4         NaN               NaN            NaN   \n",
       "4   5            5         NaN               NaN            NaN   \n",
       "\n",
       "                           application_process  \\\n",
       "0                   Walk in or apply by phone.   \n",
       "1           Apply by phone for an appointment.   \n",
       "2  Phone for information (403-4300 Ext. 4322).   \n",
       "3                              Apply by phone.   \n",
       "4                       Phone for information.   \n",
       "\n",
       "                                            audience  \\\n",
       "0  Older adults age 55 or over, ethnic minorities...   \n",
       "1       Residents of San Mateo County age 55 or over   \n",
       "2  Older adults age 55 or over who can benefit fr...   \n",
       "3  Parents, children, families with problems of c...   \n",
       "4  Low-income working families with children tran...   \n",
       "\n",
       "                                         description  \\\n",
       "0  A walk-in center for older adults that provide...   \n",
       "1  Provides training and job placement to eligibl...   \n",
       "2  Offers supportive counseling services to San M...   \n",
       "3  Provides supervised visitation services and a ...   \n",
       "4  Provides fixed 8% short term loans to eligible...   \n",
       "\n",
       "                                         eligibility email  ...  \\\n",
       "0  Age 55 or over for most programs, age 60 or ov...   NaN  ...   \n",
       "1  Age 55 or over, county resident and willing an...   NaN  ...   \n",
       "2        Resident of San Mateo County age 55 or over   NaN  ...   \n",
       "3                                               None   NaN  ...   \n",
       "4  Eligibility: Low-income family with legal cust...   NaN  ...   \n",
       "\n",
       "  interpretation_services                                           keywords  \\\n",
       "0                     NaN  ADULT PROTECTION AND CARE SERVICES, Meal Sites...   \n",
       "1                     NaN  EMPLOYMENT/TRAINING SERVICES, Job Development,...   \n",
       "2                     NaN  Geriatric Counseling, Older Adults, Gay, Lesbi...   \n",
       "3                     NaN  INDIVIDUAL AND FAMILY DEVELOPMENT SERVICES, Gr...   \n",
       "4                     NaN     COMMUNITY SERVICES, Speakers, Automobile Loans   \n",
       "\n",
       "  languages                               name required_documents  \\\n",
       "0       NaN    Fair Oaks Adult Activity Center                NaN   \n",
       "1       NaN   Second Career Employment Program                NaN   \n",
       "2       NaN             Senior Peer Counseling                NaN   \n",
       "3       NaN           Family Visitation Center                NaN   \n",
       "4       NaN  Economic Self-Sufficiency Program                NaN   \n",
       "\n",
       "      service_areas  status wait_time website taxonomy_ids  \n",
       "0             Colma  active  No wait.     NaN          NaN  \n",
       "1  San Mateo County  active   Varies.     NaN          NaN  \n",
       "2  San Mateo County  active   Varies.     NaN          NaN  \n",
       "3  San Mateo County  active  No wait.     NaN          NaN  \n",
       "4  San Mateo County  active       NaN     NaN          NaN  \n",
       "\n",
       "[5 rows x 22 columns]"
      ]
     },
     "execution_count": 6,
     "metadata": {},
     "output_type": "execute_result"
    }
   ],
   "source": [
    "import pandas as pd\n",
    "\n",
    "# read the CSV file\n",
    "data = pd.read_csv(\"services.csv\")\n",
    "\n",
    "# print the first five rows of the DataFrame\n",
    "data.head()"
   ]
  },
  {
   "cell_type": "markdown",
   "id": "94a5d21a-d779-44df-aa2a-3a9ba2a146e5",
   "metadata": {},
   "source": [
    "#### 2. `dropna()`: This function is used to drop any rows that have missing values (NaN)."
   ]
  },
  {
   "cell_type": "code",
   "execution_count": null,
   "id": "73afe9c0-d339-4165-bc9f-ee1988695a0f",
   "metadata": {},
   "outputs": [
    {
     "name": "stdout",
     "output_type": "stream",
     "text": [
      "     A     B\n",
      "0  1.0   6.0\n",
      "1  2.0   7.0\n",
      "4  5.0  10.0\n"
     ]
    }
   ],
   "source": [
    "import pandas as pd\n",
    "\n",
    "# create a DataFrame with missing values\n",
    "data = pd.DataFrame({'A': [1, 2, 3, None, 5], 'B': [6, 7, None, 9, 10]})\n",
    "\n",
    "# drop the rows with missing values\n",
    "data = data.dropna()\n",
    "\n",
    "# print the resulting DataFrame\n",
    "print(data)"
   ]
  },
  {
   "cell_type": "markdown",
   "id": "f5b43a43-4307-4f5e-ad18-92e212fb890d",
   "metadata": {},
   "source": [
    "#### 3. `groupby():` This function is used to group a DataFrame by one or more columns and perform calculations on each group."
   ]
  },
  {
   "cell_type": "code",
   "execution_count": 8,
   "id": "73e11544-2a46-44de-8da0-aa76b6a36d3b",
   "metadata": {},
   "outputs": [
    {
     "name": "stdout",
     "output_type": "stream",
     "text": [
      "Name\n",
      "Alice      82.5\n",
      "Bob        90.0\n",
      "Charlie    72.5\n",
      "Name: Score, dtype: float64\n"
     ]
    }
   ],
   "source": [
    "import pandas as pd\n",
    "\n",
    "# create a DataFrame with two columns\n",
    "data = pd.DataFrame({'Name': ['Alice', 'Bob', 'Charlie', 'Alice', 'Charlie'],\n",
    "                     'Score': [80, 90, 70, 85, 75]})\n",
    "\n",
    "# group the DataFrame by 'Name' and calculate the mean of each group's 'Score'\n",
    "grouped_data = data.groupby('Name')['Score'].mean()\n",
    "\n",
    "# print the resulting Series\n",
    "print(grouped_data)"
   ]
  },
  {
   "cell_type": "markdown",
   "id": "7e0da168-82d5-4565-b1cf-17a5ea191426",
   "metadata": {},
   "source": [
    "#### 4. `merge():` This function is used to merge two DataFrames on a common column."
   ]
  },
  {
   "cell_type": "code",
   "execution_count": 9,
   "id": "6040b87e-ae50-4cc1-9d79-1a21677324f4",
   "metadata": {},
   "outputs": [
    {
     "name": "stdout",
     "output_type": "stream",
     "text": [
      "  key  value_x  value_y\n",
      "0   B        2        4\n",
      "1   C        3        5\n"
     ]
    }
   ],
   "source": [
    "import pandas as pd\n",
    "\n",
    "# create two DataFrames\n",
    "left = pd.DataFrame({'key': ['A', 'B', 'C'], 'value': [1, 2, 3]})\n",
    "right = pd.DataFrame({'key': ['B', 'C', 'D'], 'value': [4, 5, 6]})\n",
    "\n",
    "# merge the two DataFrames on 'key'\n",
    "merged = pd.merge(left, right, on='key')\n",
    "\n",
    "# print the resulting DataFrame\n",
    "print(merged)"
   ]
  },
  {
   "cell_type": "markdown",
   "id": "433250d3-717c-4db6-8513-1e43d59cf5ab",
   "metadata": {},
   "source": [
    "#### 5. `describe():` This function is used to get the summary statistics of a DataFrame."
   ]
  },
  {
   "cell_type": "code",
   "execution_count": 10,
   "id": "6d92b998-bdeb-4441-8dd2-24ccda102149",
   "metadata": {},
   "outputs": [
    {
     "name": "stdout",
     "output_type": "stream",
     "text": [
      "             Age\n",
      "count   5.000000\n",
      "mean   27.800000\n",
      "std     4.969909\n",
      "min    22.000000\n",
      "25%    25.000000\n",
      "50%    27.000000\n",
      "75%    30.000000\n",
      "max    35.000000\n"
     ]
    }
   ],
   "source": [
    "import pandas as pd\n",
    "\n",
    "# Creating a DataFrame\n",
    "data = {'Name': ['John', 'Peter', 'Jane', 'Jessica', 'Mike'], \n",
    "        'Age': [25, 30, 27, 22, 35], \n",
    "        'Country': ['USA', 'Canada', 'Australia', 'UK', 'USA']}\n",
    "df = pd.DataFrame(data)\n",
    "\n",
    "# Getting the summary statistics of the DataFrame\n",
    "print(df.describe())"
   ]
  },
  {
   "cell_type": "markdown",
   "id": "5d1c16e0-4e93-446d-a17f-d19ef9b2405c",
   "metadata": {},
   "source": [
    "### Q2. Given a Pandas DataFrame df with columns 'A', 'B', and 'C', write a Python function to re-index the DataFrame with a new index that starts from 1 and increments by 2 for each row."
   ]
  },
  {
   "cell_type": "code",
   "execution_count": 6,
   "id": "466a37e2-01ab-4748-981c-2a9634b54641",
   "metadata": {},
   "outputs": [
    {
     "data": {
      "text/html": [
       "<div>\n",
       "<style scoped>\n",
       "    .dataframe tbody tr th:only-of-type {\n",
       "        vertical-align: middle;\n",
       "    }\n",
       "\n",
       "    .dataframe tbody tr th {\n",
       "        vertical-align: top;\n",
       "    }\n",
       "\n",
       "    .dataframe thead th {\n",
       "        text-align: right;\n",
       "    }\n",
       "</style>\n",
       "<table border=\"1\" class=\"dataframe\">\n",
       "  <thead>\n",
       "    <tr style=\"text-align: right;\">\n",
       "      <th></th>\n",
       "      <th>A</th>\n",
       "      <th>B</th>\n",
       "      <th>C</th>\n",
       "    </tr>\n",
       "  </thead>\n",
       "  <tbody>\n",
       "    <tr>\n",
       "      <th>0</th>\n",
       "      <td>Maths</td>\n",
       "      <td>Hist</td>\n",
       "      <td>English</td>\n",
       "    </tr>\n",
       "    <tr>\n",
       "      <th>1</th>\n",
       "      <td>Phys</td>\n",
       "      <td>Geog</td>\n",
       "      <td>Hindi</td>\n",
       "    </tr>\n",
       "    <tr>\n",
       "      <th>2</th>\n",
       "      <td>Chem</td>\n",
       "      <td>Philo</td>\n",
       "      <td>Urdu</td>\n",
       "    </tr>\n",
       "    <tr>\n",
       "      <th>3</th>\n",
       "      <td>Bio</td>\n",
       "      <td>Eco</td>\n",
       "      <td>Arabic</td>\n",
       "    </tr>\n",
       "  </tbody>\n",
       "</table>\n",
       "</div>"
      ],
      "text/plain": [
       "       A      B        C\n",
       "0  Maths   Hist  English\n",
       "1   Phys   Geog    Hindi\n",
       "2   Chem  Philo     Urdu\n",
       "3    Bio    Eco   Arabic"
      ]
     },
     "execution_count": 6,
     "metadata": {},
     "output_type": "execute_result"
    }
   ],
   "source": [
    "import pandas as pd\n",
    "##Creating a sample DataFrame\n",
    "df = pd.DataFrame({'A': [\"Maths\", 'Phys', 'Chem', 'Bio'],\n",
    "                   'B': ['Hist', 'Geog', 'Philo', 'Eco'],\n",
    "                   'C': ['English', 'Hindi', 'Urdu', 'Arabic']\n",
    "                  })\n",
    "df"
   ]
  },
  {
   "cell_type": "code",
   "execution_count": 7,
   "id": "9b9974c1-d81e-4893-b3d5-c98ee5b7f1de",
   "metadata": {},
   "outputs": [
    {
     "data": {
      "text/html": [
       "<div>\n",
       "<style scoped>\n",
       "    .dataframe tbody tr th:only-of-type {\n",
       "        vertical-align: middle;\n",
       "    }\n",
       "\n",
       "    .dataframe tbody tr th {\n",
       "        vertical-align: top;\n",
       "    }\n",
       "\n",
       "    .dataframe thead th {\n",
       "        text-align: right;\n",
       "    }\n",
       "</style>\n",
       "<table border=\"1\" class=\"dataframe\">\n",
       "  <thead>\n",
       "    <tr style=\"text-align: right;\">\n",
       "      <th></th>\n",
       "      <th>A</th>\n",
       "      <th>B</th>\n",
       "      <th>C</th>\n",
       "    </tr>\n",
       "  </thead>\n",
       "  <tbody>\n",
       "    <tr>\n",
       "      <th>1</th>\n",
       "      <td>Maths</td>\n",
       "      <td>Hist</td>\n",
       "      <td>English</td>\n",
       "    </tr>\n",
       "    <tr>\n",
       "      <th>3</th>\n",
       "      <td>Phys</td>\n",
       "      <td>Geog</td>\n",
       "      <td>Hindi</td>\n",
       "    </tr>\n",
       "    <tr>\n",
       "      <th>5</th>\n",
       "      <td>Chem</td>\n",
       "      <td>Philo</td>\n",
       "      <td>Urdu</td>\n",
       "    </tr>\n",
       "    <tr>\n",
       "      <th>7</th>\n",
       "      <td>Bio</td>\n",
       "      <td>Eco</td>\n",
       "      <td>Arabic</td>\n",
       "    </tr>\n",
       "  </tbody>\n",
       "</table>\n",
       "</div>"
      ],
      "text/plain": [
       "       A      B        C\n",
       "1  Maths   Hist  English\n",
       "3   Phys   Geog    Hindi\n",
       "5   Chem  Philo     Urdu\n",
       "7    Bio    Eco   Arabic"
      ]
     },
     "execution_count": 7,
     "metadata": {},
     "output_type": "execute_result"
    }
   ],
   "source": [
    "##Re-indexing the DataFrame using the reindex_df() function\n",
    "def reindex_df(df):\n",
    "    new_index = range(1, 2*len(df)+1, 2) ##range starts from 1 as the incrrement is by 2 so we multiplied the len by 2\n",
    "    df = df.set_index(pd.Index(new_index)) ##setting the new index\n",
    "    return df\n",
    "\n",
    "df = reindex_df(df)\n",
    "df"
   ]
  },
  {
   "cell_type": "markdown",
   "id": "73b581dc-4a82-4219-a1e6-bba1b6e475ef",
   "metadata": {},
   "source": [
    "### Q3. You have a Pandas DataFrame df with a column named 'Values'. Write a Python function that iterates over the DataFrame and calculates the sum of the first three values in the 'Values' column. The function should print the sum to the console.\n",
    "#### For example, if the 'Values' column of df contains the values [10, 20, 30, 40, 50], your function should calculate and print the sum of the first three values, which is 60."
   ]
  },
  {
   "cell_type": "code",
   "execution_count": 11,
   "id": "a0a4fd81-f19b-4600-8e6e-059b6cce7739",
   "metadata": {},
   "outputs": [],
   "source": [
    "import pandas as pd\n",
    "\n",
    "def sum_first_three_values(df):\n",
    "    total = 0\n",
    "    for i in range(3):\n",
    "        total += df['Values'][i]\n",
    "    print('Sum of first three values:', total)"
   ]
  },
  {
   "cell_type": "markdown",
   "id": "f74c2f82-1d69-4e7e-89e3-28eab0c732d8",
   "metadata": {},
   "source": [
    "In this function, we import the Pandas library and define a function called `sum_first_three_values` that takes a DataFrame `df` as input. Inside the function, we initialize a variable `total` to 0, and use a for loop to iterate over the first three rows of the 'Values' column of the DataFrame. We use `df['Values'][i]` to access the i-th element of the 'Values' column in each iteration of the loop, and add it to the running total. Finally, we print the sum of the first three values to the console using `print('Sum of first three values:', total)`.\n",
    "\n",
    "To test this function, we can create a sample DataFrame with a 'Values' column and call the function with the DataFrame as input. Here's an example:"
   ]
  },
  {
   "cell_type": "code",
   "execution_count": 12,
   "id": "7922a60c-ec50-4fdc-8b8d-41e5ce410264",
   "metadata": {},
   "outputs": [
    {
     "name": "stdout",
     "output_type": "stream",
     "text": [
      "Sum of first three values: 60\n"
     ]
    }
   ],
   "source": [
    "df = pd.DataFrame({'Values': [10, 20, 30, 40, 50]})\n",
    "sum_first_three_values(df)"
   ]
  },
  {
   "cell_type": "markdown",
   "id": "f5c828fa-8e2e-479b-a856-73b6aa1975e0",
   "metadata": {},
   "source": [
    "In this example, we create a DataFrame `df` with a 'Values' column containing the values [10, 20, 30, 40, 50]. We then call the `sum_first_three_values` function with `df` as input, which calculates and prints the sum of the first three values in the 'Values' column, which is 60."
   ]
  },
  {
   "cell_type": "markdown",
   "id": "f59edc92-5be1-4256-b9fc-0f4cf2d07642",
   "metadata": {},
   "source": [
    "### Q4. Given a Pandas DataFrame df with a column 'Text', write a Python function to create a new column 'Word_Count' that contains the number of words in each row of the 'Text' column."
   ]
  },
  {
   "cell_type": "code",
   "execution_count": 8,
   "id": "f246dcf7-0db7-41f0-9da7-5b06ee0e46d0",
   "metadata": {},
   "outputs": [
    {
     "data": {
      "text/html": [
       "<div>\n",
       "<style scoped>\n",
       "    .dataframe tbody tr th:only-of-type {\n",
       "        vertical-align: middle;\n",
       "    }\n",
       "\n",
       "    .dataframe tbody tr th {\n",
       "        vertical-align: top;\n",
       "    }\n",
       "\n",
       "    .dataframe thead th {\n",
       "        text-align: right;\n",
       "    }\n",
       "</style>\n",
       "<table border=\"1\" class=\"dataframe\">\n",
       "  <thead>\n",
       "    <tr style=\"text-align: right;\">\n",
       "      <th></th>\n",
       "      <th>Text</th>\n",
       "      <th>Word_Count</th>\n",
       "    </tr>\n",
       "  </thead>\n",
       "  <tbody>\n",
       "    <tr>\n",
       "      <th>0</th>\n",
       "      <td>I want to become a data scientist</td>\n",
       "      <td>7</td>\n",
       "    </tr>\n",
       "    <tr>\n",
       "      <th>1</th>\n",
       "      <td>AI is booming</td>\n",
       "      <td>3</td>\n",
       "    </tr>\n",
       "    <tr>\n",
       "      <th>2</th>\n",
       "      <td>I need to work really hard</td>\n",
       "      <td>6</td>\n",
       "    </tr>\n",
       "    <tr>\n",
       "      <th>3</th>\n",
       "      <td>I am grateful for everything</td>\n",
       "      <td>5</td>\n",
       "    </tr>\n",
       "  </tbody>\n",
       "</table>\n",
       "</div>"
      ],
      "text/plain": [
       "                                Text  Word_Count\n",
       "0  I want to become a data scientist           7\n",
       "1                      AI is booming           3\n",
       "2         I need to work really hard           6\n",
       "3       I am grateful for everything           5"
      ]
     },
     "execution_count": 8,
     "metadata": {},
     "output_type": "execute_result"
    }
   ],
   "source": [
    "import pandas as pd\n",
    "\n",
    "##Creating a sample dataframe\n",
    "df= pd.DataFrame({'Text': ['I want to become a data scientist',\n",
    "                           'AI is booming',\n",
    "                           'I need to work really hard',\n",
    "                           'I am grateful for everything']\n",
    "                 })\n",
    "\n",
    "##creating a function to count the words in the Text column\n",
    "def WordCount(df):\n",
    "    word_count = df['Text'].str.split().apply(len)\n",
    "    df['Word_Count'] = word_count\n",
    "    return df\n",
    "\n",
    "##adding the 'Word_Count' column to the DataFrame\n",
    "df = WordCount(df)\n",
    "df"
   ]
  },
  {
   "cell_type": "markdown",
   "id": "f8e63815-5aca-443c-b788-f003bb5ac469",
   "metadata": {},
   "source": [
    "### Q5. How are DataFrame.size() and DataFrame.shape() different?"
   ]
  },
  {
   "cell_type": "markdown",
   "id": "3e90cbd9-1de0-4c26-aa14-2ada707f8e27",
   "metadata": {},
   "source": [
    "Ans) `DataFrame.size()` and `DataFrame.shape()` are two different functions in Pandas library.\n",
    "\n",
    "`DataFrame.size()` function returns the total number of elements in the DataFrame, which is equal to the number of rows multiplied by the number of columns. It does not provide any information about the structure or dimensions of the DataFrame.\n",
    "\n",
    "`DataFrame.shape()` function, on the other hand, returns a tuple representing the dimensions of the DataFrame in the form (number of rows, number of columns). It gives information about the structure of the DataFrame.\n",
    "\n",
    "In summary, `DataFrame.size()` gives the total number of elements, whereas `DataFrame.shape()` gives the structure or dimensions of the DataFrame."
   ]
  },
  {
   "cell_type": "markdown",
   "id": "dc5fe0c7-c2a7-403a-ba7b-0569befde330",
   "metadata": {},
   "source": [
    "### Q6. Which function of pandas do we use to read an excel file?"
   ]
  },
  {
   "cell_type": "markdown",
   "id": "ffbbb36a-f47f-4bee-9c91-b67d41a90151",
   "metadata": {},
   "source": [
    "Ans) We use the `read_excel()` function of Pandas to read an excel file. \n",
    "\n",
    "The `read_excel()` function is used to read data from Excel files. It can read data from both xls and xlsx file formats. This function takes the file path or URL of the Excel file as input and returns a Pandas DataFrame object. We can then use the Pandas DataFrame functions to manipulate and analyze the data. \n",
    "\n",
    "Here is an example code snippet that demonstrates how to use the `read_excel()` function to read an Excel file:\n",
    "\n",
    "```python\n",
    "import pandas as pd\n",
    "\n",
    "# Read the excel file\n",
    "df = pd.read_excel('example.xlsx')\n",
    "\n",
    "# Display the contents of the DataFrame\n",
    "print(df)\n",
    "``` \n",
    "\n",
    "In the above code, the `read_excel()` function is used to read the 'example.xlsx' Excel file and store its contents in the 'df' Pandas DataFrame object. We can then use the Pandas DataFrame functions to manipulate and analyze the data."
   ]
  },
  {
   "cell_type": "markdown",
   "id": "01209327-15af-4976-a030-1cbd62e6cab1",
   "metadata": {},
   "source": [
    "### Q7. You have a Pandas DataFrame df that contains a column named 'Email' that contains email addresses in the format 'username@domain.com'. Write a Python function that creates a new column 'Username' in df that contains only the username part of each email address.\n",
    "#### The username is the part of the email address that appears before the '@' symbol. For example, if the email address is 'john.doe@example.com', the 'Username' column should contain 'john.doe'. Your function should extract the username from each email address and store it in the new 'Username' column."
   ]
  },
  {
   "cell_type": "markdown",
   "id": "f7e51f77-bccc-41fd-9c3b-d1c88f48c1b7",
   "metadata": {},
   "source": [
    "Ans) To create a new column 'Username' in the DataFrame 'df' that contains only the username part of each email address, we can use the string methods available in Pandas.\n",
    "\n",
    "Here's the Python code to achieve this:"
   ]
  },
  {
   "cell_type": "code",
   "execution_count": 14,
   "id": "02136efc-4d62-4385-a633-312c62658df1",
   "metadata": {},
   "outputs": [
    {
     "name": "stdout",
     "output_type": "stream",
     "text": [
      "                    Email    Username\n",
      "0    john.doe@example.com    john.doe\n",
      "1  jane.smith@example.com  jane.smith\n",
      "2     yaara.rua@gmail.com   yaara.rua\n"
     ]
    }
   ],
   "source": [
    "import pandas as pd\n",
    "\n",
    "# Creating a sample DataFrame\n",
    "df = pd.DataFrame({'Email': ['john.doe@example.com', 'jane.smith@example.com', 'yaara.rua@gmail.com']})\n",
    "\n",
    "# Defining a function to extract the username from each email address\n",
    "def extract_username(email):\n",
    "    return email.split('@')[0]\n",
    "\n",
    "# Applying the 'extract_username' function to the 'Email' column and storing the result in the new 'Username' column\n",
    "df['Username'] = df['Email'].apply(extract_username)\n",
    "\n",
    "# Printing the updated DataFrame\n",
    "print(df)"
   ]
  },
  {
   "cell_type": "markdown",
   "id": "95a54578-14ac-40c4-9f71-b410772a9d34",
   "metadata": {},
   "source": [
    "In this code, we first create a sample DataFrame 'df' with a column named 'Email' that contains email addresses. \n",
    "\n",
    "We then define a function named 'extract_username' that takes an email address as input and returns only the username part of the email address (i.e., the part before the '@' symbol).\n",
    "\n",
    "Next, we apply the 'extract_username' function to each element in the 'Email' column of the DataFrame using the 'apply' method. The resulting Series is then assigned to a new column named 'Username' in the DataFrame.\n",
    "\n",
    "Finally, we print the updated DataFrame with the new 'Username' column."
   ]
  },
  {
   "cell_type": "markdown",
   "id": "ebf41f0b-4e09-4c25-9801-bdae068513cb",
   "metadata": {},
   "source": [
    "### Q8. You have a Pandas DataFrame df with columns 'A', 'B', and 'C'. Write a Python function that selects all rows where the value in column 'A' is greater than 5 and the value in column 'B' is less than 10. The function should return a new DataFrame that contains only the selected rows."
   ]
  },
  {
   "cell_type": "markdown",
   "id": "b37f4ba1-f785-440c-8383-9379cae8f2d2",
   "metadata": {},
   "source": [
    "For example, if df contains the following values:    \n",
    "  \n",
    "  A B C\n",
    "\n",
    "0 3 5 1\n",
    "\n",
    "1 8 2 7\n",
    "\n",
    "2 6 9 4\n",
    "\n",
    "3 2 3 5\n",
    "\n",
    "4 9 1 2\n",
    "\n",
    "Your function should select the following rows:     \n",
    "  \n",
    "  A B C\n",
    "\n",
    "1 8 2 7\n",
    "\n",
    "4 9 1 2\n",
    "\n",
    "The function should return a new DataFrame that contains only the selected rows."
   ]
  },
  {
   "cell_type": "code",
   "execution_count": 15,
   "id": "308d0ee3-a6a9-47b5-8ccf-a360bcb74826",
   "metadata": {},
   "outputs": [],
   "source": [
    "import pandas as pd\n",
    "\n",
    "def select_rows(df):\n",
    "    selected_rows = df[(df['A'] > 5) & (df['B'] < 10)]\n",
    "    return selected_rows"
   ]
  },
  {
   "cell_type": "markdown",
   "id": "93843c00-ceee-46b1-8e4c-a2fac9f2a0d7",
   "metadata": {},
   "source": [
    "Here, we are using the '&' operator to combine two conditions. The first condition is that the value in column 'A' is greater than 5 and the second condition is that the value in column 'B' is less than 10. The resulting DataFrame will contain only the selected rows.\n",
    "\n",
    "To use this function, we can pass the DataFrame `df` as an argument:"
   ]
  },
  {
   "cell_type": "code",
   "execution_count": 16,
   "id": "8dc7b63a-2b1b-4884-a8db-4f353f36e9f7",
   "metadata": {},
   "outputs": [
    {
     "name": "stdout",
     "output_type": "stream",
     "text": [
      "   A  B  C\n",
      "1  8  2  7\n",
      "2  6  9  4\n",
      "4  9  1  2\n"
     ]
    }
   ],
   "source": [
    "df = pd.DataFrame({\n",
    "    'A': [3, 8, 6, 2, 9],\n",
    "    'B': [5, 2, 9, 3, 10],\n",
    "    'C': [1, 7, 4, 5, 2]\n",
    "})\n",
    "\n",
    "selected_rows = select_rows(df)\n",
    "print(selected_rows)"
   ]
  },
  {
   "cell_type": "markdown",
   "id": "684c9bb6-a918-4e9d-93e5-f721b2dd546d",
   "metadata": {},
   "source": [
    "### Q9. Given a Pandas DataFrame df with a column 'Values', write a Python function to calculate the mean, median, and standard deviation of the values in the 'Values' column."
   ]
  },
  {
   "cell_type": "code",
   "execution_count": 22,
   "id": "2d4bc9ee-4e61-4b6a-98d5-fa8ffee5505d",
   "metadata": {},
   "outputs": [
    {
     "name": "stdout",
     "output_type": "stream",
     "text": [
      "Mean: 54.9\n",
      "Median: 55.0\n",
      "Standard Deviation: 30.11256659048954\n"
     ]
    }
   ],
   "source": [
    "import pandas as pd\n",
    "\n",
    "def calculate_stats(df):\n",
    "    mean = df['Values'].mean()\n",
    "    median = df['Values'].median()\n",
    "    std_dev = df['Values'].std()\n",
    "    \n",
    "    return mean, median, std_dev\n",
    "\n",
    "\n",
    "df = pd.DataFrame({'Values': [10, 20, 30, 40, 50, 60, 70, 80, 90, 99]})\n",
    "mean, median, std_dev = calculate_stats(df)\n",
    "\n",
    "print(\"Mean:\", mean)\n",
    "print(\"Median:\", median)\n",
    "print(\"Standard Deviation:\", std_dev)"
   ]
  },
  {
   "cell_type": "markdown",
   "id": "820c31c3-511d-46e7-bdb4-6759e4fab201",
   "metadata": {},
   "source": [
    "### Q10. Given a Pandas DataFrame df with a column 'Sales' and a column 'Date', write a Python function to create a new column 'MovingAverage' that contains the moving average of the sales for the past 7 days for each row in the DataFrame. The moving average should be calculated using a window of size 7 and should include the current day."
   ]
  },
  {
   "cell_type": "markdown",
   "id": "4368ea56-a311-412f-a189-e4a1616a3dec",
   "metadata": {},
   "source": [
    "Ans) An example of how to create a new column 'MovingAverage' in a Pandas DataFrame 'df' with columns 'Date' and 'Sales', that contains the moving average of the sales for the past 7 days for each row in the DataFrame:"
   ]
  },
  {
   "cell_type": "code",
   "execution_count": 25,
   "id": "6e1f348b-5471-45ef-9a80-5d5cc1f9239e",
   "metadata": {},
   "outputs": [
    {
     "name": "stdout",
     "output_type": "stream",
     "text": [
      "          Date  Sales  MovingAverage\n",
      "0   2022-01-01    100     100.000000\n",
      "1   2022-01-02    120     110.000000\n",
      "2   2022-01-03     80     100.000000\n",
      "3   2022-01-04    150     112.500000\n",
      "4   2022-01-05    200     130.000000\n",
      "5   2022-01-06    120     128.333333\n",
      "6   2022-01-07    180     135.714286\n",
      "7   2022-01-08    160     144.285714\n",
      "8   2022-01-09    140     147.142857\n",
      "9   2022-01-10    100     150.000000\n",
      "10  2022-01-11    120     145.714286\n",
      "11  2022-01-12    180     142.857143\n",
      "12  2022-01-13    200     154.285714\n",
      "13  2022-01-14    220     160.000000\n",
      "14  2022-01-15    180     162.857143\n",
      "15  2022-01-16    140     162.857143\n",
      "16  2022-01-17    160     171.428571\n",
      "17  2022-01-18    180     180.000000\n",
      "18  2022-01-19    200     182.857143\n",
      "19  2022-01-20    220     185.714286\n"
     ]
    }
   ],
   "source": [
    "import pandas as pd\n",
    "\n",
    "# Create sample data\n",
    "data = {'Date': ['2022-01-01', '2022-01-02', '2022-01-03', '2022-01-04', '2022-01-05', '2022-01-06', '2022-01-07', '2022-01-08', '2022-01-09', '2022-01-10', '2022-01-11', '2022-01-12', '2022-01-13', '2022-01-14', '2022-01-15', '2022-01-16', '2022-01-17', '2022-01-18', '2022-01-19', '2022-01-20'],\n",
    "        'Sales': [100, 120, 80, 150, 200, 120, 180, 160, 140, 100, 120, 180, 200, 220, 180, 140, 160, 180, 200, 220]}\n",
    "df = pd.DataFrame(data)\n",
    "\n",
    "# Calculate moving average of past 7 days for each row\n",
    "df['MovingAverage'] = df['Sales'].rolling(window=7, min_periods=1).mean()\n",
    "\n",
    "# Print the DataFrame\n",
    "print(df)"
   ]
  },
  {
   "cell_type": "markdown",
   "id": "154d7dd5-3213-4438-9b88-14eb48e91e3d",
   "metadata": {},
   "source": [
    "The rolling() function in Pandas is used to generate a rolling window of data for a given window size. Here, we're using a window size of 7 days for calculating the moving average of sales. The min_periods parameter is set to 1, which means that the rolling window calculation will start from the first row itself, even if there are less than 7 rows in the DataFrame. Finally, the mean() function is applied to the rolling window of data to calculate the moving average. The results are stored in a new column named 'MovingAverage' in the DataFrame."
   ]
  },
  {
   "cell_type": "markdown",
   "id": "0e4d974c-f5b4-4e2d-afb7-4cb4d26f050d",
   "metadata": {},
   "source": [
    "### Q11. You have a Pandas DataFrame df with a column 'Date'. Write a Python function that creates a new column 'Weekday' in the DataFrame. The 'Weekday' column should contain the weekday name (e.g. Monday, Tuesday) corresponding to each date in the 'Date' column."
   ]
  },
  {
   "cell_type": "markdown",
   "id": "3f7ffbaf-b717-47ac-b465-19fe59b587e7",
   "metadata": {},
   "source": [
    "Ans) Here's an example Python function that uses the `dt` accessor in Pandas to create a new column 'Weekday' in a DataFrame with a 'Date' column:"
   ]
  },
  {
   "cell_type": "code",
   "execution_count": 3,
   "id": "653f5624-fe0f-4995-9b00-fd26bb1544f9",
   "metadata": {},
   "outputs": [
    {
     "name": "stdout",
     "output_type": "stream",
     "text": [
      "        Date    Weekday\n",
      "0 2023-05-01     Monday\n",
      "1 2023-05-02    Tuesday\n",
      "2 2023-05-03  Wednesday\n"
     ]
    }
   ],
   "source": [
    "import pandas as pd\n",
    "\n",
    "def add_weekday_column(df):\n",
    "    # Convert 'Date' column to datetime format\n",
    "    df['Date'] = pd.to_datetime(df['Date'])\n",
    "    \n",
    "    # Use the 'dt' accessor to get the weekday name for each date\n",
    "    df['Weekday'] = df['Date'].dt.strftime('%A')\n",
    "    \n",
    "    return df\n",
    "\n",
    "\n",
    "df = pd.DataFrame({'Date': ['2023-05-01', '2023-05-02', '2023-05-03']})\n",
    "df = add_weekday_column(df)\n",
    "print(df)"
   ]
  },
  {
   "cell_type": "markdown",
   "id": "c508426b-1eaa-4cfd-90dc-e8d5db96e029",
   "metadata": {},
   "source": [
    "This function first converts the 'Date' column to datetime format using the `pd.to_datetime()` function. It then uses the `dt` accessor to extract the weekday name for each date and store it in a new 'Weekday' column. The `%A` format code in the `strftime()` function is used to specify the full weekday name (e.g. Monday, Tuesday). Finally, the function returns the updated DataFrame."
   ]
  }
 ],
 "metadata": {
  "kernelspec": {
   "display_name": "Python 3 (ipykernel)",
   "language": "python",
   "name": "python3"
  },
  "language_info": {
   "codemirror_mode": {
    "name": "ipython",
    "version": 3
   },
   "file_extension": ".py",
   "mimetype": "text/x-python",
   "name": "python",
   "nbconvert_exporter": "python",
   "pygments_lexer": "ipython3",
   "version": "3.10.8"
  }
 },
 "nbformat": 4,
 "nbformat_minor": 5
}
