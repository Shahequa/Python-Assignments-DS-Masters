{
 "cells": [
  {
   "cell_type": "markdown",
   "id": "eb9148e9-77ab-4c97-871c-f7a3abb82774",
   "metadata": {},
   "source": [
    "### Python Assignment 6\n",
    "*By Shahequa Modabbera*"
   ]
  },
  {
   "cell_type": "markdown",
   "id": "d303d50d-4481-4294-bf00-f82d22a72111",
   "metadata": {},
   "source": [
    "### Q1. Explain Class and Object with respect to Object-Oriented Programming. Give a suitable example."
   ]
  },
  {
   "cell_type": "markdown",
   "id": "6259f905-bfff-49d7-a38e-01a87e36615c",
   "metadata": {},
   "source": [
    "    Class: The class is a user-defined data structure that binds the data members and methods into a single unit. Class is a blueprint or code template for object creation. Using a class, we can create as many objects as we want.\n",
    "    \n",
    "    Object: An object is an instance of a class. It is a collection of attributes (variables) and methods. We use the object of a class to perform actions."
   ]
  },
  {
   "cell_type": "code",
   "execution_count": 1,
   "id": "f2681fe8-ff9b-4af8-9bc4-056e28ff00b3",
   "metadata": {},
   "outputs": [
    {
     "name": "stdout",
     "output_type": "stream",
     "text": [
      "Luka is 4 years old\n",
      "Puka is 6 years old\n"
     ]
    }
   ],
   "source": [
    "class Cat:\n",
    "\n",
    "    # class attribute\n",
    "    name = \"\"\n",
    "    age = 0\n",
    "\n",
    "# create cat1 object\n",
    "cat1 = Cat()\n",
    "cat1.name = \"Luka\"\n",
    "cat1.age = 4\n",
    "\n",
    "# create another object cat2\n",
    "cat2 = Cat()\n",
    "cat2.name = \"Puka\"\n",
    "cat2.age = 6\n",
    "\n",
    "# access attributes\n",
    "print(f\"{cat1.name} is {cat1.age} years old\")\n",
    "print(f\"{cat2.name} is {cat2.age} years old\")"
   ]
  },
  {
   "cell_type": "markdown",
   "id": "f300a6bd-67b8-4eb8-bd6e-d337919b5205",
   "metadata": {},
   "source": [
    "### Q2. Name the four pillars of OOPs."
   ]
  },
  {
   "cell_type": "markdown",
   "id": "b3407de9-8fbb-43af-867e-8105c69adbf3",
   "metadata": {},
   "source": [
    "The four pillars of object-oriented programming are:\n",
    "\n",
    "    Abstraction:It hides the unnecessary code details from the user. Also,  when we do not want to give out sensitive parts of our code implementation and this is where data abstraction came.\n",
    "    \n",
    "    Encapsulation:  It describes the idea of wrapping data and the methods that work on data within one unit. This puts restrictions on accessing variables and methods directly and can prevent the accidental modification of data. \n",
    "    \n",
    "    Inheritance: Inheritance is the capability of one class to derive or inherit the properties from another class. The class that derives properties is called the derived class or child class and the class from which the properties are being derived is called the base class or parent class. \n",
    "    \n",
    "    Polymorphism: Polymorphism simply means having many forms. For example, we need to determine if the given species of birds fly or not, using polymorphism we can do this using a single function."
   ]
  },
  {
   "cell_type": "markdown",
   "id": "f6bfd28d-822c-42f4-85b6-fa79d3f458e4",
   "metadata": {},
   "source": [
    "### Q3. Explain why the _ _  _init__ _() function is used. Give a suitable example."
   ]
  },
  {
   "cell_type": "markdown",
   "id": "43931552-3321-41ba-a8fd-ced1fe59074e",
   "metadata": {},
   "source": [
    "`__init__() is called as a constructor in object oriented terminology. This method is called when an object is created from a class and it allows the class to initialize the attributes of the class.`\n",
    "\n",
    "`The __init__() function is called automatically every time the class is being used to create a new object.`"
   ]
  },
  {
   "cell_type": "code",
   "execution_count": 2,
   "id": "81379423-2214-4f39-9445-c5d3a55742c4",
   "metadata": {},
   "outputs": [
    {
     "name": "stdout",
     "output_type": "stream",
     "text": [
      "From: London\n",
      "To_city: India\n"
     ]
    }
   ],
   "source": [
    "class Trip:\n",
    "    def __init__(self, to_city, from_city):\n",
    "        self.to_city = to_city\n",
    "        self.from_city = from_city\n",
    " \n",
    "    def holiday(self):\n",
    "     return (\"From: \" + self.from_city + \"\\nTo_city: \" + self.to_city)\n",
    " \n",
    "T = Trip('India', 'London')\n",
    "print(T.holiday())"
   ]
  },
  {
   "cell_type": "markdown",
   "id": "e4eb7f3a-0902-4164-945a-cb3fdf13c3af",
   "metadata": {},
   "source": [
    "```In the above example, a class Trip is created, and an object ‘T’ is created to invoke the methods and attributes. As soon as the object is created,__init__ method is initialized with values India and London which are assigned to to_city and from_city respectively. The self keyword represents the current instance of the object. So when the holiday() method is run, it prints out the values of from_city and to_city, which are London and India, respectively.```"
   ]
  },
  {
   "cell_type": "markdown",
   "id": "6b103de6-e1dc-4afd-9fa8-d7f119941e3d",
   "metadata": {},
   "source": [
    "### Q4. Why self is used in OOPs?"
   ]
  },
  {
   "cell_type": "markdown",
   "id": "7c93e08a-9ba8-4ceb-87a1-3223965faaaf",
   "metadata": {},
   "source": [
    "`The self parameter is a reference to the current instance of the class, and is used to access variables that belongs to the class.`\n",
    "\n",
    "`It does not have to be named self , we can call it whatever we like, but it has to be the first parameter of any function in the class:`"
   ]
  },
  {
   "cell_type": "code",
   "execution_count": 3,
   "id": "e77b4550-845a-4e9f-8d8c-53b72b63e981",
   "metadata": {},
   "outputs": [
    {
     "name": "stdout",
     "output_type": "stream",
     "text": [
      "Hello my name is Shahequa\n"
     ]
    }
   ],
   "source": [
    "class Person:\n",
    "  def __init__(self, name, age):\n",
    "    self.name = name\n",
    "    self.age = age\n",
    "\n",
    "  def myfunc(abc):\n",
    "    print(\"Hello my name is \" + abc.name)\n",
    "\n",
    "p1 = Person(\"Shahequa\", 23)\n",
    "p1.myfunc()"
   ]
  },
  {
   "cell_type": "markdown",
   "id": "4bb664ca-789b-4069-b52e-17788780ab8e",
   "metadata": {},
   "source": [
    "### Q5. What is inheritance? Give an example for each type of inheritance."
   ]
  },
  {
   "cell_type": "markdown",
   "id": "a7265aa8-944a-487f-870a-8e6ea6318272",
   "metadata": {},
   "source": [
    "`Inheritance: Inheritance is the capability of one class to derive or inherit the properties from another class. The class that derives properties is called the derived class or child class and the class from which the properties are being derived is called the base class or parent class.` \n",
    "\n",
    "`Types of Inheritance depend upon the number of child and parent classes involved. There are five types of inheritance in Python:`\n",
    "\n",
    "`Single Inheritance:`\n",
    "Single inheritance enables a derived class to inherit properties from a single parent class, thus enabling code reusability and the addition of new features to existing code.\n",
    "\n",
    "`Multiple Inheritance:` \n",
    "When a class can be derived from more than one base class this type of inheritance is called multiple inheritances. In multiple inheritances, all the features of the base classes are inherited into the derived class. \n",
    "\n",
    "`Multilevel Inheritance :`\n",
    "In multilevel inheritance, features of the base class and the derived class are further inherited into the new derived class. This is similar to a relationship representing a child and a grandfather. \n",
    "\n",
    "`Hierarchical Inheritance:`\n",
    "When more than one derived class are created from a single base this type of inheritance is called hierarchical inheritance. In this program, we have a parent (base) class and two child (derived) classes.\n",
    "\n",
    "`Hybrid Inheritance:`\n",
    "Inheritance consisting of multiple types of inheritance is called hybrid inheritance."
   ]
  },
  {
   "cell_type": "code",
   "execution_count": 4,
   "id": "1bc07796-5005-411a-95e5-80ad0e18dac8",
   "metadata": {},
   "outputs": [
    {
     "name": "stdout",
     "output_type": "stream",
     "text": [
      "This function is in parent class.\n",
      "This function is in child class.\n"
     ]
    }
   ],
   "source": [
    "# Single inheritance\n",
    " \n",
    "# Base class\n",
    "class Parent:\n",
    "    def func1(self):\n",
    "        print(\"This function is in parent class.\")\n",
    "        \n",
    "# Derived class\n",
    "class Child(Parent):\n",
    "    def func2(self):\n",
    "        print(\"This function is in child class.\")\n",
    "        \n",
    "# Driver's code\n",
    "object = Child()\n",
    "object.func1()\n",
    "object.func2()"
   ]
  },
  {
   "cell_type": "code",
   "execution_count": 5,
   "id": "dad2a056-bb52-4db6-9e71-224ab83452ba",
   "metadata": {},
   "outputs": [
    {
     "name": "stdout",
     "output_type": "stream",
     "text": [
      "Father : SHABIB\n",
      "Mother : ASFA\n"
     ]
    }
   ],
   "source": [
    "# Multiple inheritance\n",
    " \n",
    "# Base class1\n",
    "class Mother:\n",
    "    mothername = \"\"\n",
    " \n",
    "    def mother(self):\n",
    "        print(self.mothername)\n",
    "        \n",
    "# Base class2\n",
    "class Father:\n",
    "    fathername = \"\"\n",
    " \n",
    "    def father(self):\n",
    "        print(self.fathername)\n",
    "\n",
    "# Derived class\n",
    "class Daughter(Mother, Father):\n",
    "    def parents(self):\n",
    "        print(\"Father :\", self.fathername)\n",
    "        print(\"Mother :\", self.mothername)\n",
    "        \n",
    "# Driver's code\n",
    "s1 = Daughter()\n",
    "s1.fathername = \"SHABIB\"\n",
    "s1.mothername = \"ASFA\"\n",
    "s1.parents()"
   ]
  },
  {
   "cell_type": "code",
   "execution_count": 6,
   "id": "6daf6fdb-17a8-4310-acb9-0a05b5241ca5",
   "metadata": {},
   "outputs": [
    {
     "name": "stdout",
     "output_type": "stream",
     "text": [
      "Grandfather name : Tahir\n",
      "Father name : Shabib\n",
      "Daughter name : Shahequa\n"
     ]
    }
   ],
   "source": [
    "# Multilevel inheritance\n",
    " \n",
    "# Base class\n",
    "class Grandfather:\n",
    " \n",
    "    def __init__(self, grandfathername):\n",
    "        self.grandfathername = grandfathername\n",
    "\n",
    "# Intermediate class\n",
    "class Father(Grandfather):\n",
    "    def __init__(self, fathername, grandfathername):\n",
    "        self.fathername = fathername\n",
    " \n",
    "        # invoking constructor of Grandfather class\n",
    "        Grandfather.__init__(self, grandfathername)\n",
    "        \n",
    "# Derived class\n",
    "class Daughter(Father):\n",
    "    def __init__(self, daughtername, fathername, grandfathername):\n",
    "        self.daughtername = daughtername\n",
    " \n",
    "        # invoking constructor of Father class\n",
    "        Father.__init__(self, fathername, grandfathername)\n",
    " \n",
    "    def print_name(self):\n",
    "        print('Grandfather name :', self.grandfathername)\n",
    "        print(\"Father name :\", self.fathername)\n",
    "        print(\"Daughter name :\", self.daughtername)\n",
    " \n",
    " \n",
    "#  Driver code\n",
    "s1 = Daughter('Shahequa', 'Shabib', 'Tahir')\n",
    "s1.print_name()"
   ]
  },
  {
   "cell_type": "code",
   "execution_count": 7,
   "id": "ae24ac74-47bb-48ac-92f0-91259672e1e3",
   "metadata": {},
   "outputs": [
    {
     "name": "stdout",
     "output_type": "stream",
     "text": [
      "This function is in parent class.\n",
      "This function is in child 1.\n",
      "This function is in parent class.\n",
      "This function is in child 2.\n"
     ]
    }
   ],
   "source": [
    "# Hierarchical inheritance\n",
    " \n",
    "# Base class\n",
    "class Parent:\n",
    "    def func1(self):\n",
    "        print(\"This function is in parent class.\")\n",
    "        \n",
    "# Derived class1\n",
    "class Child1(Parent):\n",
    "    def func2(self):\n",
    "        print(\"This function is in child 1.\")\n",
    "        \n",
    "# Derivied class2\n",
    "class Child2(Parent):\n",
    "    def func3(self):\n",
    "        print(\"This function is in child 2.\")\n",
    "        \n",
    "# Driver's code\n",
    "object1 = Child1()\n",
    "object2 = Child2()\n",
    "object1.func1()\n",
    "object1.func2()\n",
    "object2.func1()\n",
    "object2.func3()"
   ]
  },
  {
   "cell_type": "code",
   "execution_count": 8,
   "id": "146cffd3-14d4-4f67-82d5-a29a1f3f5a8f",
   "metadata": {},
   "outputs": [
    {
     "name": "stdout",
     "output_type": "stream",
     "text": [
      "This function is in school.\n",
      "This function is in student 1. \n",
      "This function is in student 3.\n"
     ]
    }
   ],
   "source": [
    "# Hybrid inheritance\n",
    " \n",
    "class School:\n",
    "    def func1(self):\n",
    "        print(\"This function is in school.\")\n",
    "        \n",
    "class Student1(School):\n",
    "    def func2(self):\n",
    "        print(\"This function is in student 1. \")\n",
    "        \n",
    "class Student2(School):\n",
    "    def func3(self):\n",
    "        print(\"This function is in student 2.\")\n",
    "        \n",
    "class Student3(Student1, School):\n",
    "    def func4(self):\n",
    "        print(\"This function is in student 3.\")\n",
    "        \n",
    "# Driver's code\n",
    "object = Student3()\n",
    "object.func1()\n",
    "object.func2()\n",
    "object.func4()"
   ]
  }
 ],
 "metadata": {
  "kernelspec": {
   "display_name": "Python 3 (ipykernel)",
   "language": "python",
   "name": "python3"
  },
  "language_info": {
   "codemirror_mode": {
    "name": "ipython",
    "version": 3
   },
   "file_extension": ".py",
   "mimetype": "text/x-python",
   "name": "python",
   "nbconvert_exporter": "python",
   "pygments_lexer": "ipython3",
   "version": "3.10.8"
  }
 },
 "nbformat": 4,
 "nbformat_minor": 5
}
