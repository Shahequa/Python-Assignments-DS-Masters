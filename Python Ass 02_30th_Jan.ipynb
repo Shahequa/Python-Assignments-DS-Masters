{
 "cells": [
  {
   "cell_type": "code",
   "execution_count": 1,
   "id": "ff152dd4-65b1-47fd-b6e3-978af7bdc8b0",
   "metadata": {},
   "outputs": [
    {
     "name": "stdin",
     "output_type": "stream",
     "text": [
      "Enter your marks:  91\n"
     ]
    },
    {
     "name": "stdout",
     "output_type": "stream",
     "text": [
      "Excellent, you have got grade A\n"
     ]
    }
   ],
   "source": [
    "#   1. Write a program to accept percentage from the user and display the grade according to the following \n",
    "#      criteria: \n",
    "#       marks         grade\n",
    "#       >90             A\n",
    "#       >80 and <=90    B\n",
    "#       >=60 and <=80   C\n",
    "#       below 60        D\n",
    "\n",
    "marks = int(input(\"Enter your marks: \"))\n",
    "\n",
    "if marks > 90:\n",
    "    print(\"Excellent, you have got grade A\")\n",
    "elif marks > 80 and marks <= 90:\n",
    "    print(\"Good, you have got grade B\")\n",
    "elif marks >= 60 and marks <= 80:\n",
    "    print(\"Keep it up, you have got grade C\")\n",
    "elif marks <60:\n",
    "    print(\"Work hard, you have got grade D\")\n",
    "else:\n",
    "    print(\"Invalid marks\")"
   ]
  },
  {
   "cell_type": "code",
   "execution_count": 2,
   "id": "0e5c667a-6c97-4c9b-bf8c-1f4304b36bc1",
   "metadata": {},
   "outputs": [
    {
     "name": "stdin",
     "output_type": "stream",
     "text": [
      "Enter the cost price of the bike 50000\n"
     ]
    },
    {
     "name": "stdout",
     "output_type": "stream",
     "text": [
      "The road taxx to be paid is  2500.0\n"
     ]
    }
   ],
   "source": [
    "#  2. Write a program to accept the cost price of a bike and display the road tax to be paid according to the \n",
    "#     following criteria: \n",
    "#         Tax         Cost Price(in Rs)\n",
    "#         15%         >100000     \n",
    "#         10%         >50000 and <= 100000\n",
    "#         5%          <= 50000\n",
    "\n",
    "CP = int(input(\"Enter the cost price of the bike\"))\n",
    "\n",
    "if CP > 100000:\n",
    "    print(\"The road taxx to be paid is \", (15/100)*CP)\n",
    "elif CP > 50000 and CP <= 100000:\n",
    "    print(\"The road taxx to be paid is \", (10/100)*CP)\n",
    "else:\n",
    "    print(\"The road taxx to be paid is \", (5/100)*CP)"
   ]
  },
  {
   "cell_type": "code",
   "execution_count": 3,
   "id": "bd872701-733f-4520-b078-1d4caf39bf83",
   "metadata": {},
   "outputs": [
    {
     "name": "stdin",
     "output_type": "stream",
     "text": [
      "Enter the name of the city:  Agra\n"
     ]
    },
    {
     "name": "stdout",
     "output_type": "stream",
     "text": [
      "The famous monument is Taj Mahal\n"
     ]
    }
   ],
   "source": [
    "# 3.Accept any city from the user and display monuments of that city.\n",
    "#     City      Monuments\n",
    "#     Delhi      Red Fort\n",
    "#     Agra       Taj Mahal\n",
    "#     Jaipur     Jal Mahal\n",
    "\n",
    "city = input(\"Enter the name of the city: \")\n",
    "if city == 'Delhi':\n",
    "    print(\"The famous monument is Red Fort\")\n",
    "elif city == 'Agra':\n",
    "    print(\"The famous monument is Taj Mahal\")\n",
    "elif city == 'Jaipur':\n",
    "    print(\"The famous monument is Jal Mahal\")\n",
    "else:\n",
    "    print(\"City Not Found\")"
   ]
  },
  {
   "cell_type": "markdown",
   "id": "36a159a9-74e5-4127-8249-ea431b1a30cd",
   "metadata": {},
   "source": [
    "### 4. Check how many times a given number can be divided by 3 before it is less than or equal to 10. "
   ]
  },
  {
   "cell_type": "code",
   "execution_count": 4,
   "id": "54929e30-99de-40b5-820c-dc13defd4269",
   "metadata": {},
   "outputs": [
    {
     "name": "stdin",
     "output_type": "stream",
     "text": [
      "Enter the number:  900\n"
     ]
    },
    {
     "name": "stdout",
     "output_type": "stream",
     "text": [
      "Answer : 4 times\n"
     ]
    }
   ],
   "source": [
    "num = int(input(\"Enter the number: \"))\n",
    "count = 0\n",
    "while num > 10:\n",
    "    num = num/3\n",
    "    if num <= 10:\n",
    "        break\n",
    "    count += 1\n",
    "print(\"Answer :\",count, \"times\")    "
   ]
  },
  {
   "cell_type": "markdown",
   "id": "ad67af5e-8c71-4a73-a753-3e2022c0b462",
   "metadata": {},
   "source": [
    "### 5. Why and When to Use while Loop in Python? Give a detailed description with example. "
   ]
  },
  {
   "cell_type": "markdown",
   "id": "0470c7a7-128f-4c43-98e6-bbdb5ab1837f",
   "metadata": {},
   "source": [
    "A While loop in Python allows a part of the code to be executed repeatedly as long as a given condition is true. The While loop in Python is also called a pre-tested loop. It is typically used when the number of iterations is not known.\n",
    "\n",
    "A Python While loop expression/condition consists of three parts:\n",
    "\n",
    "   ```A piece of code that needs to be repeated over and over```\n",
    "   \n",
    "   ```The while keyword```\n",
    "   \n",
    "   ```A condition that translates to either True or False```\n",
    "\n",
    "In Python, the test condition/expression will be checked first. If the condition holds True, the body of the loop will be entered.\n",
    "\n",
    "After one iteration, it will check the condition again.\n",
    "\n",
    "The process will continue until the condition becomes False.\n",
    "\n",
    "If the condition holds False, it will exit the body."
   ]
  },
  {
   "cell_type": "code",
   "execution_count": 5,
   "id": "de02deaa-d2b3-41d3-9b7b-b3beeaddea78",
   "metadata": {},
   "outputs": [
    {
     "name": "stdout",
     "output_type": "stream",
     "text": [
      "1\n",
      "2\n",
      "3\n",
      "4\n"
     ]
    }
   ],
   "source": [
    "# Example\n",
    "i = 1\n",
    "while i<5:\n",
    "    print(i)\n",
    "    i += 1"
   ]
  },
  {
   "cell_type": "markdown",
   "id": "21dfa639-aeab-49c2-b143-f536dd13d6ff",
   "metadata": {},
   "source": [
    "### 6. Use nested while loop to print 3 different pattern. "
   ]
  },
  {
   "cell_type": "code",
   "execution_count": 6,
   "id": "57b738f3-3785-4609-b74d-834109949eb5",
   "metadata": {},
   "outputs": [
    {
     "name": "stdin",
     "output_type": "stream",
     "text": [
      "Enter the number of rows:  8\n"
     ]
    },
    {
     "name": "stdout",
     "output_type": "stream",
     "text": [
      "* \n",
      "* * \n",
      "* * * \n",
      "* * * * \n",
      "* * * * * \n",
      "* * * * * * \n",
      "* * * * * * * \n",
      "* * * * * * * * \n"
     ]
    },
    {
     "name": "stdin",
     "output_type": "stream",
     "text": [
      "Enter the number of rows:  8\n"
     ]
    },
    {
     "name": "stdout",
     "output_type": "stream",
     "text": [
      "              * * * * * * * * * \n",
      "               * * * * * * * * \n",
      "                * * * * * * * \n",
      "                 * * * * * * \n",
      "                  * * * * * \n",
      "                   * * * * \n",
      "                    * * * \n",
      "                     * * \n",
      "                      * \n"
     ]
    },
    {
     "name": "stdin",
     "output_type": "stream",
     "text": [
      "Enter the number of rows:  8\n"
     ]
    },
    {
     "name": "stdout",
     "output_type": "stream",
     "text": [
      "* * * * * * * * \n",
      "  * * * * * * * \n",
      "    * * * * * * \n",
      "      * * * * * \n",
      "        * * * * \n",
      "          * * * \n",
      "            * * \n",
      "              * \n"
     ]
    }
   ],
   "source": [
    "#Pattern 1: Simple Half Pyramid\n",
    "n1 = int(input(\"Enter the number of rows: \"))\n",
    "i = 1\n",
    "while i <= n1:\n",
    "    j = 1\n",
    "    while j <= i:\n",
    "        print(\"*\", end = \" \")\n",
    "        j += 1\n",
    "    print()\n",
    "    i += 1\n",
    "\n",
    "## Pattern 2: Downward Full Pyramid\n",
    "n2 = int(input(\"Enter the number of rows: \"))\n",
    "k = 2 * n2 - 2\n",
    "for i in range(n2, -1, -1):\n",
    "    for j in range(k, 0, -1):\n",
    "        print(end=\" \")\n",
    "    k = k + 1\n",
    "    for j in range(0, i + 1):\n",
    "        print(\"*\", end=\" \")\n",
    "    print(\"\")\n",
    "    \n",
    "### Pattern 3: Right Down Mirror\n",
    "n3 = int(input(\"Enter the number of rows: \"))\n",
    "i = n3\n",
    "while i >= 1:\n",
    "    j = n3\n",
    "    while j > i:\n",
    "        print(\" \", end = \" \")\n",
    "        j -= 1\n",
    "    k = 1\n",
    "    while k <= i:\n",
    "        print(\"*\", end = ' ')\n",
    "        k += 1\n",
    "    print()\n",
    "    i -= 1"
   ]
  },
  {
   "cell_type": "markdown",
   "id": "f9012fc7-9c5a-4701-aecc-2e2815ebc4f2",
   "metadata": {},
   "source": [
    "### 7. Reverse a while loop to display numbers from 10 to 1. "
   ]
  },
  {
   "cell_type": "code",
   "execution_count": 7,
   "id": "c73064e8-6e38-4184-a42a-ff9a55f3d74d",
   "metadata": {},
   "outputs": [
    {
     "name": "stdout",
     "output_type": "stream",
     "text": [
      "10\n",
      "9\n",
      "8\n",
      "7\n",
      "6\n",
      "5\n",
      "4\n",
      "3\n",
      "2\n",
      "1\n"
     ]
    }
   ],
   "source": [
    "i = 10\n",
    "while i > 0:\n",
    "    print(i)\n",
    "    i -= 1"
   ]
  },
  {
   "cell_type": "markdown",
   "id": "62a27549-2848-482a-bdd5-4dfc576d0bb6",
   "metadata": {},
   "source": [
    "### 8. Reverse a while loop to display numbers from 10 to 1. "
   ]
  },
  {
   "cell_type": "code",
   "execution_count": 8,
   "id": "4ab056c0-db21-467f-aa90-bbbd794a9f8f",
   "metadata": {},
   "outputs": [
    {
     "name": "stdout",
     "output_type": "stream",
     "text": [
      "10\n",
      "9\n",
      "8\n",
      "7\n",
      "6\n",
      "5\n",
      "4\n",
      "3\n",
      "2\n",
      "1\n"
     ]
    }
   ],
   "source": [
    "i = 10\n",
    "while i > 0:\n",
    "    print(i)\n",
    "    i -= 1"
   ]
  },
  {
   "cell_type": "code",
   "execution_count": null,
   "id": "a4cf4849-7e2f-4648-9f21-4e8c39e707ba",
   "metadata": {},
   "outputs": [],
   "source": []
  }
 ],
 "metadata": {
  "kernelspec": {
   "display_name": "Python 3 (ipykernel)",
   "language": "python",
   "name": "python3"
  },
  "language_info": {
   "codemirror_mode": {
    "name": "ipython",
    "version": 3
   },
   "file_extension": ".py",
   "mimetype": "text/x-python",
   "name": "python",
   "nbconvert_exporter": "python",
   "pygments_lexer": "ipython3",
   "version": "3.10.8"
  }
 },
 "nbformat": 4,
 "nbformat_minor": 5
}
