{
 "cells": [
  {
   "cell_type": "markdown",
   "id": "872aabf5-a827-4724-a5db-14a604668716",
   "metadata": {},
   "source": [
    "### Python Assignment 11 - Files\n",
    "*By Shahequa Modabbera*"
   ]
  },
  {
   "cell_type": "markdown",
   "id": "fce18206-0269-4941-93c9-22d045210efe",
   "metadata": {},
   "source": [
    "### Q1. Which function is used to open a file? What are the different modes of opening a file? Explain each mode of file opening."
   ]
  },
  {
   "cell_type": "markdown",
   "id": "9d9ef019-4bac-452b-abbe-00fa03968cb1",
   "metadata": {},
   "source": [
    "`Ans) In Python, we use the built-in open() function to open files. Ideally, it takes two string arguments:`\n",
    "\n",
    "1. The file path including the file name and the extension we want to open, is to be passed as a string\n",
    "\n",
    "2. The mode in which we want to open the file, to be passed as a string.\n",
    "\n",
    "**The syntax for opening a file: open(\"myfile.txt\", \"mode\")**\n",
    "\n",
    "`The different modes of opening a file are as follows:`\n",
    "\n",
    "1. In ‘r’ mode, the file opens in the read mode. By default, if we don’t specify the mode argument, it will be treated as read or ‘r’ mode. For Example, To open our file myfile.txt in ‘r’ mode:\n",
    "\n",
    "`open(\"myfile.txt\") or open(\"myfile.txt\", \"r\")`\n",
    "\n",
    "2. In the ‘w’ mode, the file opens in write mode. It removes existing content, if present, in the file. If the specified file doesn’t exist, it creates one with the specified name. For Example, To open our file myfile.txt in ‘w’ mode:\n",
    "\n",
    "`open(\"myfile.txt\", \"w\")`\n",
    "\n",
    "3. In the ‘a’ mode, the file opens in append mode. It adds content to an existing file (or append at the end of the file). If the specified file doesn’t exist, it creates one with the specified name. It does not remove the existing content from the file. For Example, To open our file myfile.txt in ‘a’ mode:\n",
    "\n",
    "`open(\"myfile.txt\", \"a\")`\n",
    "\n",
    "4. In the ‘r+’ mode, the file opens in the read & write mode. It does not remove existing content, if present, in the file and does not create a file if not present in the directory. For Example, To open our file myfile.txt in ‘r+‘ mode:\n",
    "\n",
    "`open(\"myfile.txt\", \"r+\")`\n",
    "\n",
    "5. In the ‘w+’ mode, open the file in the read & write mode & remove existing content. If the file doesn’t exist, it creates a new one. It does not remove existing content & if a file doesn’t exist, it creates a new one. For Example, To open our file myfile.txt in ‘w+’ mode:\n",
    "\n",
    "`open(\"myfile.txt\", \"w+\")`\n",
    "\n",
    "6. In the ‘a+’ mode, the file opens in the read & append mode. It does not remove existing content & If the file doesn’t exist, it creates a new one. For Example, To open our file myfile.txt in a+ mode:\n",
    "\n",
    "`open(\"myfile.txt\", \"a+\")`\n",
    "\n",
    "***The modes discussed above are being used on a text file. To use these modes for a binary file, we need to use a different combination of file opening mode arguments. Using ‘b’ with any mode, For example, ‘ab’, ‘rb’, ‘wb’, ‘rb+’, the file opens in binary mode. It is used for non-textual files like image, sound, executable (.exe) files.***\n",
    "\n",
    "*For Example, To open our file myfile.txt in b mode:*\n",
    "\n",
    "`open(\"myfile.txt\", \"rb\")`"
   ]
  },
  {
   "cell_type": "markdown",
   "id": "937a081b-3938-44b1-b70e-1d3988c16cf5",
   "metadata": {},
   "source": [
    "### Q2. Why close() function is used? Why is it important to close a file?"
   ]
  },
  {
   "cell_type": "markdown",
   "id": "4484001e-6c46-4f18-b98e-3a094a375220",
   "metadata": {},
   "source": [
    "`Ans) The close() function is used to close an open file.`\n",
    "\n",
    "`It's important to close a file in Python for several reasons:`\n",
    "\n",
    "`1) Releasing resources: When you open a file, your system reserves resources, such as memory, for that file. Closing the file frees up those resources for other tasks.`\n",
    "\n",
    "`2) Preventing data corruption: When you write to a file, the data is not immediately written to the file system. It's stored in a buffer, which is flushed to the file system when the file is closed. If you don't close a file properly, the data in the buffer may not be written to the file, leading to data corruption.`\n",
    "\n",
    "`3) Avoiding file lock issues: When you open a file, it's locked for use by the current process. If you don't close the file, other processes may not be able to access it, leading to file lock issues.`\n",
    "\n",
    "`4) Proper file management: Properly closing files helps ensure that the file system remains in a consistent state. If you don't close a file, the file may remain open, even after the Python process has exited, which can lead to unexpected behavior in other programs that try to access the file.`\n",
    "\n",
    "`5) It is important to always close our files, in some cases, due to buffering, changes made to a file may not show until we close the file.`"
   ]
  },
  {
   "cell_type": "code",
   "execution_count": 1,
   "id": "87197541-9f12-431e-9e6e-9ee8f79bd433",
   "metadata": {},
   "outputs": [],
   "source": [
    "#open the file in read mode \n",
    "file = open(\"file.txt\", 'r')\n",
    "#reading the file\n",
    "file.read()\n",
    "#closing the file\n",
    "file.close()"
   ]
  },
  {
   "cell_type": "markdown",
   "id": "8a985800-7f0e-4a2d-ab81-b9fadf539cf3",
   "metadata": {},
   "source": [
    "### Q3. Write a python program to create a text file. Write ‘I want to become a Data Scientist’ in that file. Then close the file. Open this file and read the content of the file."
   ]
  },
  {
   "cell_type": "code",
   "execution_count": 2,
   "id": "b3126018-302d-40a3-89d1-4516a93b0fd7",
   "metadata": {},
   "outputs": [
    {
     "data": {
      "text/plain": [
       "'I want to become a Data Scientist'"
      ]
     },
     "execution_count": 2,
     "metadata": {},
     "output_type": "execute_result"
    }
   ],
   "source": [
    "#creating a file\n",
    "file = open(\"file.txt\", 'w')\n",
    "#writing in the file\n",
    "file.write(\"I want to become a Data Scientist\")\n",
    "#closing the file\n",
    "file.close()\n",
    "#opening the file\n",
    "content = open(\"file.txt\", 'r')\n",
    "#reading the file\n",
    "content.read()"
   ]
  },
  {
   "cell_type": "markdown",
   "id": "79894fc9-cdd6-42d4-a701-b65d40ea965c",
   "metadata": {},
   "source": [
    "### Q4. Explain the following with python code: read(), readline() and readlines()."
   ]
  },
  {
   "cell_type": "markdown",
   "id": "0b50a9fc-670a-4759-af79-3146404415a4",
   "metadata": {},
   "source": [
    "`The read method reads the entire contents of a file and returns it as a string.`\n",
    "\n",
    "`The readline method reads a single line from a file and returns it as a string. This means that if we use readline, we can read the contents of a file line by line, which can be useful for processing large files that do not fit in memory.`\n",
    "\n",
    "`The readlines method reads the entire contents of a file and returns it as a list of strings, where each element of the list is a single line of the file.`"
   ]
  },
  {
   "cell_type": "code",
   "execution_count": 3,
   "id": "a1dd9796-86b7-4374-b2c9-e93e54a99732",
   "metadata": {},
   "outputs": [],
   "source": [
    "#Example: Creating a file \n",
    "f = open(\"test.txt\", 'w')\n",
    "#writing the content\n",
    "f.write('''The read method reads the entire contents of a file and returns it as a string.\n",
    "The readline method reads a single line from a file and returns it as a string. This means that if we use readline, we can read the contents of a file line by line, which can be useful for processing large files that do not fit in memory.\n",
    "The readlines method reads the entire contents of a file and returns it as a list of strings, where each element of the list is a single line of the file.''')\n",
    "#closing it \n",
    "f.close()"
   ]
  },
  {
   "cell_type": "code",
   "execution_count": 4,
   "id": "2051bf4d-5cc7-4403-8eba-ecd8fce164e1",
   "metadata": {},
   "outputs": [
    {
     "name": "stdout",
     "output_type": "stream",
     "text": [
      "The read method reads the entire contents of a file and returns it as a string.\n",
      "The readline method reads a single line from a file and returns it as a string. This means that if we use readline, we can read the contents of a file line by line, which can be useful for processing large files that do not fit in memory.\n",
      "The readlines method reads the entire contents of a file and returns it as a list of strings, where each element of the list is a single line of the file.\n"
     ]
    }
   ],
   "source": [
    "#read() function\n",
    "with open(\"test.txt\", 'r') as f:\n",
    "    content = f.read()\n",
    "    print(content)"
   ]
  },
  {
   "cell_type": "code",
   "execution_count": 5,
   "id": "2440bd46-cfcf-4623-8ce2-a40cac832974",
   "metadata": {},
   "outputs": [
    {
     "name": "stdout",
     "output_type": "stream",
     "text": [
      "The read method reads the entire contents of a file and returns it as a string.\n",
      "\n"
     ]
    }
   ],
   "source": [
    "#readline() function\n",
    "with open (\"test.txt\", 'r') as f:\n",
    "    line = f.readline()\n",
    "    print(line)"
   ]
  },
  {
   "cell_type": "code",
   "execution_count": 6,
   "id": "8fd4fb27-6ed1-44d8-838f-2fa8e36008c0",
   "metadata": {},
   "outputs": [
    {
     "name": "stdout",
     "output_type": "stream",
     "text": [
      "['The read method reads the entire contents of a file and returns it as a string.\\n', 'The readline method reads a single line from a file and returns it as a string. This means that if we use readline, we can read the contents of a file line by line, which can be useful for processing large files that do not fit in memory.\\n', 'The readlines method reads the entire contents of a file and returns it as a list of strings, where each element of the list is a single line of the file.']\n"
     ]
    }
   ],
   "source": [
    "#readlines() function\n",
    "with open(\"test.txt\", 'r') as f:\n",
    "    lines = f.readlines()\n",
    "    print(lines)"
   ]
  },
  {
   "cell_type": "markdown",
   "id": "619df417-774e-4cb3-90d9-84ca02e81a57",
   "metadata": {},
   "source": [
    "### Q5. Explain why with statement is used with open(). What is the advantage of using with statement and open() together?"
   ]
  },
  {
   "cell_type": "markdown",
   "id": "cb19fce0-f8c9-49fe-a141-80e78f092f95",
   "metadata": {},
   "source": [
    "`Ans) The with statement works with the open() function to open a file.` \n",
    "\n",
    "`Unlike open() where we have to close the file with the close() method, the with statement closes the file for us without us telling it to. This is because the with statement calls 2 built-in methods behind the scene – __enter()__ and __exit()__ . The __exit()__ method closes the file when the operation you specify is done.`"
   ]
  },
  {
   "cell_type": "code",
   "execution_count": 7,
   "id": "4a710c48-242c-433a-b2f5-11283b1dca2a",
   "metadata": {},
   "outputs": [
    {
     "name": "stdout",
     "output_type": "stream",
     "text": [
      "I want to become a Data Scientist\n"
     ]
    }
   ],
   "source": [
    "with open(\"file.txt\", 'r') as file:\n",
    "    content = file.read()\n",
    "    print(content)"
   ]
  },
  {
   "cell_type": "markdown",
   "id": "8d2b22ec-dc3b-487f-86a7-259c1a8ffd7b",
   "metadata": {},
   "source": [
    "`In this example, the file text_file.txt is opened using the open() function, and the with statement is used to manage the file's lifetime. The file is automatically closed when the with block is exited, even if an exception is raised during processing.`\n",
    "\n",
    "`The advantage of using the with statement with open() is that it provides a way to handle file I/O in a clean and consistent manner. It eliminates the need to manually close the file using the file.close() method, which can be prone to errors, especially if there are multiple files being processed or if an exception is raised during processing.`\n",
    "\n",
    "`By using the with statement, you can ensure that the file is properly closed, even if an exception is raised, which helps to prevent resource leaks and makes your code more robust and reliable.`"
   ]
  },
  {
   "cell_type": "markdown",
   "id": "ea8c9f99-6e51-4167-b291-836c69712ec5",
   "metadata": {},
   "source": [
    "### Q6. Explain the write() and writelines() functions. Give a suitable example."
   ]
  },
  {
   "cell_type": "markdown",
   "id": "ca9698c4-fe32-4cad-b378-7997eaf93c2e",
   "metadata": {},
   "source": [
    "`Ans) write() function: The write() function will write the content in the file without adding any extra characters.`\n",
    "\n",
    "`writelines() function: This function writes the content of a list to a file.`"
   ]
  },
  {
   "cell_type": "code",
   "execution_count": 8,
   "id": "bba5db74-4775-45ac-90d2-0ed80e43b471",
   "metadata": {},
   "outputs": [
    {
     "name": "stdout",
     "output_type": "stream",
     "text": [
      "I want to become a Data Scientist\n"
     ]
    }
   ],
   "source": [
    "#write() function\n",
    "# Open a file for writing\n",
    "with open(\"text_file.txt\", \"w\") as file:\n",
    "    file.write(\"I want to become a Data Scientist\")\n",
    "    \n",
    "with open(\"text_file.txt\",\"r\") as file:\n",
    "    content = file.read()\n",
    "    print(content)"
   ]
  },
  {
   "cell_type": "code",
   "execution_count": 9,
   "id": "2cdecf6e-748d-4a80-ab25-fec3c844aac5",
   "metadata": {},
   "outputs": [
    {
     "name": "stdout",
     "output_type": "stream",
     "text": [
      "I want to become a Data Scientist I will become a Data Scientist\n"
     ]
    }
   ],
   "source": [
    "#writelines() function\n",
    "# Open a file for writing\n",
    "with open(\"text_file1.txt\", \"w\") as file:\n",
    "    lines = [\"I want to become a Data Scientist \", \"I will become a Data Scientist\"]\n",
    "    file.writelines(lines)\n",
    "\n",
    "with open(\"text_file1.txt\",\"r\") as file:\n",
    "    content = file.read()\n",
    "    print(content)"
   ]
  },
  {
   "cell_type": "markdown",
   "id": "1f67ec48-f27e-46aa-9510-e66932590a2a",
   "metadata": {},
   "source": [
    "`The only difference between the write() and writelines() is that write() is used to write a string to an already opened file while writelines() method is used to write a list of strings in an opened file.`"
   ]
  }
 ],
 "metadata": {
  "kernelspec": {
   "display_name": "Python 3 (ipykernel)",
   "language": "python",
   "name": "python3"
  },
  "language_info": {
   "codemirror_mode": {
    "name": "ipython",
    "version": 3
   },
   "file_extension": ".py",
   "mimetype": "text/x-python",
   "name": "python",
   "nbconvert_exporter": "python",
   "pygments_lexer": "ipython3",
   "version": "3.10.8"
  }
 },
 "nbformat": 4,
 "nbformat_minor": 5
}
